{
 "cells": [
  {
   "cell_type": "markdown",
   "metadata": {},
   "source": [
    "# Predicción de la producción de energía éolica con SKlearn.\n",
    "\n",
    "Este código pertenece a la primera práctica de la asignutra de Aprendizaje Automático.\n",
    "\n",
    "100471948 - Celia Patricio Ferrer\n",
    "\n",
    "100472039 - Alberto García de la Torre"
   ]
  },
  {
   "cell_type": "markdown",
   "metadata": {},
   "source": [
    "### Librerías necesarias."
   ]
  },
  {
   "cell_type": "code",
   "execution_count": 1,
   "metadata": {},
   "outputs": [],
   "source": [
    "import time\n",
    "import numpy as np\n",
    "import pandas as pd\n",
    "import seaborn as sns\n",
    "from sklearn import metrics\n",
    "import matplotlib.pyplot as plt\n",
    "\n",
    "# Modelos\n",
    "from sklearn import tree\n",
    "from sklearn.svm import SVR\n",
    "from sklearn.dummy import DummyRegressor\n",
    "from lineartree import LinearTreeRegressor\n",
    "from sklearn.linear_model import Ridge, Lasso\n",
    "from sklearn.linear_model import LinearRegression\n",
    "from sklearn.neighbors import KNeighborsRegressor\n",
    "from sklearn.model_selection import train_test_split\n",
    "from sklearn.preprocessing import StandardScaler, MinMaxScaler, RobustScaler\n",
    "from sklearn.preprocessing import MaxAbsScaler, Normalizer, QuantileTransformer\n",
    "\n",
    "# HPO\n",
    "from sklearn.model_selection import RandomizedSearchCV, KFold, GridSearchCV\n",
    "from scipy.stats import randint as sp_randint"
   ]
  },
  {
   "cell_type": "markdown",
   "metadata": {},
   "source": [
    "---\n",
    "## Lectura del archivo.\n",
    "---\n",
    "\n",
    "En primer lugar se lee el archivo que contiene los datos disponibles. Es decir, se realiza la lectura del archivo csv llamado *wind_ava.csv.gz*."
   ]
  },
  {
   "cell_type": "code",
   "execution_count": 2,
   "metadata": {},
   "outputs": [
    {
     "name": "stdout",
     "output_type": "stream",
     "text": [
      "                 datetime   energy     p54.162.1     p54.162.2     p54.162.3  \\\n",
      "0     2005-01-02 18:00:00   402.71  2.534970e+06  2.526864e+06  2.518754e+06   \n",
      "1     2005-01-03 00:00:00   696.80  2.537369e+06  2.529277e+06  2.521184e+06   \n",
      "2     2005-01-03 06:00:00  1591.15  2.533727e+06  2.525703e+06  2.517678e+06   \n",
      "3     2005-01-03 12:00:00  1338.62  2.534491e+06  2.526548e+06  2.518609e+06   \n",
      "4     2005-01-03 18:00:00   562.50  2.529543e+06  2.521623e+06  2.513702e+06   \n",
      "...                   ...      ...           ...           ...           ...   \n",
      "4743  2009-12-30 06:00:00  1280.13  2.407224e+06  2.400131e+06  2.393033e+06   \n",
      "4744  2009-12-30 12:00:00   855.00  2.407234e+06  2.400117e+06  2.393001e+06   \n",
      "4745  2009-12-30 18:00:00   117.06  2.401034e+06  2.393683e+06  2.386332e+06   \n",
      "4746  2009-12-31 12:00:00   516.96  2.393873e+06  2.386499e+06  2.379125e+06   \n",
      "4747  2009-12-31 18:00:00   867.07  2.392305e+06  2.384669e+06  2.377033e+06   \n",
      "\n",
      "         p54.162.4     p54.162.5     p54.162.6     p54.162.7     p54.162.8  \\\n",
      "0     2.510648e+06  2.502537e+06  2.531111e+06  2.522721e+06  2.514330e+06   \n",
      "1     2.513088e+06  2.504995e+06  2.533465e+06  2.525088e+06  2.516716e+06   \n",
      "2     2.509654e+06  2.501629e+06  2.529801e+06  2.521496e+06  2.513187e+06   \n",
      "3     2.510670e+06  2.502732e+06  2.530569e+06  2.522346e+06  2.514127e+06   \n",
      "4     2.505782e+06  2.497861e+06  2.525621e+06  2.517421e+06  2.509215e+06   \n",
      "...            ...           ...           ...           ...           ...   \n",
      "4743  2.385939e+06  2.378841e+06  2.403709e+06  2.396344e+06  2.388984e+06   \n",
      "4744  2.385885e+06  2.378768e+06  2.403700e+06  2.396317e+06  2.388935e+06   \n",
      "4745  2.378981e+06  2.371630e+06  2.397510e+06  2.389888e+06  2.382270e+06   \n",
      "4746  2.371752e+06  2.364378e+06  2.390276e+06  2.382632e+06  2.374982e+06   \n",
      "4747  2.369398e+06  2.361766e+06  2.388668e+06  2.380761e+06  2.372854e+06   \n",
      "\n",
      "      ...   v100.16   v100.17   v100.18   v100.19   v100.20   v100.21  \\\n",
      "0     ... -4.683596 -4.545396 -4.407196 -4.268996 -4.131295 -4.669626   \n",
      "1     ... -3.397886 -3.257192 -3.115998 -2.975304 -2.834609 -3.396390   \n",
      "2     ... -1.454105 -1.296447 -1.138290 -0.980134 -0.822476 -1.459094   \n",
      "3     ...  1.255015  1.370265  1.485515  1.600765  1.716015  1.210612   \n",
      "4     ...  1.939031  2.023847  2.108663  2.193977  2.278793  1.873673   \n",
      "...   ...       ...       ...       ...       ...       ...       ...   \n",
      "4743  ...  9.377886  9.271118  9.164849  9.058080  8.951312  9.402832   \n",
      "4744  ...  7.345796  7.500461  7.655624  7.810288  7.964953  7.457055   \n",
      "4745  ...  3.485674  3.535566  3.585458  3.635349  3.685241  3.505132   \n",
      "4746  ...  1.988424  2.123630  2.258837  2.394043  2.529749  1.960983   \n",
      "4747  ...  2.052784  2.017860  1.982437  1.947512  1.912089  2.064259   \n",
      "\n",
      "       v100.22   v100.23   v100.24   v100.25  \n",
      "0    -4.528932 -4.388736 -4.248540 -4.107846  \n",
      "1    -3.254198 -3.112506 -2.970314 -2.828622  \n",
      "2    -1.302933 -1.147271 -0.991110 -0.834949  \n",
      "3     1.319376  1.428140  1.536405  1.645169  \n",
      "4     1.953000  2.031829  2.111157  2.189986  \n",
      "...        ...       ...       ...       ...  \n",
      "4743  9.291075  9.179816  9.068059  8.956800  \n",
      "4744  7.604734  7.751915  7.899595  8.047274  \n",
      "4745  3.552030  3.598429  3.645328  3.691727  \n",
      "4746  2.094194  2.226906  2.360117  2.492829  \n",
      "4747  2.031829  1.998901  1.966471  1.934042  \n",
      "\n",
      "[4748 rows x 552 columns]\n"
     ]
    }
   ],
   "source": [
    "wind_ava = pd.read_csv('wind_ava.csv.gz', compression=\"gzip\")\n",
    "\n",
    "# Imprimir el dataframe.\n",
    "print(wind_ava)"
   ]
  },
  {
   "cell_type": "markdown",
   "metadata": {},
   "source": [
    "Como podemos ver, este dataset está formado por 4748 instancias y 552 atributos."
   ]
  },
  {
   "cell_type": "markdown",
   "metadata": {},
   "source": [
    "---\n",
    "## Filtrado de datos.\n",
    "---\n",
    "\n",
    "Se deben quitar las variables metereológicas que no correspondan a la localización de Sotavento, la localización 13.\n",
    "\n",
    "Estas variables serán las **variables de entrada** de nuestro problema."
   ]
  },
  {
   "cell_type": "code",
   "execution_count": 3,
   "metadata": {},
   "outputs": [
    {
     "name": "stdout",
     "output_type": "stream",
     "text": [
      "        p54.162.13  p55.162.13    cape.13    p59.162.13  lai_lv.13  lai_hv.13  \\\n",
      "0     2.510824e+06    9.186295  13.527577  1.386937e+06   2.344111   2.432983   \n",
      "1     2.513173e+06    8.849569   6.896412  1.153526e+06   2.343719   2.432838   \n",
      "2     2.509627e+06    7.924080   4.774439  1.098754e+06   2.343300   2.432704   \n",
      "3     2.510571e+06    6.922709   0.000000  1.076021e+06   2.342830   2.432514   \n",
      "4     2.505664e+06    6.646282   0.000000  1.070830e+06   2.342437   2.432369   \n",
      "...            ...         ...        ...           ...        ...        ...   \n",
      "4743  2.385772e+06   14.413342  24.971074  3.905586e+06   2.349839   2.434994   \n",
      "4744  2.385708e+06   12.802883  60.248874  2.745694e+06   2.349446   2.434849   \n",
      "4745  2.379049e+06   10.915997   3.145067  2.254171e+06   2.349054   2.434715   \n",
      "4746  2.371697e+06   13.048144  12.580268  1.376913e+06   2.347799   2.434291   \n",
      "4747  2.369547e+06    9.172745   8.487892  1.356687e+06   2.347406   2.434145   \n",
      "\n",
      "       u10n.13   v10n.13         sp.13     stl1.13  ...      t2m.13  \\\n",
      "0    -0.757587 -1.922799  99846.319914  280.960661  ...  280.473098   \n",
      "1    -1.412620 -1.403011  99917.733093  279.296651  ...  278.286616   \n",
      "2    -2.290185 -0.754580  99764.378681  278.233956  ...  277.206490   \n",
      "3    -3.497855  1.271028  99672.670459  280.787263  ...  280.926600   \n",
      "4    -0.971249  0.553060  99372.811211  279.583112  ...  277.363875   \n",
      "...        ...       ...           ...         ...  ...         ...   \n",
      "4743  4.595786  5.563189  95460.434452  281.680110  ...  280.731326   \n",
      "4744  4.894838  5.577096  95663.765406  282.842686  ...  283.310687   \n",
      "4745  0.958361  0.948029  95653.110509  282.027412  ...  281.060085   \n",
      "4746  5.278912  0.771754  95534.765044  280.814135  ...  279.662858   \n",
      "4747  4.578042  1.295018  95866.081608  279.805690  ...  277.552154   \n",
      "\n",
      "         stl2.13     stl3.13   iews.13   inss.13     stl4.13    fsr.13  \\\n",
      "0     281.042026  281.462478 -0.057958 -0.138650  284.684755  0.404731   \n",
      "1     280.747406  281.486541 -0.103576 -0.083050  284.667948  0.404920   \n",
      "2     280.114863  281.487095 -0.165721 -0.036241  284.651914  0.405704   \n",
      "3     279.991138  281.472435 -0.275550  0.098192  284.636266  0.403967   \n",
      "4     280.576898  281.473265 -0.056553  0.041844  284.620232  0.403808   \n",
      "...          ...         ...       ...       ...         ...       ...   \n",
      "4743  282.643490  281.676560  0.628948  0.879581  286.013271  0.424510   \n",
      "4744  282.370909  281.761750  0.740926  0.699769  285.988737  0.424762   \n",
      "4745  282.425812  281.841961  0.109802  0.125174  285.968452  0.415132   \n",
      "4746  281.153379  281.976385  0.705886  0.192834  285.904895  0.426707   \n",
      "4747  281.046666  281.997129  0.460114  0.160810  285.884804  0.426651   \n",
      "\n",
      "       flsr.13   u100.13   v100.13  \n",
      "0    -5.927092 -1.780562 -4.443617  \n",
      "1    -5.913881 -3.743344 -3.129469  \n",
      "2    -5.908272 -5.097203 -1.157748  \n",
      "3    -5.961995 -4.500835  1.502478  \n",
      "4    -5.987860 -3.392324  2.131114  \n",
      "...        ...       ...       ...  \n",
      "4743 -5.715421  6.922743  9.179816  \n",
      "4744 -5.732455  7.434887  7.537381  \n",
      "4745 -5.866856  3.033799  3.568993  \n",
      "4746 -5.693542  8.374951  2.219422  \n",
      "4747 -5.699429  7.103223  1.883651  \n",
      "\n",
      "[4748 rows x 22 columns]\n"
     ]
    }
   ],
   "source": [
    "X_df = wind_ava.filter(regex='.13$')\n",
    "# Imprimir el dataframe.\n",
    "print(X_df)"
   ]
  },
  {
   "cell_type": "code",
   "execution_count": 4,
   "metadata": {},
   "outputs": [
    {
     "name": "stdout",
     "output_type": "stream",
     "text": [
      "(4748, 22)\n"
     ]
    }
   ],
   "source": [
    "# Imprimir el tamaño del dataframe.\n",
    "print(X_df.shape)"
   ]
  },
  {
   "cell_type": "code",
   "execution_count": 5,
   "metadata": {},
   "outputs": [
    {
     "name": "stdout",
     "output_type": "stream",
     "text": [
      "     p54.162.13  p55.162.13    cape.13    p59.162.13  lai_lv.13  lai_hv.13  \\\n",
      "0  2.510824e+06    9.186295  13.527577  1.386937e+06   2.344111   2.432983   \n",
      "1  2.513173e+06    8.849569   6.896412  1.153526e+06   2.343719   2.432838   \n",
      "2  2.509627e+06    7.924080   4.774439  1.098754e+06   2.343300   2.432704   \n",
      "3  2.510571e+06    6.922709   0.000000  1.076021e+06   2.342830   2.432514   \n",
      "4  2.505664e+06    6.646282   0.000000  1.070830e+06   2.342437   2.432369   \n",
      "\n",
      "    u10n.13   v10n.13         sp.13     stl1.13  ...      t2m.13     stl2.13  \\\n",
      "0 -0.757587 -1.922799  99846.319914  280.960661  ...  280.473098  281.042026   \n",
      "1 -1.412620 -1.403011  99917.733093  279.296651  ...  278.286616  280.747406   \n",
      "2 -2.290185 -0.754580  99764.378681  278.233956  ...  277.206490  280.114863   \n",
      "3 -3.497855  1.271028  99672.670459  280.787263  ...  280.926600  279.991138   \n",
      "4 -0.971249  0.553060  99372.811211  279.583112  ...  277.363875  280.576898   \n",
      "\n",
      "      stl3.13   iews.13   inss.13     stl4.13    fsr.13   flsr.13   u100.13  \\\n",
      "0  281.462478 -0.057958 -0.138650  284.684755  0.404731 -5.927092 -1.780562   \n",
      "1  281.486541 -0.103576 -0.083050  284.667948  0.404920 -5.913881 -3.743344   \n",
      "2  281.487095 -0.165721 -0.036241  284.651914  0.405704 -5.908272 -5.097203   \n",
      "3  281.472435 -0.275550  0.098192  284.636266  0.403967 -5.961995 -4.500835   \n",
      "4  281.473265 -0.056553  0.041844  284.620232  0.403808 -5.987860 -3.392324   \n",
      "\n",
      "    v100.13  \n",
      "0 -4.443617  \n",
      "1 -3.129469  \n",
      "2 -1.157748  \n",
      "3  1.502478  \n",
      "4  2.131114  \n",
      "\n",
      "[5 rows x 22 columns]\n"
     ]
    }
   ],
   "source": [
    "# Imprimir las primeras filas del dataframe.\n",
    "print(X_df.head())"
   ]
  },
  {
   "cell_type": "code",
   "execution_count": 6,
   "metadata": {},
   "outputs": [
    {
     "name": "stdout",
     "output_type": "stream",
     "text": [
      "<class 'pandas.core.frame.DataFrame'>\n",
      "RangeIndex: 4748 entries, 0 to 4747\n",
      "Data columns (total 22 columns):\n",
      " #   Column      Non-Null Count  Dtype  \n",
      "---  ------      --------------  -----  \n",
      " 0   p54.162.13  4748 non-null   float64\n",
      " 1   p55.162.13  4748 non-null   float64\n",
      " 2   cape.13     4748 non-null   float64\n",
      " 3   p59.162.13  4748 non-null   float64\n",
      " 4   lai_lv.13   4748 non-null   float64\n",
      " 5   lai_hv.13   4748 non-null   float64\n",
      " 6   u10n.13     4748 non-null   float64\n",
      " 7   v10n.13     4748 non-null   float64\n",
      " 8   sp.13       4748 non-null   float64\n",
      " 9   stl1.13     4748 non-null   float64\n",
      " 10  u10.13      4748 non-null   float64\n",
      " 11  v10.13      4748 non-null   float64\n",
      " 12  t2m.13      4748 non-null   float64\n",
      " 13  stl2.13     4748 non-null   float64\n",
      " 14  stl3.13     4748 non-null   float64\n",
      " 15  iews.13     4748 non-null   float64\n",
      " 16  inss.13     4748 non-null   float64\n",
      " 17  stl4.13     4748 non-null   float64\n",
      " 18  fsr.13      4748 non-null   float64\n",
      " 19  flsr.13     4748 non-null   float64\n",
      " 20  u100.13     4748 non-null   float64\n",
      " 21  v100.13     4748 non-null   float64\n",
      "dtypes: float64(22)\n",
      "memory usage: 816.2 KB\n"
     ]
    }
   ],
   "source": [
    "# Imprimir el tipo de atributos.\n",
    "X_df.info()"
   ]
  },
  {
   "cell_type": "markdown",
   "metadata": {},
   "source": [
    "Para determinar si el problema es de regresión o de clasificación. \n",
    "\n",
    "- Si se trata de un problema de clasificación o de regresión (variable de salida es una clase o un valor continuo), y en caso de clasificación, si la clase está desequilibrada.\n",
    "\n",
    "En nuestro caso, la **varible de salida** es *energy*."
   ]
  },
  {
   "cell_type": "code",
   "execution_count": 7,
   "metadata": {},
   "outputs": [
    {
     "name": "stdout",
     "output_type": "stream",
     "text": [
      "0     402.71\n",
      "1     696.80\n",
      "2    1591.15\n",
      "3    1338.62\n",
      "4     562.50\n",
      "Name: energy, dtype: float64\n"
     ]
    }
   ],
   "source": [
    "# Imprimir los primeros valores la variable de salida.\n",
    "y_df = wind_ava['energy']\n",
    "print(y_df.head())"
   ]
  },
  {
   "cell_type": "markdown",
   "metadata": {},
   "source": [
    "Obtenemos que son valores númericos de salida, lo que significa que se trata de un **problema de reglesión**."
   ]
  },
  {
   "cell_type": "markdown",
   "metadata": {},
   "source": [
    "---\n",
    "## Análisis Exploratorio de Datos Simplificado.\n",
    "---"
   ]
  },
  {
   "cell_type": "markdown",
   "metadata": {},
   "source": [
    "### Variables.\n",
    "\n",
    "Identificar qué varibles son categóricas y qué variables son numéricas."
   ]
  },
  {
   "cell_type": "code",
   "execution_count": 8,
   "metadata": {},
   "outputs": [
    {
     "name": "stdout",
     "output_type": "stream",
     "text": [
      "Variables categóricas: Index([], dtype='object')\n",
      "Variables numéricas: Index(['p54.162.13', 'p55.162.13', 'cape.13', 'p59.162.13', 'lai_lv.13',\n",
      "       'lai_hv.13', 'u10n.13', 'v10n.13', 'sp.13', 'stl1.13', 'u10.13',\n",
      "       'v10.13', 't2m.13', 'stl2.13', 'stl3.13', 'iews.13', 'inss.13',\n",
      "       'stl4.13', 'fsr.13', 'flsr.13', 'u100.13', 'v100.13'],\n",
      "      dtype='object')\n"
     ]
    }
   ],
   "source": [
    "categoricas = X_df.select_dtypes(include=['object']).columns\n",
    "numericas = X_df.select_dtypes(exclude=['object']).columns\n",
    "\n",
    "# Imprimir por pantalla dicho resultado.\n",
    "print(\"Variables categóricas:\", categoricas)\n",
    "print(\"Variables numéricas:\", numericas)"
   ]
  },
  {
   "cell_type": "markdown",
   "metadata": {},
   "source": [
    "Obtenemos que todas las variables son numéricas, es decir, son características o atributos numéricos."
   ]
  },
  {
   "cell_type": "markdown",
   "metadata": {},
   "source": [
    "Análisis completo de cada variable."
   ]
  },
  {
   "cell_type": "code",
   "execution_count": 9,
   "metadata": {},
   "outputs": [
    {
     "data": {
      "text/html": [
       "<div>\n",
       "<style scoped>\n",
       "    .dataframe tbody tr th:only-of-type {\n",
       "        vertical-align: middle;\n",
       "    }\n",
       "\n",
       "    .dataframe tbody tr th {\n",
       "        vertical-align: top;\n",
       "    }\n",
       "\n",
       "    .dataframe thead th {\n",
       "        text-align: right;\n",
       "    }\n",
       "</style>\n",
       "<table border=\"1\" class=\"dataframe\">\n",
       "  <thead>\n",
       "    <tr style=\"text-align: right;\">\n",
       "      <th></th>\n",
       "      <th>Variable</th>\n",
       "      <th>Media</th>\n",
       "      <th>Desviación típica</th>\n",
       "      <th>Varianza</th>\n",
       "    </tr>\n",
       "  </thead>\n",
       "  <tbody>\n",
       "    <tr>\n",
       "      <th>18</th>\n",
       "      <td>fsr.13</td>\n",
       "      <td>4.136772e-01</td>\n",
       "      <td>7.602132e-03</td>\n",
       "      <td>5.779241e-05</td>\n",
       "    </tr>\n",
       "    <tr>\n",
       "      <th>19</th>\n",
       "      <td>flsr.13</td>\n",
       "      <td>-5.908467e+00</td>\n",
       "      <td>9.435944e-02</td>\n",
       "      <td>8.903704e-03</td>\n",
       "    </tr>\n",
       "    <tr>\n",
       "      <th>5</th>\n",
       "      <td>lai_hv.13</td>\n",
       "      <td>2.576284e+00</td>\n",
       "      <td>1.164342e-01</td>\n",
       "      <td>1.355691e-02</td>\n",
       "    </tr>\n",
       "    <tr>\n",
       "      <th>15</th>\n",
       "      <td>iews.13</td>\n",
       "      <td>7.422920e-02</td>\n",
       "      <td>3.670135e-01</td>\n",
       "      <td>1.346989e-01</td>\n",
       "    </tr>\n",
       "    <tr>\n",
       "      <th>16</th>\n",
       "      <td>inss.13</td>\n",
       "      <td>4.997084e-02</td>\n",
       "      <td>3.790142e-01</td>\n",
       "      <td>1.436517e-01</td>\n",
       "    </tr>\n",
       "    <tr>\n",
       "      <th>4</th>\n",
       "      <td>lai_lv.13</td>\n",
       "      <td>2.815222e+00</td>\n",
       "      <td>3.973773e-01</td>\n",
       "      <td>1.579087e-01</td>\n",
       "    </tr>\n",
       "    <tr>\n",
       "      <th>7</th>\n",
       "      <td>v10n.13</td>\n",
       "      <td>1.205277e-01</td>\n",
       "      <td>3.016766e+00</td>\n",
       "      <td>9.100875e+00</td>\n",
       "    </tr>\n",
       "    <tr>\n",
       "      <th>11</th>\n",
       "      <td>v10.13</td>\n",
       "      <td>1.671045e-01</td>\n",
       "      <td>3.058615e+00</td>\n",
       "      <td>9.355127e+00</td>\n",
       "    </tr>\n",
       "    <tr>\n",
       "      <th>6</th>\n",
       "      <td>u10n.13</td>\n",
       "      <td>3.862152e-01</td>\n",
       "      <td>3.100583e+00</td>\n",
       "      <td>9.613612e+00</td>\n",
       "    </tr>\n",
       "    <tr>\n",
       "      <th>10</th>\n",
       "      <td>u10.13</td>\n",
       "      <td>3.030704e-01</td>\n",
       "      <td>3.158104e+00</td>\n",
       "      <td>9.973619e+00</td>\n",
       "    </tr>\n",
       "    <tr>\n",
       "      <th>17</th>\n",
       "      <td>stl4.13</td>\n",
       "      <td>2.866682e+02</td>\n",
       "      <td>3.552873e+00</td>\n",
       "      <td>1.262291e+01</td>\n",
       "    </tr>\n",
       "    <tr>\n",
       "      <th>14</th>\n",
       "      <td>stl3.13</td>\n",
       "      <td>2.866660e+02</td>\n",
       "      <td>4.582827e+00</td>\n",
       "      <td>2.100230e+01</td>\n",
       "    </tr>\n",
       "    <tr>\n",
       "      <th>21</th>\n",
       "      <td>v100.13</td>\n",
       "      <td>3.282043e-01</td>\n",
       "      <td>4.667552e+00</td>\n",
       "      <td>2.178604e+01</td>\n",
       "    </tr>\n",
       "    <tr>\n",
       "      <th>20</th>\n",
       "      <td>u100.13</td>\n",
       "      <td>4.471745e-01</td>\n",
       "      <td>4.841730e+00</td>\n",
       "      <td>2.344235e+01</td>\n",
       "    </tr>\n",
       "    <tr>\n",
       "      <th>13</th>\n",
       "      <td>stl2.13</td>\n",
       "      <td>2.866638e+02</td>\n",
       "      <td>5.547947e+00</td>\n",
       "      <td>3.077972e+01</td>\n",
       "    </tr>\n",
       "    <tr>\n",
       "      <th>12</th>\n",
       "      <td>t2m.13</td>\n",
       "      <td>2.856893e+02</td>\n",
       "      <td>6.163483e+00</td>\n",
       "      <td>3.798852e+01</td>\n",
       "    </tr>\n",
       "    <tr>\n",
       "      <th>9</th>\n",
       "      <td>stl1.13</td>\n",
       "      <td>2.866664e+02</td>\n",
       "      <td>6.414325e+00</td>\n",
       "      <td>4.114356e+01</td>\n",
       "    </tr>\n",
       "    <tr>\n",
       "      <th>1</th>\n",
       "      <td>p55.162.13</td>\n",
       "      <td>1.600881e+01</td>\n",
       "      <td>6.552216e+00</td>\n",
       "      <td>4.293153e+01</td>\n",
       "    </tr>\n",
       "    <tr>\n",
       "      <th>2</th>\n",
       "      <td>cape.13</td>\n",
       "      <td>3.116654e+01</td>\n",
       "      <td>1.217590e+02</td>\n",
       "      <td>1.482525e+04</td>\n",
       "    </tr>\n",
       "    <tr>\n",
       "      <th>8</th>\n",
       "      <td>sp.13</td>\n",
       "      <td>9.782030e+04</td>\n",
       "      <td>7.136897e+02</td>\n",
       "      <td>5.093529e+05</td>\n",
       "    </tr>\n",
       "    <tr>\n",
       "      <th>0</th>\n",
       "      <td>p54.162.13</td>\n",
       "      <td>2.489477e+06</td>\n",
       "      <td>4.482599e+04</td>\n",
       "      <td>2.009369e+09</td>\n",
       "    </tr>\n",
       "    <tr>\n",
       "      <th>3</th>\n",
       "      <td>p59.162.13</td>\n",
       "      <td>1.706692e+06</td>\n",
       "      <td>1.466953e+06</td>\n",
       "      <td>2.151950e+12</td>\n",
       "    </tr>\n",
       "  </tbody>\n",
       "</table>\n",
       "</div>"
      ],
      "text/plain": [
       "      Variable         Media  Desviación típica      Varianza\n",
       "18      fsr.13  4.136772e-01       7.602132e-03  5.779241e-05\n",
       "19     flsr.13 -5.908467e+00       9.435944e-02  8.903704e-03\n",
       "5    lai_hv.13  2.576284e+00       1.164342e-01  1.355691e-02\n",
       "15     iews.13  7.422920e-02       3.670135e-01  1.346989e-01\n",
       "16     inss.13  4.997084e-02       3.790142e-01  1.436517e-01\n",
       "4    lai_lv.13  2.815222e+00       3.973773e-01  1.579087e-01\n",
       "7      v10n.13  1.205277e-01       3.016766e+00  9.100875e+00\n",
       "11      v10.13  1.671045e-01       3.058615e+00  9.355127e+00\n",
       "6      u10n.13  3.862152e-01       3.100583e+00  9.613612e+00\n",
       "10      u10.13  3.030704e-01       3.158104e+00  9.973619e+00\n",
       "17     stl4.13  2.866682e+02       3.552873e+00  1.262291e+01\n",
       "14     stl3.13  2.866660e+02       4.582827e+00  2.100230e+01\n",
       "21     v100.13  3.282043e-01       4.667552e+00  2.178604e+01\n",
       "20     u100.13  4.471745e-01       4.841730e+00  2.344235e+01\n",
       "13     stl2.13  2.866638e+02       5.547947e+00  3.077972e+01\n",
       "12      t2m.13  2.856893e+02       6.163483e+00  3.798852e+01\n",
       "9      stl1.13  2.866664e+02       6.414325e+00  4.114356e+01\n",
       "1   p55.162.13  1.600881e+01       6.552216e+00  4.293153e+01\n",
       "2      cape.13  3.116654e+01       1.217590e+02  1.482525e+04\n",
       "8        sp.13  9.782030e+04       7.136897e+02  5.093529e+05\n",
       "0   p54.162.13  2.489477e+06       4.482599e+04  2.009369e+09\n",
       "3   p59.162.13  1.706692e+06       1.466953e+06  2.151950e+12"
      ]
     },
     "metadata": {},
     "output_type": "display_data"
    }
   ],
   "source": [
    "resultados = []\n",
    "\n",
    "for variable in X_df.columns:\n",
    "    summary = X_df[variable].describe()\n",
    "    mean = summary['mean']\n",
    "    std_dev = summary['std']\n",
    "    variance = std_dev**2\n",
    "    resultados.append([variable, mean, std_dev, variance])\n",
    "\n",
    "# Convertir la lista de listas en un DataFrame y mostrarlo\n",
    "df_resultados = pd.DataFrame(resultados, columns=[\"Variable\", \"Media\", \"Desviación típica\", \"Varianza\"]).sort_values(by=\"Varianza\", ascending=True)\n",
    "pd.set_option('display.max_colwidth', None)\n",
    "display(df_resultados)\n"
   ]
  },
  {
   "cell_type": "markdown",
   "metadata": {},
   "source": [
    "Con el cálculo de la relación Varianza/Media, identificamos la dispersión relativa que hay de los datos en relación con su valor promedio. Tras analizar uno por uno todos los valores, hemos considerado que las siguientes variables tenían una relación muy baja:\n",
    "- fsr.13\n",
    "- flsr.13\n",
    "- lai_hv.13\n",
    "- iews.13\n",
    "- inss.13\n",
    "- lai_lv.13"
   ]
  },
  {
   "cell_type": "markdown",
   "metadata": {},
   "source": [
    "### Número de características e instancias."
   ]
  },
  {
   "cell_type": "code",
   "execution_count": 10,
   "metadata": {},
   "outputs": [
    {
     "name": "stdout",
     "output_type": "stream",
     "text": [
      "Nº de características:  22\n",
      "Nº de instancias:  4748\n"
     ]
    }
   ],
   "source": [
    "# Imprimir la cantidad de característica e instancias del dataframe.\n",
    "print(\"Nº de características: \", X_df.shape[1])\n",
    "print(\"Nº de instancias: \", X_df.shape[0])"
   ]
  },
  {
   "cell_type": "markdown",
   "metadata": {},
   "source": [
    "Es decir, el dataset está formado por 4748 instancias y 22 atributos o características."
   ]
  },
  {
   "cell_type": "markdown",
   "metadata": {},
   "source": [
    "### Valores faltantes.\n",
    "\n",
    "En esta sección se especifica si hay valores faltantes (*missing values*) y qué variables los tienen."
   ]
  },
  {
   "cell_type": "code",
   "execution_count": 11,
   "metadata": {},
   "outputs": [
    {
     "name": "stdout",
     "output_type": "stream",
     "text": [
      "p54.162.13    0\n",
      "p55.162.13    0\n",
      "cape.13       0\n",
      "p59.162.13    0\n",
      "lai_lv.13     0\n",
      "lai_hv.13     0\n",
      "u10n.13       0\n",
      "v10n.13       0\n",
      "sp.13         0\n",
      "stl1.13       0\n",
      "u10.13        0\n",
      "v10.13        0\n",
      "t2m.13        0\n",
      "stl2.13       0\n",
      "stl3.13       0\n",
      "iews.13       0\n",
      "inss.13       0\n",
      "stl4.13       0\n",
      "fsr.13        0\n",
      "flsr.13       0\n",
      "u100.13       0\n",
      "v100.13       0\n",
      "dtype: int64\n"
     ]
    }
   ],
   "source": [
    "# Imprimir la cantidad de valores faltantes por variable.\n",
    "print(X_df.isnull().sum())"
   ]
  },
  {
   "cell_type": "markdown",
   "metadata": {},
   "source": [
    "Como podemos ver, no hay ninguna variable con valores faltantes."
   ]
  },
  {
   "cell_type": "markdown",
   "metadata": {},
   "source": [
    "### Columnas constantes.\n",
    "\n",
    "Evualuación de columnas constantes y en caso de haberlas, eliminarlas."
   ]
  },
  {
   "cell_type": "code",
   "execution_count": 12,
   "metadata": {},
   "outputs": [
    {
     "name": "stdout",
     "output_type": "stream",
     "text": [
      "Columnas constantes eliminadas: Index([], dtype='object')\n"
     ]
    }
   ],
   "source": [
    "columnas_constantes = X_df.columns[X_df.nunique() == 1]\n",
    "X_df = X_df.drop(columnas_constantes, axis=1)\n",
    "print(\"Columnas constantes eliminadas:\", columnas_constantes)"
   ]
  },
  {
   "cell_type": "markdown",
   "metadata": {},
   "source": [
    "Como podemos ver, no hay columnas constantes. Sin embargo, como hemos calculado anteriormente, hay algunas columnas con varianza muy pequeña, las tendremos en cuenta posteriormente."
   ]
  },
  {
   "cell_type": "markdown",
   "metadata": {},
   "source": [
    "### Correlación de variables\n",
    "\n",
    "En esta sección, analizaremos la correlación que pueda existir entre las variables, incluyendo la variable de salida. Esto lo realizaremos a través de la matriz de correlación. Y destacaremos aquellas variables con una alta correlación para tenerlas en cuenta posteriormente."
   ]
  },
  {
   "cell_type": "code",
   "execution_count": 13,
   "metadata": {},
   "outputs": [
    {
     "data": {
      "text/plain": [
       "<Axes: >"
      ]
     },
     "execution_count": 13,
     "metadata": {},
     "output_type": "execute_result"
    },
    {
     "data": {
      "image/png": "[encoded data removed]",
      "text/plain": [
       "<Figure size 2000x1500 with 2 Axes>"
      ]
     },
     "metadata": {},
     "output_type": "display_data"
    }
   ],
   "source": [
    "# Creamos la matriz de correlación\n",
    "plt.figure(figsize=(20, 15))\n",
    "df = X_df.copy()\n",
    "df.insert(0, 'energy', wind_ava['energy'])\n",
    "correlation_matrix = df.corr()\n",
    "sns.heatmap(data=correlation_matrix, annot=True)"
   ]
  },
  {
   "cell_type": "markdown",
   "metadata": {},
   "source": [
    "En cuanto a la correlación negativa, ningún par de variables presentan dicha correlación, ya que ninguna rebaja el -0.4. Sin embargo, hay algunos pares de variables que muestran una alta correlación positiva. Y estos son los siguientes:\n",
    "- u10 - u10n\n",
    "- v10 - v10n\n",
    "- lai_lv - lai_hv\n",
    "- u10n - iews\n",
    "- u100 - iews\n",
    "- v100 - inss\n",
    "- stl2 - stl3\n",
    "- u100 - u10\n",
    "- v100 - v10\n",
    "- u100 - u10n\n",
    "- v100 - v10n\n",
    "- flsr - fsr\n",
    "- lai_lv - stl2\n",
    "- lai_hv - stl2\n",
    "\n",
    "Mientras que entre las variables de entrada con la variable de salida (*energy*), no se aprecia una alta correlación."
   ]
  },
  {
   "cell_type": "markdown",
   "metadata": {},
   "source": [
    "Con las siguientes gráficas verificamos visualmente la correlación entre las variables de entrada. Para ello, veremos dibujadas la relación que existe entre la variable v10 y en función de la variable v10n. "
   ]
  },
  {
   "cell_type": "code",
   "execution_count": 14,
   "metadata": {},
   "outputs": [
    {
     "data": {
      "image/png": "[encoded data removed]",
      "text/plain": [
       "<Figure size 800x500 with 1 Axes>"
      ]
     },
     "metadata": {},
     "output_type": "display_data"
    }
   ],
   "source": [
    "plt.figure(figsize=(8, 5))\n",
    "plt.scatter(wind_ava['v10.13'], wind_ava[\"v10n.13\"], color='skyblue', marker='o', s=10)\n",
    "plt.title('Histograma de la correlación entre v10 y v10n', size=20)\n",
    "plt.xlabel('Valor de v10', size=14)\n",
    "plt.ylabel('Valor de v10n', size=14)\n",
    "plt.grid(True)\n",
    "plt.show()"
   ]
  },
  {
   "cell_type": "markdown",
   "metadata": {},
   "source": [
    "Como podemos ver, esta gráfica nos confirma que tienen una alta relación positiva, a medida que una crece, la otra también lo hace."
   ]
  },
  {
   "cell_type": "markdown",
   "metadata": {},
   "source": [
    "### Distribución de la variable de salida.\n",
    "\n",
    "A continuación, vamos a analizar la distribución de la variable de salida, llamada *energy*."
   ]
  },
  {
   "cell_type": "code",
   "execution_count": 15,
   "metadata": {},
   "outputs": [
    {
     "data": {
      "image/png": "[encoded data removed]",
      "text/plain": [
       "<Figure size 1170x827 with 1 Axes>"
      ]
     },
     "metadata": {},
     "output_type": "display_data"
    }
   ],
   "source": [
    "# Dibujamos el histograma de la variable de salida\n",
    "sns.set(rc={'figure.figsize':(11.7, 8.27)})\n",
    "sns.histplot(y_df, bins=30, color='purple', kde=True, edgecolor='black')\n",
    "plt.title('Histograma de la variable energy', size=25)\n",
    "plt.show()"
   ]
  },
  {
   "cell_type": "markdown",
   "metadata": {},
   "source": [
    "Obtenemes que la distribución de esta variable es exponencial, podemos apreciar una alta frecuencia de valores de baja energía."
   ]
  },
  {
   "cell_type": "markdown",
   "metadata": {},
   "source": [
    "---\n",
    "## Evaluación outer.\n",
    "---\n",
    "\n",
    "En primer lugar, realizaremos la evaluación de diferentes modelos de regresión con sus hiperparámetros por defecto. \n",
    "\n",
    "Al tratarse de un problema de regresión, las métricas que se utilizarán para evaluar el rendimiento de cada modelo serán: RMSE (Error Cuadrático Medio) y R2 (Coeficiente de Determinación). Además dividiremos el conjunto de datos entre entrenamiento y test de esta forma: 2/3 y 1/3, respectivamente."
   ]
  },
  {
   "cell_type": "code",
   "execution_count": 16,
   "metadata": {},
   "outputs": [],
   "source": [
    "# Dividimos los datos entre entrenamiento y test.\n",
    "X_train, X_test, y_train, y_test = train_test_split(X_df, y_df, test_size=0.33, random_state=49)"
   ]
  },
  {
   "cell_type": "markdown",
   "metadata": {},
   "source": [
    "### KNN.\n",
    "\n",
    "En primer lugar, crearemos un modelo KNN sin escalar los datos y evaluaremos el rendimiento obtenido."
   ]
  },
  {
   "cell_type": "code",
   "execution_count": 17,
   "metadata": {},
   "outputs": [
    {
     "name": "stdout",
     "output_type": "stream",
     "text": [
      "RMSE: 636.3288087730467\n",
      "R2: 0.06026198644919867\n"
     ]
    }
   ],
   "source": [
    "# Creamos el modelo.\n",
    "regr_knn = KNeighborsRegressor()\n",
    "np.random.seed(49)\n",
    "# Entrenamos el modelo.\n",
    "inicio = time.time()\n",
    "regr_knn.fit(X_train, y_train)\n",
    "fin = time.time()\n",
    "# Tiempo de entrenamiento.\n",
    "t_knn_o = fin - inicio\n",
    "# Realizamos las predicciones.\n",
    "y_test_pred = regr_knn.predict(X_test)\n",
    "# Evaluamos el rendimiento del modelo.\n",
    "rmse_knn = np.sqrt(metrics.mean_squared_error(y_test, y_test_pred))\n",
    "r2_knn = metrics.r2_score(y_test, y_test_pred)\n",
    "\n",
    "# Imprimir el resultado.\n",
    "print(f\"RMSE: {rmse_knn}\")\n",
    "print(f\"R2: {r2_knn}\")"
   ]
  },
  {
   "cell_type": "markdown",
   "metadata": {},
   "source": [
    "A continuación, escalaremos los datos aplicando diferentes métodos y evaluaremos cuál es el de mejor y más apropiado para este problema. \n",
    "\n",
    "- *StandardScaler*: escala los datos para que tengan una media de 0 y una desviación estándar de 1.\n",
    "\n",
    "- *MinMaxScaler*: escala los datos al intervalo especificado (por defecto [0, 1]).\n",
    "\n",
    "- *RobustScaler*: escala los datos utilizando estadísticas robustas para manejar valores atípicos.\n",
    "\n",
    "- *MaxAbsScaler*: escala los datos dividiendo cada característica por su valor máximo absoluto.\n",
    "\n",
    "- *QuantileTransformer*: transforma los datos para que tengan una distribución uniforme o gaussiana."
   ]
  },
  {
   "cell_type": "code",
   "execution_count": 18,
   "metadata": {},
   "outputs": [],
   "source": [
    "def escalado(scaler):\n",
    "    model = KNeighborsRegressor()\n",
    "    np.random.seed(49)\n",
    "    X_train_result = scaler.fit_transform(X_train)\n",
    "    X_test_result = scaler.transform(X_test)\n",
    "    # Entrenamos el modelo.\n",
    "    inicio = time.time()\n",
    "    model.fit(X_train_result, y_train)\n",
    "    fin = time.time()\n",
    "    tiempo = fin - inicio\n",
    "    # Realizamos las predicciones.\n",
    "    y_test_pred = model.predict(X_test_result)\n",
    "    # Evaluamos el rendimiento del modelo.\n",
    "    rmse = np.sqrt(metrics.mean_squared_error(y_test, y_test_pred))\n",
    "    r2 = metrics.r2_score(y_test, y_test_pred)\n",
    "    return rmse, r2, tiempo"
   ]
  },
  {
   "cell_type": "code",
   "execution_count": 19,
   "metadata": {},
   "outputs": [],
   "source": [
    "# StandardScaler\n",
    "scaler = StandardScaler()\n",
    "rmse_standar, r2_standar, t_standar = escalado(scaler)\n",
    "# MinMaxScaler\n",
    "scaler = MinMaxScaler()\n",
    "rmse_minmax, r2_minmax, t_minmax = escalado(scaler)\n",
    "# RobustScaler\n",
    "scaler = RobustScaler()\n",
    "rmse_robust, r2_robust, t_robust = escalado(scaler)\n",
    "# MaxAbsScaler\n",
    "scaler = MaxAbsScaler()\n",
    "rmse_maxabs, r2_maxabs, t_maxabs = escalado(scaler)\n",
    "# QuantileTransformer\n",
    "scaler = QuantileTransformer()\n",
    "rmse_quantile, r2_quantile, t_quantile = escalado(scaler)"
   ]
  },
  {
   "cell_type": "code",
   "execution_count": 20,
   "metadata": {},
   "outputs": [
    {
     "data": {
      "text/html": [
       "<div>\n",
       "<style scoped>\n",
       "    .dataframe tbody tr th:only-of-type {\n",
       "        vertical-align: middle;\n",
       "    }\n",
       "\n",
       "    .dataframe tbody tr th {\n",
       "        vertical-align: top;\n",
       "    }\n",
       "\n",
       "    .dataframe thead th {\n",
       "        text-align: right;\n",
       "    }\n",
       "</style>\n",
       "<table border=\"1\" class=\"dataframe\">\n",
       "  <thead>\n",
       "    <tr style=\"text-align: right;\">\n",
       "      <th></th>\n",
       "      <th>RMSE</th>\n",
       "      <th>R2</th>\n",
       "      <th>Tiempo</th>\n",
       "    </tr>\n",
       "  </thead>\n",
       "  <tbody>\n",
       "    <tr>\n",
       "      <th>Sin escalar</th>\n",
       "      <td>636.328809</td>\n",
       "      <td>0.060262</td>\n",
       "      <td>0.002119</td>\n",
       "    </tr>\n",
       "    <tr>\n",
       "      <th>StandardScaler</th>\n",
       "      <td>402.269009</td>\n",
       "      <td>0.624442</td>\n",
       "      <td>0.000587</td>\n",
       "    </tr>\n",
       "    <tr>\n",
       "      <th>MinMaxScaler</th>\n",
       "      <td>413.265640</td>\n",
       "      <td>0.603629</td>\n",
       "      <td>0.000400</td>\n",
       "    </tr>\n",
       "    <tr>\n",
       "      <th>RobustScaler</th>\n",
       "      <td>409.245852</td>\n",
       "      <td>0.611302</td>\n",
       "      <td>0.000384</td>\n",
       "    </tr>\n",
       "    <tr>\n",
       "      <th>MaxAbsScaler</th>\n",
       "      <td>406.858835</td>\n",
       "      <td>0.615823</td>\n",
       "      <td>0.000459</td>\n",
       "    </tr>\n",
       "    <tr>\n",
       "      <th>QuantileTransformer</th>\n",
       "      <td>421.414846</td>\n",
       "      <td>0.587842</td>\n",
       "      <td>0.000473</td>\n",
       "    </tr>\n",
       "  </tbody>\n",
       "</table>\n",
       "</div>"
      ],
      "text/plain": [
       "                           RMSE        R2    Tiempo\n",
       "Sin escalar          636.328809  0.060262  0.002119\n",
       "StandardScaler       402.269009  0.624442  0.000587\n",
       "MinMaxScaler         413.265640  0.603629  0.000400\n",
       "RobustScaler         409.245852  0.611302  0.000384\n",
       "MaxAbsScaler         406.858835  0.615823  0.000459\n",
       "QuantileTransformer  421.414846  0.587842  0.000473"
      ]
     },
     "execution_count": 20,
     "metadata": {},
     "output_type": "execute_result"
    }
   ],
   "source": [
    "# Imprimimos en un dataframe todos los resultados.\n",
    "resultados = pd.DataFrame({\n",
    "    \"RMSE\": [rmse_knn, rmse_standar, rmse_minmax, rmse_robust, rmse_maxabs, rmse_quantile],\n",
    "    \"R2\": [r2_knn, r2_standar, r2_minmax, r2_robust, r2_maxabs, r2_quantile],\n",
    "    \"Tiempo\": [t_knn_o, t_standar, t_minmax, t_robust, t_maxabs, t_quantile]\n",
    "}, index=[\"Sin escalar\", \"StandardScaler\", \"MinMaxScaler\", \"RobustScaler\", \"MaxAbsScaler\", \"QuantileTransformer\"])\n",
    "resultados\n"
   ]
  },
  {
   "cell_type": "markdown",
   "metadata": {},
   "source": [
    "Finalmente obtenemos que el mejor modelo de KNN de regresión con escalado de datos es el *StandardScaler* debido a que es el que tiene el RMSE menor y el R2 más próximo a 1. Por lo tanto, este método es el que usaremos de aquí en adelante cuando sea necesario."
   ]
  },
  {
   "cell_type": "markdown",
   "metadata": {},
   "source": [
    "#### Escalado de los datos\n",
    "\n",
    "Aplicaremos el método de escalado *StandardScaler*, debido a que es el de mejor resultado."
   ]
  },
  {
   "cell_type": "code",
   "execution_count": 21,
   "metadata": {},
   "outputs": [],
   "source": [
    "scaler = StandardScaler()\n",
    "X_train_scaled = scaler.fit_transform(X_train)\n",
    "X_test_scaled = scaler.transform(X_test)"
   ]
  },
  {
   "cell_type": "markdown",
   "metadata": {},
   "source": [
    "Volveremos a realizar el modelo KNN, pero esta vez utilizando los datos escalados y veremos si hay alguna mejora."
   ]
  },
  {
   "cell_type": "code",
   "execution_count": 22,
   "metadata": {},
   "outputs": [
    {
     "name": "stdout",
     "output_type": "stream",
     "text": [
      "RMSE: 402.2690091272214\n",
      "R2: 0.6244422097117683\n"
     ]
    }
   ],
   "source": [
    "regr_knn = KNeighborsRegressor()\n",
    "np.random.seed(49)\n",
    "# Entrenamos el modelo.\n",
    "inicio = time.time()\n",
    "regr_knn.fit(X_train_scaled, y_train)\n",
    "fin = time.time()\n",
    "# Tiempo de entrenamiento.\n",
    "t_knn = fin - inicio\n",
    "# Realizamos las predicciones.\n",
    "y_test_pred = regr_knn.predict(X_test_scaled)\n",
    "# Evaluamos el rendimiento del modelo.\n",
    "rmse_knn_scaled = np.sqrt(metrics.mean_squared_error(y_test, y_test_pred))\n",
    "r2_knn_scaled = metrics.r2_score(y_test, y_test_pred)\n",
    "\n",
    "# Imprimir el resultado.\n",
    "print(f\"RMSE: {rmse_knn_scaled}\")\n",
    "print(f\"R2: {r2_knn_scaled}\")"
   ]
  },
  {
   "cell_type": "markdown",
   "metadata": {},
   "source": [
    "Mejora significativamente la precisión de las predicciones. Y aumenta considerablemente la capacidad del modelo para explicar la variabilidad en los datos. Sin embargo, esta mejora significativa no significa que sea el mejor modelo final."
   ]
  },
  {
   "cell_type": "markdown",
   "metadata": {},
   "source": [
    "### Dummy.\n",
    "\n",
    "Regresor simple y básico para problemas de regresión. Este modelo se tomará como referencia para detectar posibles mejoras en las predicciones."
   ]
  },
  {
   "cell_type": "code",
   "execution_count": 23,
   "metadata": {},
   "outputs": [
    {
     "name": "stdout",
     "output_type": "stream",
     "text": [
      "RMSE: 692.091301457747\n",
      "R2: -0.11165597168553609\n"
     ]
    }
   ],
   "source": [
    "# Crear el modelo Dummy.\n",
    "regr_dummy = DummyRegressor(strategy=\"median\")\n",
    "np.random.seed(49)\n",
    "# Entrenar el modelo.\n",
    "inicio = time.time()\n",
    "regr_dummy.fit(X_train, y_train)\n",
    "fin = time.time()\n",
    "# Tiempo de entrenamiento.\n",
    "t_dummy = fin - inicio\n",
    "y_test_pred = regr_dummy.predict(X_test)\n",
    "# Métricas de evaluación.\n",
    "rmse_dummy = np.sqrt(metrics.mean_squared_error(y_test, y_test_pred))\n",
    "r2_dummy = metrics.r2_score(y_test, y_test_pred)\n",
    "\n",
    "# Imprimir el resultado.\n",
    "print(f\"RMSE: {rmse_dummy}\")\n",
    "print(f\"R2: {r2_dummy}\")\n"
   ]
  },
  {
   "cell_type": "markdown",
   "metadata": {},
   "source": [
    "Obtenemos que con este clasificador no existe casi ajuste ya que se aleja mucho de 1, el valor deseado para R2 (el coeficiente de determinación). Mientras que para el error cuadratico medio de la raiz, RMSE, nos indica que las predicciones se desvían mucho del valor real. \n",
    "\n",
    "Tras este análisis, podemo concluir que este modelo está realizando unas predicciones nada útiles y que es necesario otro modelo para conseguir unas predicciones más precisas."
   ]
  },
  {
   "cell_type": "markdown",
   "metadata": {},
   "source": [
    "### Regresión lineal.\n",
    "\n",
    "Aplicaremos el modelo de regresión lineal ordinario. En este modelo, es beneficioso que los datos estén escalados."
   ]
  },
  {
   "cell_type": "code",
   "execution_count": 24,
   "metadata": {},
   "outputs": [
    {
     "name": "stdout",
     "output_type": "stream",
     "text": [
      "RMSE: 539.7612031414392\n",
      "R2: 0.32384392553387265\n"
     ]
    }
   ],
   "source": [
    "regr_lineal = LinearRegression()\n",
    "np.random.seed(49)\n",
    "# Entrenamos el modelo\n",
    "inicio = time.time()\n",
    "regr_lineal.fit(X_train_scaled, y_train)\n",
    "fin = time.time()\n",
    "# Tiempo de entrenamiento.\n",
    "t_lineal = fin - inicio\n",
    "# Obtenemos las predicciones sobre el conjunto de prueba\n",
    "y_test_pred = regr_lineal.predict(X_test_scaled)\n",
    "# Métricas de evaluación\n",
    "rmse_lineal = np.sqrt(metrics.mean_squared_error(y_test, y_test_pred))\n",
    "r2_lineal = metrics.r2_score(y_test, y_test_pred)\n",
    "\n",
    "# Imprimimos resultados\n",
    "print(f\"RMSE: {rmse_lineal}\")\n",
    "print(f\"R2: {r2_lineal}\")"
   ]
  },
  {
   "cell_type": "markdown",
   "metadata": {},
   "source": [
    "Obtenemos una leve mejora con respecto al modelo nulo (Dummy)."
   ]
  },
  {
   "cell_type": "markdown",
   "metadata": {},
   "source": [
    "### Árbol de decisión de regresión.\n",
    "\n",
    "A continuación evaluaremos el modelo de árbol de decisión y evaluaremos su rendimiento."
   ]
  },
  {
   "cell_type": "code",
   "execution_count": 25,
   "metadata": {},
   "outputs": [
    {
     "name": "stdout",
     "output_type": "stream",
     "text": [
      "RMSE: 509.8152113241104\n",
      "R2: 0.3967890698918305\n"
     ]
    }
   ],
   "source": [
    "regr_tree = tree.DecisionTreeRegressor()\n",
    "np.random.seed(49) \n",
    "# Entrenamos el modelo.\n",
    "inicio = time.time()\n",
    "regr_tree.fit(X_train, y_train)\n",
    "fin = time.time()\n",
    "# Tiempo de entrenamiento.\n",
    "t_tree = fin - inicio\n",
    "y_test_pred = regr_tree.predict(X_test)\n",
    "# Métricas de evaluación.\n",
    "rmse_tree = np.sqrt(metrics.mean_squared_error(y_test, y_test_pred))\n",
    "r2_tree = metrics.r2_score(y_test, y_test_pred)\n",
    "\n",
    "# Imprimir el resultado.\n",
    "print(f\"RMSE: {rmse_tree}\")\n",
    "print(f\"R2: {r2_tree}\")\n"
   ]
  },
  {
   "cell_type": "markdown",
   "metadata": {},
   "source": [
    "Tras la realización del modelo de regresión de árbol de decisión, podemos apreciar que mejora considerablemente con respecto al Dummy y muy poco con respecto al modelo lineal, en términos de precisión de predicción. Pero, sigue sin ser el mejor modelo ya que todavía existe un margen muy grande de mejora con predicciones más precisas."
   ]
  },
  {
   "cell_type": "markdown",
   "metadata": {},
   "source": [
    "### Árbol de decisión y regresión lineal."
   ]
  },
  {
   "cell_type": "markdown",
   "metadata": {},
   "source": [
    "Como algo adicional, evaluaremos este modelo. Se trata de un modelo de regresión que combina el árbol de decisión de regresión y la regresión lineal. Es decir, al modelo anteriormente analizado, le añadiremos como parámetro *base_estimator* (el tipo de regresor que va a utilizar en los nodos terminales), la regresión lineal básica."
   ]
  },
  {
   "cell_type": "code",
   "execution_count": 26,
   "metadata": {},
   "outputs": [
    {
     "name": "stdout",
     "output_type": "stream",
     "text": [
      "RMSE: 383.13311481655455\n",
      "R2: 0.6593228508176546\n"
     ]
    }
   ],
   "source": [
    "regr_linear_tree = LinearTreeRegressor(base_estimator=LinearRegression())\n",
    "np.random.seed(49)\n",
    "# Entrenamos el modelo\n",
    "inicio = time.time()\n",
    "regr_linear_tree.fit(X_train, y_train)\n",
    "fin = time.time()\n",
    "# Tiempo de entrenamiento\n",
    "t_linear_tree = fin - inicio\n",
    "# Obtenemos las predicciones sobre el conjunto de prueba\n",
    "y_test_pred = regr_linear_tree.predict(X_test)\n",
    "# Métricas de evaluación\n",
    "rmse_linear_tree = np.sqrt(metrics.mean_squared_error(y_test, y_test_pred))\n",
    "r2_linear_tree = metrics.r2_score(y_test, y_test_pred)\n",
    "\n",
    "# Imprimimos resultados\n",
    "print(f\"RMSE: {rmse_linear_tree}\")\n",
    "print(f\"R2: {r2_linear_tree}\")"
   ]
  },
  {
   "cell_type": "markdown",
   "metadata": {},
   "source": [
    "Con este modelo obtenemos unos mejores resultados. Obtenemos que este modelo es mejor para predcir los valores de la variable energía con precisión. Además, consigue con una mayor proporción, explicar la variabilidad de los valores de la variable de salida."
   ]
  },
  {
   "cell_type": "markdown",
   "metadata": {},
   "source": [
    "### Regularización Ridge.\n",
    "\n",
    "Analizaremos el modelo con regularización Ridge con valores por omisión. Es decir, sin ningún parámetro para evaluar su rendimiento."
   ]
  },
  {
   "cell_type": "code",
   "execution_count": 27,
   "metadata": {},
   "outputs": [
    {
     "name": "stdout",
     "output_type": "stream",
     "text": [
      "RMSE: 540.1000850520832\n",
      "R2: 0.32299462776512966\n"
     ]
    }
   ],
   "source": [
    "regr_ridge = Ridge()\n",
    "np.random.seed(49)\n",
    "# Entrenamos el modelo\n",
    "inicio = time.time()\n",
    "regr_ridge.fit(X_train_scaled, y_train)\n",
    "fin = time.time()\n",
    "# Tiempo de entrenamiento\n",
    "t_ridge = fin - inicio\n",
    "# Obtenemos las predicciones sobre el conjunto de prueba\n",
    "y_test_pred = regr_ridge.predict(X_test_scaled)\n",
    "# Métricas de evaluación\n",
    "rmse_ridge = np.sqrt(metrics.mean_squared_error(y_test, y_test_pred))\n",
    "r2_ridge = metrics.r2_score(y_test, y_test_pred)\n",
    "\n",
    "# Imprimimos resultados\n",
    "print(f\"RMSE: {rmse_ridge}\")\n",
    "print(f\"R2: {r2_ridge}\")"
   ]
  },
  {
   "cell_type": "markdown",
   "metadata": {},
   "source": [
    "### Regularización Lasso.\n",
    "\n",
    "Ahora, analizaremos el modelo con regularización Lasso dado por omisión. Como en el modelo anterior, sin ningún hiperparámetro definido."
   ]
  },
  {
   "cell_type": "code",
   "execution_count": 28,
   "metadata": {},
   "outputs": [
    {
     "name": "stdout",
     "output_type": "stream",
     "text": [
      "RMSE: 540.1000850520832\n",
      "R2: 0.32299462776512966\n"
     ]
    }
   ],
   "source": [
    "regr_lasso = Lasso()\n",
    "np.random.seed(49)\n",
    "# Entrenamos el modelo\n",
    "inicio = time.time()\n",
    "regr_ridge.fit(X_train_scaled, y_train)\n",
    "fin = time.time()\n",
    "# Tiempo de entrenamiento\n",
    "t_lasso = fin - inicio\n",
    "# Obtenemos las predicciones sobre el conjunto de prueba\n",
    "y_test_pred = regr_ridge.predict(X_test_scaled)\n",
    "# Métricas de evaluación\n",
    "rmse_lasso = np.sqrt(metrics.mean_squared_error(y_test, y_test_pred))\n",
    "r2_lasso = metrics.r2_score(y_test, y_test_pred)\n",
    "\n",
    "# Imprimimos resultados\n",
    "print(f\"RMSE: {rmse_lasso}\")\n",
    "print(f\"R2: {r2_lasso}\")"
   ]
  },
  {
   "cell_type": "markdown",
   "metadata": {},
   "source": [
    "### SVM Lineal."
   ]
  },
  {
   "cell_type": "code",
   "execution_count": 29,
   "metadata": {},
   "outputs": [
    {
     "name": "stdout",
     "output_type": "stream",
     "text": [
      "RMSE of the tree: 587.146049342105\n",
      "R2 of the tree: 0.19991540278186615\n"
     ]
    }
   ],
   "source": [
    "regr_svm_lineal = SVR(kernel=\"linear\")\n",
    "np.random.seed(49)\n",
    "# Entrenamos el modelo\n",
    "inicio = time.time()\n",
    "regr_svm_lineal.fit(X_train_scaled, y_train)\n",
    "fin = time.time()\n",
    "# Tiempo de entrenamiento.\n",
    "t_svm_lineal = fin - inicio\n",
    "# Obtenemos las predicciones sobre el conjunto de prueba\n",
    "y_test_pred = regr_svm_lineal.predict(X_test_scaled)\n",
    "# Métricas de evaluación\n",
    "rmse_svm_lineal = np.sqrt(metrics.mean_squared_error(y_test, y_test_pred))\n",
    "r2_svm_lineal = metrics.r2_score(y_test, y_test_pred)\n",
    "\n",
    "# Imprimimos resultados\n",
    "print(f\"RMSE of the tree: {rmse_svm_lineal}\")\n",
    "print(f\"R2 of the tree: {r2_svm_lineal}\")"
   ]
  },
  {
   "cell_type": "markdown",
   "metadata": {},
   "source": [
    "### SVM Radial."
   ]
  },
  {
   "cell_type": "code",
   "execution_count": 30,
   "metadata": {},
   "outputs": [
    {
     "name": "stdout",
     "output_type": "stream",
     "text": [
      "RMSE: 632.1078782445536\n",
      "R2: 0.07268767953911481\n"
     ]
    }
   ],
   "source": [
    "regr_svm_radial = SVR()\n",
    "np.random.seed(49)\n",
    "# Entrenamos el modelo\n",
    "inicio = time.time()\n",
    "regr_svm_radial.fit(X_train_scaled, y_train)\n",
    "fin = time.time()\n",
    "# Tiempo de entrenamiento.\n",
    "t_svm_radial = fin - inicio\n",
    "# Obtenemos las predicciones sobre el conjunto de prueba\n",
    "y_test_pred = regr_svm_radial.predict(X_test_scaled)\n",
    "# Métricas de evaluación\n",
    "rmse_svm_radial = np.sqrt(metrics.mean_squared_error(y_test, y_test_pred))\n",
    "r2_svm_radial = metrics.r2_score(y_test, y_test_pred)\n",
    "\n",
    "# Imprimimos resultados\n",
    "print(f\"RMSE: {rmse_svm_radial}\")\n",
    "print(f\"R2: {r2_svm_radial}\")"
   ]
  },
  {
   "cell_type": "markdown",
   "metadata": {},
   "source": [
    "---\n",
    "## Búsqueda de Hiperparámetros.\n",
    "---\n",
    "\n",
    "Continuando con la evaluación *outer*, deberemos evaluar diferentes modelos, ajustando hiperparámetros y consideraremos técnicas de validación cruzada, con el fin de determinar el modelo final, el mejor modelo según su rendimiento.\n",
    "\n",
    "-1 significa utilizando todos los procesadores"
   ]
  },
  {
   "cell_type": "markdown",
   "metadata": {},
   "source": [
    "### KNN"
   ]
  },
  {
   "cell_type": "code",
   "execution_count": 31,
   "metadata": {},
   "outputs": [
    {
     "name": "stdout",
     "output_type": "stream",
     "text": [
      "Fitting 3 folds for each of 7 candidates, totalling 21 fits\n"
     ]
    }
   ],
   "source": [
    "# Search space with integer uniform distributions\n",
    "param_grid = {'n_neighbors': list(range(2,16,2))\n",
    "              }\n",
    "\n",
    "inner = KFold(n_splits=3, shuffle=True, random_state=49)\n",
    "\n",
    "regr_knn_hpo = GridSearchCV(KNeighborsRegressor(),\n",
    "                   param_grid,\n",
    "                   scoring='neg_mean_squared_error',\n",
    "                   cv=inner,\n",
    "                   n_jobs=-1, verbose=1)\n",
    "\n",
    "np.random.seed(49)\n",
    "inicio = time.time()\n",
    "regr_knn_hpo.fit(X=X_train_scaled, y=y_train)\n",
    "fin = time.time()\n",
    "t_knn_hpo = fin - inicio"
   ]
  },
  {
   "cell_type": "code",
   "execution_count": 32,
   "metadata": {},
   "outputs": [
    {
     "name": "stdout",
     "output_type": "stream",
     "text": [
      "RMSE: 398.14532687412105\n",
      "R2: 0.6321024726295982\n",
      "Mejor parámetro: {'n_neighbors': 10}\n"
     ]
    }
   ],
   "source": [
    "y_test_pred = regr_knn_hpo.predict(X_test_scaled)\n",
    "# Métricas de evaluación\n",
    "rmse_knn_hpo = np.sqrt(metrics.mean_squared_error(y_test, y_test_pred))\n",
    "r2_knn_hpo = metrics.r2_score(y_test, y_test_pred)\n",
    "\n",
    "# Imprimimos resultados\n",
    "print(f\"RMSE: {rmse_knn_hpo}\")\n",
    "print(f\"R2: {r2_knn_hpo}\")\n",
    "print(f\"Mejor parámetro: {regr_knn_hpo.best_params_}\")"
   ]
  },
  {
   "cell_type": "markdown",
   "metadata": {},
   "source": [
    "### Árbol de decisión.\n",
    "\n",
    "Este modelo es el árbol de decisión de regresión utilizando *RandomizedSearchCV* con el hiperparámetro *n_iter* ajustado a 100."
   ]
  },
  {
   "cell_type": "code",
   "execution_count": 33,
   "metadata": {},
   "outputs": [
    {
     "name": "stdout",
     "output_type": "stream",
     "text": [
      "Fitting 3 folds for each of 100 candidates, totalling 300 fits\n"
     ]
    }
   ],
   "source": [
    "# Search space with integer uniform distributions\n",
    "param_grid = {'max_depth': sp_randint(2,16),\n",
    "              'min_samples_split': sp_randint(2,16)}\n",
    "\n",
    "inner = KFold(n_splits=3, shuffle=True, random_state=49)\n",
    "\n",
    "budget = 100\n",
    "regr_tree_hpo = RandomizedSearchCV(tree.DecisionTreeRegressor(),\n",
    "                         param_grid,\n",
    "                         scoring='neg_mean_squared_error',\n",
    "                         cv=inner,\n",
    "                         n_jobs=-1, verbose=1,\n",
    "                         n_iter=budget\n",
    "                        )\n",
    "\n",
    "np.random.seed(49)\n",
    "inicio = time.time()\n",
    "regr_tree_hpo.fit(X=X_train, y=y_train)\n",
    "fin = time.time()\n",
    "t_tree_hpo = fin - inicio"
   ]
  },
  {
   "cell_type": "code",
   "execution_count": 34,
   "metadata": {},
   "outputs": [
    {
     "name": "stdout",
     "output_type": "stream",
     "text": [
      "RMSE of the tree: 423.62431593913664\n",
      "R2 of the tree: 0.5835092267162383\n",
      "Mejores parámetros: {'max_depth': 5, 'min_samples_split': 3}\n"
     ]
    }
   ],
   "source": [
    "y_test_pred = regr_tree_hpo.predict(X_test)\n",
    "# Métricas de evaluación\n",
    "rmse_tree_hpo = np.sqrt(metrics.mean_squared_error(y_test, y_test_pred))\n",
    "r2_tree_hpo = metrics.r2_score(y_test, y_test_pred)\n",
    "\n",
    "# Imprimimos resultados\n",
    "print(f\"RMSE of the tree: {rmse_tree_hpo}\")\n",
    "print(f\"R2 of the tree: {r2_tree_hpo}\")\n",
    "print(f\"Mejores parámetros: {regr_tree_hpo.best_params_}\")"
   ]
  },
  {
   "cell_type": "markdown",
   "metadata": {},
   "source": [
    "Haremos el modelo con el *BayesSearchCV* para ver si mejora el rendimiento en comparación con el anterior. A continuación, ajustando los hiperparámetros, obtenemos los siguientes resultados."
   ]
  },
  {
   "cell_type": "code",
   "execution_count": 35,
   "metadata": {},
   "outputs": [
    {
     "name": "stdout",
     "output_type": "stream",
     "text": [
      "Fitting 3 folds for each of 1 candidates, totalling 3 fits\n",
      "Fitting 3 folds for each of 1 candidates, totalling 3 fits\n",
      "Fitting 3 folds for each of 1 candidates, totalling 3 fits\n",
      "Fitting 3 folds for each of 1 candidates, totalling 3 fits\n",
      "Fitting 3 folds for each of 1 candidates, totalling 3 fits\n",
      "Fitting 3 folds for each of 1 candidates, totalling 3 fits\n",
      "Fitting 3 folds for each of 1 candidates, totalling 3 fits\n",
      "Fitting 3 folds for each of 1 candidates, totalling 3 fits\n",
      "Fitting 3 folds for each of 1 candidates, totalling 3 fits\n",
      "Fitting 3 folds for each of 1 candidates, totalling 3 fits\n",
      "Fitting 3 folds for each of 1 candidates, totalling 3 fits\n",
      "Fitting 3 folds for each of 1 candidates, totalling 3 fits\n",
      "Fitting 3 folds for each of 1 candidates, totalling 3 fits\n",
      "Fitting 3 folds for each of 1 candidates, totalling 3 fits\n"
     ]
    },
    {
     "name": "stderr",
     "output_type": "stream",
     "text": [
      "/Users/celia/miniconda3/lib/python3.8/site-packages/skopt/optimizer/optimizer.py:449: UserWarning: The objective has been evaluated at this point before.\n",
      "  warnings.warn(\"The objective has been evaluated \"\n"
     ]
    },
    {
     "name": "stdout",
     "output_type": "stream",
     "text": [
      "Fitting 3 folds for each of 1 candidates, totalling 3 fits\n",
      "Fitting 3 folds for each of 1 candidates, totalling 3 fits\n",
      "Fitting 3 folds for each of 1 candidates, totalling 3 fits\n"
     ]
    },
    {
     "name": "stderr",
     "output_type": "stream",
     "text": [
      "/Users/celia/miniconda3/lib/python3.8/site-packages/skopt/optimizer/optimizer.py:449: UserWarning: The objective has been evaluated at this point before.\n",
      "  warnings.warn(\"The objective has been evaluated \"\n"
     ]
    },
    {
     "name": "stdout",
     "output_type": "stream",
     "text": [
      "Fitting 3 folds for each of 1 candidates, totalling 3 fits\n"
     ]
    },
    {
     "name": "stderr",
     "output_type": "stream",
     "text": [
      "/Users/celia/miniconda3/lib/python3.8/site-packages/skopt/optimizer/optimizer.py:449: UserWarning: The objective has been evaluated at this point before.\n",
      "  warnings.warn(\"The objective has been evaluated \"\n"
     ]
    },
    {
     "name": "stdout",
     "output_type": "stream",
     "text": [
      "Fitting 3 folds for each of 1 candidates, totalling 3 fits\n",
      "Fitting 3 folds for each of 1 candidates, totalling 3 fits\n"
     ]
    },
    {
     "name": "stderr",
     "output_type": "stream",
     "text": [
      "/Users/celia/miniconda3/lib/python3.8/site-packages/skopt/optimizer/optimizer.py:449: UserWarning: The objective has been evaluated at this point before.\n",
      "  warnings.warn(\"The objective has been evaluated \"\n"
     ]
    },
    {
     "name": "stdout",
     "output_type": "stream",
     "text": [
      "Fitting 3 folds for each of 1 candidates, totalling 3 fits\n",
      "Fitting 3 folds for each of 1 candidates, totalling 3 fits\n",
      "Fitting 3 folds for each of 1 candidates, totalling 3 fits\n"
     ]
    },
    {
     "name": "stderr",
     "output_type": "stream",
     "text": [
      "/Users/celia/miniconda3/lib/python3.8/site-packages/skopt/optimizer/optimizer.py:449: UserWarning: The objective has been evaluated at this point before.\n",
      "  warnings.warn(\"The objective has been evaluated \"\n"
     ]
    },
    {
     "name": "stdout",
     "output_type": "stream",
     "text": [
      "Fitting 3 folds for each of 1 candidates, totalling 3 fits\n"
     ]
    },
    {
     "name": "stderr",
     "output_type": "stream",
     "text": [
      "/Users/celia/miniconda3/lib/python3.8/site-packages/skopt/optimizer/optimizer.py:449: UserWarning: The objective has been evaluated at this point before.\n",
      "  warnings.warn(\"The objective has been evaluated \"\n"
     ]
    },
    {
     "name": "stdout",
     "output_type": "stream",
     "text": [
      "Fitting 3 folds for each of 1 candidates, totalling 3 fits\n"
     ]
    },
    {
     "name": "stderr",
     "output_type": "stream",
     "text": [
      "/Users/celia/miniconda3/lib/python3.8/site-packages/skopt/optimizer/optimizer.py:449: UserWarning: The objective has been evaluated at this point before.\n",
      "  warnings.warn(\"The objective has been evaluated \"\n"
     ]
    },
    {
     "name": "stdout",
     "output_type": "stream",
     "text": [
      "Fitting 3 folds for each of 1 candidates, totalling 3 fits\n"
     ]
    },
    {
     "name": "stderr",
     "output_type": "stream",
     "text": [
      "/Users/celia/miniconda3/lib/python3.8/site-packages/skopt/optimizer/optimizer.py:449: UserWarning: The objective has been evaluated at this point before.\n",
      "  warnings.warn(\"The objective has been evaluated \"\n"
     ]
    },
    {
     "name": "stdout",
     "output_type": "stream",
     "text": [
      "Fitting 3 folds for each of 1 candidates, totalling 3 fits\n"
     ]
    },
    {
     "name": "stderr",
     "output_type": "stream",
     "text": [
      "/Users/celia/miniconda3/lib/python3.8/site-packages/skopt/optimizer/optimizer.py:449: UserWarning: The objective has been evaluated at this point before.\n",
      "  warnings.warn(\"The objective has been evaluated \"\n"
     ]
    },
    {
     "name": "stdout",
     "output_type": "stream",
     "text": [
      "Fitting 3 folds for each of 1 candidates, totalling 3 fits\n"
     ]
    },
    {
     "name": "stderr",
     "output_type": "stream",
     "text": [
      "/Users/celia/miniconda3/lib/python3.8/site-packages/skopt/optimizer/optimizer.py:449: UserWarning: The objective has been evaluated at this point before.\n",
      "  warnings.warn(\"The objective has been evaluated \"\n"
     ]
    },
    {
     "name": "stdout",
     "output_type": "stream",
     "text": [
      "Fitting 3 folds for each of 1 candidates, totalling 3 fits\n"
     ]
    },
    {
     "name": "stderr",
     "output_type": "stream",
     "text": [
      "/Users/celia/miniconda3/lib/python3.8/site-packages/skopt/optimizer/optimizer.py:449: UserWarning: The objective has been evaluated at this point before.\n",
      "  warnings.warn(\"The objective has been evaluated \"\n"
     ]
    },
    {
     "name": "stdout",
     "output_type": "stream",
     "text": [
      "Fitting 3 folds for each of 1 candidates, totalling 3 fits\n"
     ]
    },
    {
     "name": "stderr",
     "output_type": "stream",
     "text": [
      "/Users/celia/miniconda3/lib/python3.8/site-packages/skopt/optimizer/optimizer.py:449: UserWarning: The objective has been evaluated at this point before.\n",
      "  warnings.warn(\"The objective has been evaluated \"\n"
     ]
    },
    {
     "name": "stdout",
     "output_type": "stream",
     "text": [
      "Fitting 3 folds for each of 1 candidates, totalling 3 fits\n"
     ]
    },
    {
     "name": "stderr",
     "output_type": "stream",
     "text": [
      "/Users/celia/miniconda3/lib/python3.8/site-packages/skopt/optimizer/optimizer.py:449: UserWarning: The objective has been evaluated at this point before.\n",
      "  warnings.warn(\"The objective has been evaluated \"\n"
     ]
    },
    {
     "name": "stdout",
     "output_type": "stream",
     "text": [
      "Fitting 3 folds for each of 1 candidates, totalling 3 fits\n"
     ]
    },
    {
     "name": "stderr",
     "output_type": "stream",
     "text": [
      "/Users/celia/miniconda3/lib/python3.8/site-packages/skopt/optimizer/optimizer.py:449: UserWarning: The objective has been evaluated at this point before.\n",
      "  warnings.warn(\"The objective has been evaluated \"\n"
     ]
    },
    {
     "name": "stdout",
     "output_type": "stream",
     "text": [
      "Fitting 3 folds for each of 1 candidates, totalling 3 fits\n"
     ]
    },
    {
     "name": "stderr",
     "output_type": "stream",
     "text": [
      "/Users/celia/miniconda3/lib/python3.8/site-packages/skopt/optimizer/optimizer.py:449: UserWarning: The objective has been evaluated at this point before.\n",
      "  warnings.warn(\"The objective has been evaluated \"\n"
     ]
    },
    {
     "name": "stdout",
     "output_type": "stream",
     "text": [
      "Fitting 3 folds for each of 1 candidates, totalling 3 fits\n"
     ]
    },
    {
     "name": "stderr",
     "output_type": "stream",
     "text": [
      "/Users/celia/miniconda3/lib/python3.8/site-packages/skopt/optimizer/optimizer.py:449: UserWarning: The objective has been evaluated at this point before.\n",
      "  warnings.warn(\"The objective has been evaluated \"\n"
     ]
    },
    {
     "name": "stdout",
     "output_type": "stream",
     "text": [
      "Fitting 3 folds for each of 1 candidates, totalling 3 fits\n"
     ]
    },
    {
     "name": "stderr",
     "output_type": "stream",
     "text": [
      "/Users/celia/miniconda3/lib/python3.8/site-packages/skopt/optimizer/optimizer.py:449: UserWarning: The objective has been evaluated at this point before.\n",
      "  warnings.warn(\"The objective has been evaluated \"\n"
     ]
    },
    {
     "name": "stdout",
     "output_type": "stream",
     "text": [
      "Fitting 3 folds for each of 1 candidates, totalling 3 fits\n"
     ]
    },
    {
     "name": "stderr",
     "output_type": "stream",
     "text": [
      "/Users/celia/miniconda3/lib/python3.8/site-packages/skopt/optimizer/optimizer.py:449: UserWarning: The objective has been evaluated at this point before.\n",
      "  warnings.warn(\"The objective has been evaluated \"\n"
     ]
    },
    {
     "name": "stdout",
     "output_type": "stream",
     "text": [
      "Fitting 3 folds for each of 1 candidates, totalling 3 fits\n"
     ]
    },
    {
     "name": "stderr",
     "output_type": "stream",
     "text": [
      "/Users/celia/miniconda3/lib/python3.8/site-packages/skopt/optimizer/optimizer.py:449: UserWarning: The objective has been evaluated at this point before.\n",
      "  warnings.warn(\"The objective has been evaluated \"\n"
     ]
    },
    {
     "name": "stdout",
     "output_type": "stream",
     "text": [
      "Fitting 3 folds for each of 1 candidates, totalling 3 fits\n"
     ]
    },
    {
     "name": "stderr",
     "output_type": "stream",
     "text": [
      "/Users/celia/miniconda3/lib/python3.8/site-packages/skopt/optimizer/optimizer.py:449: UserWarning: The objective has been evaluated at this point before.\n",
      "  warnings.warn(\"The objective has been evaluated \"\n"
     ]
    },
    {
     "name": "stdout",
     "output_type": "stream",
     "text": [
      "Fitting 3 folds for each of 1 candidates, totalling 3 fits\n"
     ]
    },
    {
     "name": "stderr",
     "output_type": "stream",
     "text": [
      "/Users/celia/miniconda3/lib/python3.8/site-packages/skopt/optimizer/optimizer.py:449: UserWarning: The objective has been evaluated at this point before.\n",
      "  warnings.warn(\"The objective has been evaluated \"\n"
     ]
    },
    {
     "name": "stdout",
     "output_type": "stream",
     "text": [
      "Fitting 3 folds for each of 1 candidates, totalling 3 fits\n"
     ]
    },
    {
     "name": "stderr",
     "output_type": "stream",
     "text": [
      "/Users/celia/miniconda3/lib/python3.8/site-packages/skopt/optimizer/optimizer.py:449: UserWarning: The objective has been evaluated at this point before.\n",
      "  warnings.warn(\"The objective has been evaluated \"\n"
     ]
    },
    {
     "name": "stdout",
     "output_type": "stream",
     "text": [
      "Fitting 3 folds for each of 1 candidates, totalling 3 fits\n",
      "Fitting 3 folds for each of 1 candidates, totalling 3 fits\n",
      "Fitting 3 folds for each of 1 candidates, totalling 3 fits\n",
      "Fitting 3 folds for each of 1 candidates, totalling 3 fits\n",
      "Fitting 3 folds for each of 1 candidates, totalling 3 fits\n",
      "Fitting 3 folds for each of 1 candidates, totalling 3 fits\n",
      "Fitting 3 folds for each of 1 candidates, totalling 3 fits\n",
      "Fitting 3 folds for each of 1 candidates, totalling 3 fits\n",
      "Fitting 3 folds for each of 1 candidates, totalling 3 fits\n"
     ]
    },
    {
     "name": "stderr",
     "output_type": "stream",
     "text": [
      "/Users/celia/miniconda3/lib/python3.8/site-packages/skopt/optimizer/optimizer.py:449: UserWarning: The objective has been evaluated at this point before.\n",
      "  warnings.warn(\"The objective has been evaluated \"\n"
     ]
    },
    {
     "name": "stdout",
     "output_type": "stream",
     "text": [
      "Fitting 3 folds for each of 1 candidates, totalling 3 fits\n",
      "Fitting 3 folds for each of 1 candidates, totalling 3 fits\n"
     ]
    },
    {
     "name": "stderr",
     "output_type": "stream",
     "text": [
      "/Users/celia/miniconda3/lib/python3.8/site-packages/skopt/optimizer/optimizer.py:449: UserWarning: The objective has been evaluated at this point before.\n",
      "  warnings.warn(\"The objective has been evaluated \"\n"
     ]
    },
    {
     "name": "stdout",
     "output_type": "stream",
     "text": [
      "Fitting 3 folds for each of 1 candidates, totalling 3 fits\n"
     ]
    },
    {
     "name": "stderr",
     "output_type": "stream",
     "text": [
      "/Users/celia/miniconda3/lib/python3.8/site-packages/skopt/optimizer/optimizer.py:449: UserWarning: The objective has been evaluated at this point before.\n",
      "  warnings.warn(\"The objective has been evaluated \"\n"
     ]
    },
    {
     "name": "stdout",
     "output_type": "stream",
     "text": [
      "Fitting 3 folds for each of 1 candidates, totalling 3 fits\n"
     ]
    },
    {
     "name": "stderr",
     "output_type": "stream",
     "text": [
      "/Users/celia/miniconda3/lib/python3.8/site-packages/skopt/optimizer/optimizer.py:449: UserWarning: The objective has been evaluated at this point before.\n",
      "  warnings.warn(\"The objective has been evaluated \"\n"
     ]
    },
    {
     "name": "stdout",
     "output_type": "stream",
     "text": [
      "Fitting 3 folds for each of 1 candidates, totalling 3 fits\n"
     ]
    },
    {
     "name": "stderr",
     "output_type": "stream",
     "text": [
      "/Users/celia/miniconda3/lib/python3.8/site-packages/skopt/optimizer/optimizer.py:449: UserWarning: The objective has been evaluated at this point before.\n",
      "  warnings.warn(\"The objective has been evaluated \"\n"
     ]
    },
    {
     "name": "stdout",
     "output_type": "stream",
     "text": [
      "Fitting 3 folds for each of 1 candidates, totalling 3 fits\n"
     ]
    },
    {
     "name": "stderr",
     "output_type": "stream",
     "text": [
      "/Users/celia/miniconda3/lib/python3.8/site-packages/skopt/optimizer/optimizer.py:449: UserWarning: The objective has been evaluated at this point before.\n",
      "  warnings.warn(\"The objective has been evaluated \"\n"
     ]
    },
    {
     "name": "stdout",
     "output_type": "stream",
     "text": [
      "Fitting 3 folds for each of 1 candidates, totalling 3 fits\n"
     ]
    },
    {
     "name": "stderr",
     "output_type": "stream",
     "text": [
      "/Users/celia/miniconda3/lib/python3.8/site-packages/skopt/optimizer/optimizer.py:449: UserWarning: The objective has been evaluated at this point before.\n",
      "  warnings.warn(\"The objective has been evaluated \"\n"
     ]
    },
    {
     "name": "stdout",
     "output_type": "stream",
     "text": [
      "Fitting 3 folds for each of 1 candidates, totalling 3 fits\n"
     ]
    },
    {
     "name": "stderr",
     "output_type": "stream",
     "text": [
      "/Users/celia/miniconda3/lib/python3.8/site-packages/skopt/optimizer/optimizer.py:449: UserWarning: The objective has been evaluated at this point before.\n",
      "  warnings.warn(\"The objective has been evaluated \"\n"
     ]
    },
    {
     "name": "stdout",
     "output_type": "stream",
     "text": [
      "Fitting 3 folds for each of 1 candidates, totalling 3 fits\n"
     ]
    },
    {
     "name": "stderr",
     "output_type": "stream",
     "text": [
      "/Users/celia/miniconda3/lib/python3.8/site-packages/skopt/optimizer/optimizer.py:449: UserWarning: The objective has been evaluated at this point before.\n",
      "  warnings.warn(\"The objective has been evaluated \"\n"
     ]
    },
    {
     "name": "stdout",
     "output_type": "stream",
     "text": [
      "Fitting 3 folds for each of 1 candidates, totalling 3 fits\n"
     ]
    },
    {
     "name": "stderr",
     "output_type": "stream",
     "text": [
      "/Users/celia/miniconda3/lib/python3.8/site-packages/skopt/optimizer/optimizer.py:449: UserWarning: The objective has been evaluated at this point before.\n",
      "  warnings.warn(\"The objective has been evaluated \"\n"
     ]
    },
    {
     "name": "stdout",
     "output_type": "stream",
     "text": [
      "Fitting 3 folds for each of 1 candidates, totalling 3 fits\n"
     ]
    },
    {
     "name": "stderr",
     "output_type": "stream",
     "text": [
      "/Users/celia/miniconda3/lib/python3.8/site-packages/skopt/optimizer/optimizer.py:449: UserWarning: The objective has been evaluated at this point before.\n",
      "  warnings.warn(\"The objective has been evaluated \"\n"
     ]
    },
    {
     "name": "stdout",
     "output_type": "stream",
     "text": [
      "Fitting 3 folds for each of 1 candidates, totalling 3 fits\n"
     ]
    },
    {
     "name": "stderr",
     "output_type": "stream",
     "text": [
      "/Users/celia/miniconda3/lib/python3.8/site-packages/skopt/optimizer/optimizer.py:449: UserWarning: The objective has been evaluated at this point before.\n",
      "  warnings.warn(\"The objective has been evaluated \"\n"
     ]
    },
    {
     "name": "stdout",
     "output_type": "stream",
     "text": [
      "Fitting 3 folds for each of 1 candidates, totalling 3 fits\n"
     ]
    },
    {
     "name": "stderr",
     "output_type": "stream",
     "text": [
      "/Users/celia/miniconda3/lib/python3.8/site-packages/skopt/optimizer/optimizer.py:449: UserWarning: The objective has been evaluated at this point before.\n",
      "  warnings.warn(\"The objective has been evaluated \"\n"
     ]
    },
    {
     "name": "stdout",
     "output_type": "stream",
     "text": [
      "Fitting 3 folds for each of 1 candidates, totalling 3 fits\n"
     ]
    },
    {
     "name": "stderr",
     "output_type": "stream",
     "text": [
      "/Users/celia/miniconda3/lib/python3.8/site-packages/skopt/optimizer/optimizer.py:449: UserWarning: The objective has been evaluated at this point before.\n",
      "  warnings.warn(\"The objective has been evaluated \"\n"
     ]
    },
    {
     "name": "stdout",
     "output_type": "stream",
     "text": [
      "Fitting 3 folds for each of 1 candidates, totalling 3 fits\n"
     ]
    },
    {
     "name": "stderr",
     "output_type": "stream",
     "text": [
      "/Users/celia/miniconda3/lib/python3.8/site-packages/skopt/optimizer/optimizer.py:449: UserWarning: The objective has been evaluated at this point before.\n",
      "  warnings.warn(\"The objective has been evaluated \"\n"
     ]
    },
    {
     "name": "stdout",
     "output_type": "stream",
     "text": [
      "Fitting 3 folds for each of 1 candidates, totalling 3 fits\n"
     ]
    },
    {
     "name": "stderr",
     "output_type": "stream",
     "text": [
      "/Users/celia/miniconda3/lib/python3.8/site-packages/skopt/optimizer/optimizer.py:449: UserWarning: The objective has been evaluated at this point before.\n",
      "  warnings.warn(\"The objective has been evaluated \"\n"
     ]
    },
    {
     "name": "stdout",
     "output_type": "stream",
     "text": [
      "Fitting 3 folds for each of 1 candidates, totalling 3 fits\n"
     ]
    },
    {
     "name": "stderr",
     "output_type": "stream",
     "text": [
      "/Users/celia/miniconda3/lib/python3.8/site-packages/skopt/optimizer/optimizer.py:449: UserWarning: The objective has been evaluated at this point before.\n",
      "  warnings.warn(\"The objective has been evaluated \"\n"
     ]
    },
    {
     "name": "stdout",
     "output_type": "stream",
     "text": [
      "Fitting 3 folds for each of 1 candidates, totalling 3 fits\n"
     ]
    },
    {
     "name": "stderr",
     "output_type": "stream",
     "text": [
      "/Users/celia/miniconda3/lib/python3.8/site-packages/skopt/optimizer/optimizer.py:449: UserWarning: The objective has been evaluated at this point before.\n",
      "  warnings.warn(\"The objective has been evaluated \"\n"
     ]
    },
    {
     "name": "stdout",
     "output_type": "stream",
     "text": [
      "Fitting 3 folds for each of 1 candidates, totalling 3 fits\n"
     ]
    },
    {
     "name": "stderr",
     "output_type": "stream",
     "text": [
      "/Users/celia/miniconda3/lib/python3.8/site-packages/skopt/optimizer/optimizer.py:449: UserWarning: The objective has been evaluated at this point before.\n",
      "  warnings.warn(\"The objective has been evaluated \"\n"
     ]
    },
    {
     "name": "stdout",
     "output_type": "stream",
     "text": [
      "Fitting 3 folds for each of 1 candidates, totalling 3 fits\n"
     ]
    },
    {
     "name": "stderr",
     "output_type": "stream",
     "text": [
      "/Users/celia/miniconda3/lib/python3.8/site-packages/skopt/optimizer/optimizer.py:449: UserWarning: The objective has been evaluated at this point before.\n",
      "  warnings.warn(\"The objective has been evaluated \"\n"
     ]
    },
    {
     "name": "stdout",
     "output_type": "stream",
     "text": [
      "Fitting 3 folds for each of 1 candidates, totalling 3 fits\n"
     ]
    }
   ],
   "source": [
    "from skopt import BayesSearchCV\n",
    "from skopt.space import Integer\n",
    "from sklearn.model_selection import KFold\n",
    "np.int = int\n",
    "\n",
    "# Search space with integer uniform distributions\n",
    "param_grid = {'max_depth': Integer(2,20),\n",
    "              'min_samples_split': Integer(20,100)}\n",
    "\n",
    "inner = KFold(n_splits=3, shuffle=True, random_state=42)\n",
    "\n",
    "# Cambiamos otra vez el budget y el tipo de busqueda\n",
    "budget = 70\n",
    "regr_tree_hpo_bayes = BayesSearchCV(tree.DecisionTreeRegressor(),\n",
    "                    param_grid,\n",
    "                    scoring='neg_mean_squared_error',\n",
    "                    cv=inner,\n",
    "                    n_jobs=-1, verbose=1,\n",
    "                    n_iter=budget\n",
    "                    )\n",
    "\n",
    "np.random.seed(49)\n",
    "inicio = time.time()\n",
    "regr_tree_hpo_bayes.fit(X=X_train, y=y_train)\n",
    "fin = time.time()\n",
    "t_tree_hpo_bayes = fin - inicio"
   ]
  },
  {
   "cell_type": "code",
   "execution_count": 36,
   "metadata": {},
   "outputs": [
    {
     "data": {
      "image/png": "[encoded data removed]",
      "text/plain": [
       "<Figure size 1170x827 with 1 Axes>"
      ]
     },
     "metadata": {},
     "output_type": "display_data"
    }
   ],
   "source": [
    "from skopt.plots import plot_objective, plot_histogram, plot_convergence\n",
    "# Comprobar si la optimización ha convergido\n",
    "_ = plot_convergence(regr_tree_hpo_bayes.optimizer_results_[0])\n",
    "plt.show()"
   ]
  },
  {
   "cell_type": "code",
   "execution_count": 37,
   "metadata": {},
   "outputs": [
    {
     "data": {
      "image/png": "[encoded data removed]",
      "text/plain": [
       "<Figure size 400x400 with 4 Axes>"
      ]
     },
     "metadata": {},
     "output_type": "display_data"
    },
    {
     "data": {
      "text/plain": [
       "<Figure size 4000x1500 with 0 Axes>"
      ]
     },
     "metadata": {},
     "output_type": "display_data"
    }
   ],
   "source": [
    "# Visualizar la función objetivo\n",
    "_ = plot_objective(regr_tree_hpo_bayes.optimizer_results_[0],\n",
    "                   dimensions=['max_depth', 'min_samples_split'],\n",
    "                   n_minimum_search=int(1e8))\n",
    "plt.figure(figsize=(40, 15)) \n",
    "plt.show()"
   ]
  },
  {
   "cell_type": "code",
   "execution_count": 38,
   "metadata": {},
   "outputs": [
    {
     "name": "stdout",
     "output_type": "stream",
     "text": [
      "RMSE of the tree: 420.7884123138171\n",
      "R2 of the tree: 0.5890668596882405\n",
      "Mejores parámetros: OrderedDict([('max_depth', 10), ('min_samples_split', 69)])\n"
     ]
    }
   ],
   "source": [
    "y_test_pred = regr_tree_hpo_bayes.predict(X_test)\n",
    "# Métricas de evaluación\n",
    "rmse_tree_hpo_bayes = np.sqrt(metrics.mean_squared_error(y_test, y_test_pred))\n",
    "r2_tree_hpo_bayes = metrics.r2_score(y_test, y_test_pred)\n",
    "\n",
    "# Imprimimos resultados\n",
    "print(f\"RMSE of the tree: {rmse_tree_hpo_bayes}\")\n",
    "print(f\"R2 of the tree: {r2_tree_hpo_bayes}\")\n",
    "print(f\"Mejores parámetros: {regr_tree_hpo_bayes.best_params_}\")"
   ]
  },
  {
   "cell_type": "markdown",
   "metadata": {},
   "source": [
    "Como podemos ver, el rendimiento con este modelo tampoco mejora mucho. Podríamos aumentar el número de iteraciones que realizará la busqueda de hiperparámetros e intentar conseguir que mejore el rendimiento del modelo. Sin embargo, como podemos ver en la gráfica de convergencia,  el valor de la métrica tras cierto número de iteraciones muestra poco cambio. Por este motivo, esta idea se descarta, ya que no obtenedremos beneficios significatos. Además, otro motivo también es por el tiempo de ejecución, que aumentaría innecesariamente."
   ]
  },
  {
   "cell_type": "markdown",
   "metadata": {},
   "source": [
    "### Regularización Ridge.\n",
    "\n",
    "Ahora pasaremos a evaluar el rendimiento del modelo con regularización Ridge. Esta técnica utiliza el parametro *alpha* para imponer una penalización en los coeficientes del modelo. "
   ]
  },
  {
   "cell_type": "code",
   "execution_count": 39,
   "metadata": {},
   "outputs": [
    {
     "name": "stdout",
     "output_type": "stream",
     "text": [
      "Fitting 3 folds for each of 10 candidates, totalling 30 fits\n"
     ]
    }
   ],
   "source": [
    "param_grid = {'alpha': [0.1, 0.2, 0.3, 0.4, 0.5, 0.6, 0.7, 0.8, 0.9, 1.0]}\n",
    "\n",
    "inner = KFold(n_splits=3, shuffle=True, random_state=49)\n",
    "\n",
    "regr_ridge_hpo = GridSearchCV(Ridge(),\n",
    "                         param_grid,\n",
    "                         scoring='neg_mean_squared_error',\n",
    "                         cv=inner,\n",
    "                         n_jobs=-1, verbose=1\n",
    "                        )\n",
    "\n",
    "np.random.seed(49)\n",
    "inicio = time.time()\n",
    "regr_ridge_hpo.fit(X=X_train_scaled, y=y_train)\n",
    "fin = time.time()\n",
    "t_ridge_hpo = fin - inicio"
   ]
  },
  {
   "cell_type": "code",
   "execution_count": 40,
   "metadata": {},
   "outputs": [
    {
     "name": "stdout",
     "output_type": "stream",
     "text": [
      "RMSE: 539.8413921387786\n",
      "R2: 0.32364300592376694\n",
      "Mejor parámetro: {'alpha': 0.3}\n"
     ]
    }
   ],
   "source": [
    "y_test_pred = regr_ridge_hpo.predict(X_test_scaled)\n",
    "# Métricas de evaluación\n",
    "rmse_ridge_hpo = np.sqrt(metrics.mean_squared_error(y_test, y_test_pred))\n",
    "r2_ridge_hpo = metrics.r2_score(y_test, y_test_pred)\n",
    "\n",
    "# Imprimimos resultados\n",
    "print(f\"RMSE: {rmse_ridge_hpo}\")\n",
    "print(f\"R2: {r2_ridge_hpo}\")\n",
    "print(f\"Mejor parámetro: {regr_ridge_hpo.best_params_}\")"
   ]
  },
  {
   "cell_type": "markdown",
   "metadata": {},
   "source": [
    "### Regularización Lasso.\n",
    "\n",
    "Por otro lado, evaluaremos el modelo de regresión lineal con regularización Lasso. Al igual que Ridge, también se trata de una técnica que impone una penalización en los coeficientes del modelo, con una pequeña diferencia del anterior, que puede forza a que algunos coeficientes sean cero."
   ]
  },
  {
   "cell_type": "code",
   "execution_count": 41,
   "metadata": {},
   "outputs": [
    {
     "name": "stdout",
     "output_type": "stream",
     "text": [
      "Fitting 3 folds for each of 4 candidates, totalling 12 fits\n"
     ]
    },
    {
     "name": "stderr",
     "output_type": "stream",
     "text": [
      "/Users/celia/miniconda3/lib/python3.8/site-packages/sklearn/base.py:1152: UserWarning: With alpha=0, this algorithm does not converge well. You are advised to use the LinearRegression estimator\n",
      "  return fit_method(estimator, *args, **kwargs)\n",
      "/Users/celia/miniconda3/lib/python3.8/site-packages/sklearn/linear_model/_coordinate_descent.py:628: UserWarning: Coordinate descent with no regularization may lead to unexpected results and is discouraged.\n",
      "  model = cd_fast.enet_coordinate_descent(\n",
      "/Users/celia/miniconda3/lib/python3.8/site-packages/sklearn/base.py:1152: UserWarning: With alpha=0, this algorithm does not converge well. You are advised to use the LinearRegression estimator\n",
      "  return fit_method(estimator, *args, **kwargs)\n",
      "/Users/celia/miniconda3/lib/python3.8/site-packages/sklearn/linear_model/_coordinate_descent.py:628: UserWarning: Coordinate descent with no regularization may lead to unexpected results and is discouraged.\n",
      "  model = cd_fast.enet_coordinate_descent(\n",
      "/Users/celia/miniconda3/lib/python3.8/site-packages/sklearn/base.py:1152: UserWarning: With alpha=0, this algorithm does not converge well. You are advised to use the LinearRegression estimator\n",
      "  return fit_method(estimator, *args, **kwargs)\n",
      "/Users/celia/miniconda3/lib/python3.8/site-packages/sklearn/linear_model/_coordinate_descent.py:628: UserWarning: Coordinate descent with no regularization may lead to unexpected results and is discouraged.\n",
      "  model = cd_fast.enet_coordinate_descent(\n",
      "/Users/celia/miniconda3/lib/python3.8/site-packages/sklearn/linear_model/_coordinate_descent.py:628: ConvergenceWarning: Objective did not converge. You might want to increase the number of iterations, check the scale of the features or consider increasing regularisation. Duality gap: 3.138e+08, tolerance: 9.531e+04 Linear regression models with null weight for the l1 regularization term are more efficiently fitted using one of the solvers implemented in sklearn.linear_model.Ridge/RidgeCV instead.\n",
      "  model = cd_fast.enet_coordinate_descent(\n",
      "/Users/celia/miniconda3/lib/python3.8/site-packages/sklearn/linear_model/_coordinate_descent.py:628: ConvergenceWarning: Objective did not converge. You might want to increase the number of iterations, check the scale of the features or consider increasing regularisation. Duality gap: 2.882e+08, tolerance: 9.264e+04 Linear regression models with null weight for the l1 regularization term are more efficiently fitted using one of the solvers implemented in sklearn.linear_model.Ridge/RidgeCV instead.\n",
      "  model = cd_fast.enet_coordinate_descent(\n",
      "/Users/celia/miniconda3/lib/python3.8/site-packages/sklearn/linear_model/_coordinate_descent.py:628: ConvergenceWarning: Objective did not converge. You might want to increase the number of iterations, check the scale of the features or consider increasing regularisation. Duality gap: 3.256e+08, tolerance: 9.750e+04 Linear regression models with null weight for the l1 regularization term are more efficiently fitted using one of the solvers implemented in sklearn.linear_model.Ridge/RidgeCV instead.\n",
      "  model = cd_fast.enet_coordinate_descent(\n",
      "/Users/celia/miniconda3/lib/python3.8/site-packages/sklearn/base.py:1152: UserWarning: With alpha=0, this algorithm does not converge well. You are advised to use the LinearRegression estimator\n",
      "  return fit_method(estimator, *args, **kwargs)\n",
      "/Users/celia/miniconda3/lib/python3.8/site-packages/sklearn/linear_model/_coordinate_descent.py:628: UserWarning: Coordinate descent with no regularization may lead to unexpected results and is discouraged.\n",
      "  model = cd_fast.enet_coordinate_descent(\n",
      "/Users/celia/miniconda3/lib/python3.8/site-packages/sklearn/linear_model/_coordinate_descent.py:628: ConvergenceWarning: Objective did not converge. You might want to increase the number of iterations, check the scale of the features or consider increasing regularisation. Duality gap: 4.661e+08, tolerance: 1.427e+05 Linear regression models with null weight for the l1 regularization term are more efficiently fitted using one of the solvers implemented in sklearn.linear_model.Ridge/RidgeCV instead.\n",
      "  model = cd_fast.enet_coordinate_descent(\n"
     ]
    }
   ],
   "source": [
    "param_grid = {'alpha': [0, 0.001, 0.005, 0.01]}\n",
    "\n",
    "inner = KFold(n_splits=3, shuffle=True, random_state=49)\n",
    "\n",
    "regr_lasso_hpo = GridSearchCV(Lasso(max_iter=10000),\n",
    "                         param_grid,\n",
    "                         scoring='neg_mean_squared_error',\n",
    "                         cv=inner,\n",
    "                         n_jobs=-1, verbose=1\n",
    "                        )\n",
    "\n",
    "np.random.seed(49)\n",
    "inicio = time.time()\n",
    "regr_lasso_hpo.fit(X=X_train_scaled, y=y_train)\n",
    "fin = time.time()\n",
    "t_lasso_hpo = fin - inicio"
   ]
  },
  {
   "cell_type": "code",
   "execution_count": 42,
   "metadata": {},
   "outputs": [
    {
     "name": "stdout",
     "output_type": "stream",
     "text": [
      "RMSE: 539.7612011673476\n",
      "R2: 0.32384393047974136\n",
      "Mejor parámetro: {'alpha': 0}\n"
     ]
    }
   ],
   "source": [
    "y_test_pred = regr_lasso_hpo.predict(X_test_scaled)\n",
    "# Métricas de evaluación\n",
    "rmse_lasso_hpo = np.sqrt(metrics.mean_squared_error(y_test, y_test_pred))\n",
    "r2_lasso_hpo = metrics.r2_score(y_test, y_test_pred)\n",
    "\n",
    "# Imprimimos resultados\n",
    "print(f\"RMSE: {rmse_lasso_hpo}\")\n",
    "print(f\"R2: {r2_lasso_hpo}\")\n",
    "print(f\"Mejor parámetro: {regr_lasso_hpo.best_params_}\")"
   ]
  },
  {
   "cell_type": "markdown",
   "metadata": {},
   "source": [
    "Al realizar la regularización Lasso obtenemos que el mejor parámetro para alpha es 0. Esto significa que es mejor utilizar un modelo estándar de regresión lineal sin regularización Lasso."
   ]
  },
  {
   "cell_type": "code",
   "execution_count": 61,
   "metadata": {},
   "outputs": [
    {
     "name": "stderr",
     "output_type": "stream",
     "text": [
      "/Users/celia/miniconda3/lib/python3.8/site-packages/sklearn/linear_model/_coordinate_descent.py:614: UserWarning: Coordinate descent without L1 regularization may lead to unexpected results and is discouraged. Set l1_ratio > 0 to add L1 regularization.\n",
      "  model = cd_fast.enet_coordinate_descent_gram(\n",
      "/Users/celia/miniconda3/lib/python3.8/site-packages/sklearn/linear_model/_coordinate_descent.py:614: ConvergenceWarning: Objective did not converge. You might want to increase the number of iterations. Duality gap: 309552632.1138378, tolerance: 95450.05458588191\n",
      "  model = cd_fast.enet_coordinate_descent_gram(\n",
      "/Users/celia/miniconda3/lib/python3.8/site-packages/sklearn/linear_model/_coordinate_descent.py:614: UserWarning: Coordinate descent without L1 regularization may lead to unexpected results and is discouraged. Set l1_ratio > 0 to add L1 regularization.\n",
      "  model = cd_fast.enet_coordinate_descent_gram(\n",
      "/Users/celia/miniconda3/lib/python3.8/site-packages/sklearn/linear_model/_coordinate_descent.py:614: ConvergenceWarning: Objective did not converge. You might want to increase the number of iterations. Duality gap: 313172727.92328423, tolerance: 95412.5550215169\n",
      "  model = cd_fast.enet_coordinate_descent_gram(\n",
      "/Users/celia/miniconda3/lib/python3.8/site-packages/sklearn/linear_model/_coordinate_descent.py:614: UserWarning: Coordinate descent without L1 regularization may lead to unexpected results and is discouraged. Set l1_ratio > 0 to add L1 regularization.\n",
      "  model = cd_fast.enet_coordinate_descent_gram(\n",
      "/Users/celia/miniconda3/lib/python3.8/site-packages/sklearn/linear_model/_coordinate_descent.py:614: ConvergenceWarning: Objective did not converge. You might want to increase the number of iterations. Duality gap: 307042152.10505486, tolerance: 94557.5301015065\n",
      "  model = cd_fast.enet_coordinate_descent_gram(\n"
     ]
    },
    {
     "data": {
      "text/html": [
       "<style>#sk-container-id-6 {color: black;}#sk-container-id-6 pre{padding: 0;}#sk-container-id-6 div.sk-toggleable {background-color: white;}#sk-container-id-6 label.sk-toggleable__label {cursor: pointer;display: block;width: 100%;margin-bottom: 0;padding: 0.3em;box-sizing: border-box;text-align: center;}#sk-container-id-6 label.sk-toggleable__label-arrow:before {content: \"▸\";float: left;margin-right: 0.25em;color: #696969;}#sk-container-id-6 label.sk-toggleable__label-arrow:hover:before {color: black;}#sk-container-id-6 div.sk-estimator:hover label.sk-toggleable__label-arrow:before {color: black;}#sk-container-id-6 div.sk-toggleable__content {max-height: 0;max-width: 0;overflow: hidden;text-align: left;background-color: #f0f8ff;}#sk-container-id-6 div.sk-toggleable__content pre {margin: 0.2em;color: black;border-radius: 0.25em;background-color: #f0f8ff;}#sk-container-id-6 input.sk-toggleable__control:checked~div.sk-toggleable__content {max-height: 200px;max-width: 100%;overflow: auto;}#sk-container-id-6 input.sk-toggleable__control:checked~label.sk-toggleable__label-arrow:before {content: \"▾\";}#sk-container-id-6 div.sk-estimator input.sk-toggleable__control:checked~label.sk-toggleable__label {background-color: #d4ebff;}#sk-container-id-6 div.sk-label input.sk-toggleable__control:checked~label.sk-toggleable__label {background-color: #d4ebff;}#sk-container-id-6 input.sk-hidden--visually {border: 0;clip: rect(1px 1px 1px 1px);clip: rect(1px, 1px, 1px, 1px);height: 1px;margin: -1px;overflow: hidden;padding: 0;position: absolute;width: 1px;}#sk-container-id-6 div.sk-estimator {font-family: monospace;background-color: #f0f8ff;border: 1px dotted black;border-radius: 0.25em;box-sizing: border-box;margin-bottom: 0.5em;}#sk-container-id-6 div.sk-estimator:hover {background-color: #d4ebff;}#sk-container-id-6 div.sk-parallel-item::after {content: \"\";width: 100%;border-bottom: 1px solid gray;flex-grow: 1;}#sk-container-id-6 div.sk-label:hover label.sk-toggleable__label {background-color: #d4ebff;}#sk-container-id-6 div.sk-serial::before {content: \"\";position: absolute;border-left: 1px solid gray;box-sizing: border-box;top: 0;bottom: 0;left: 50%;z-index: 0;}#sk-container-id-6 div.sk-serial {display: flex;flex-direction: column;align-items: center;background-color: white;padding-right: 0.2em;padding-left: 0.2em;position: relative;}#sk-container-id-6 div.sk-item {position: relative;z-index: 1;}#sk-container-id-6 div.sk-parallel {display: flex;align-items: stretch;justify-content: center;background-color: white;position: relative;}#sk-container-id-6 div.sk-item::before, #sk-container-id-6 div.sk-parallel-item::before {content: \"\";position: absolute;border-left: 1px solid gray;box-sizing: border-box;top: 0;bottom: 0;left: 50%;z-index: -1;}#sk-container-id-6 div.sk-parallel-item {display: flex;flex-direction: column;z-index: 1;position: relative;background-color: white;}#sk-container-id-6 div.sk-parallel-item:first-child::after {align-self: flex-end;width: 50%;}#sk-container-id-6 div.sk-parallel-item:last-child::after {align-self: flex-start;width: 50%;}#sk-container-id-6 div.sk-parallel-item:only-child::after {width: 0;}#sk-container-id-6 div.sk-dashed-wrapped {border: 1px dashed gray;margin: 0 0.4em 0.5em 0.4em;box-sizing: border-box;padding-bottom: 0.4em;background-color: white;}#sk-container-id-6 div.sk-label label {font-family: monospace;font-weight: bold;display: inline-block;line-height: 1.2em;}#sk-container-id-6 div.sk-label-container {text-align: center;}#sk-container-id-6 div.sk-container {/* jupyter's `normalize.less` sets `[hidden] { display: none; }` but bootstrap.min.css set `[hidden] { display: none !important; }` so we also need the `!important` here to be able to override the default hidden behavior on the sphinx rendered scikit-learn.org. See: https://github.com/scikit-learn/scikit-learn/issues/21755 */display: inline-block !important;position: relative;}#sk-container-id-6 div.sk-text-repr-fallback {display: none;}</style><div id=\"sk-container-id-6\" class=\"sk-top-container\"><div class=\"sk-text-repr-fallback\"><pre>Pipeline(steps=[(&#x27;preproceso&#x27;,\n",
       "                 ColumnTransformer(transformers=[(&#x27;standardscaler&#x27;,\n",
       "                                                  StandardScaler(),\n",
       "                                                  Index([&#x27;p54.162.13&#x27;, &#x27;p55.162.13&#x27;, &#x27;cape.13&#x27;, &#x27;p59.162.13&#x27;, &#x27;lai_lv.13&#x27;,\n",
       "       &#x27;lai_hv.13&#x27;, &#x27;u10n.13&#x27;, &#x27;v10n.13&#x27;, &#x27;sp.13&#x27;, &#x27;stl1.13&#x27;, &#x27;u10.13&#x27;,\n",
       "       &#x27;v10.13&#x27;, &#x27;t2m.13&#x27;, &#x27;stl2.13&#x27;, &#x27;stl3.13&#x27;, &#x27;iews.13&#x27;, &#x27;inss.13&#x27;,\n",
       "       &#x27;stl4.13&#x27;, &#x27;fsr.13&#x27;, &#x27;flsr.13&#x27;, &#x27;u100.13&#x27;, &#x27;v100.13&#x27;],\n",
       "      dtype=&#x27;object&#x27;))])),\n",
       "                (&#x27;regresor&#x27;,\n",
       "                 LassoCV(alphas=[0, 0.001, 0.1], cv=3, max_iter=10000))])</pre><b>In a Jupyter environment, please rerun this cell to show the HTML representation or trust the notebook. <br />On GitHub, the HTML representation is unable to render, please try loading this page with nbviewer.org.</b></div><div class=\"sk-container\" hidden><div class=\"sk-item sk-dashed-wrapped\"><div class=\"sk-label-container\"><div class=\"sk-label sk-toggleable\"><input class=\"sk-toggleable__control sk-hidden--visually\" id=\"sk-estimator-id-22\" type=\"checkbox\" ><label for=\"sk-estimator-id-22\" class=\"sk-toggleable__label sk-toggleable__label-arrow\">Pipeline</label><div class=\"sk-toggleable__content\"><pre>Pipeline(steps=[(&#x27;preproceso&#x27;,\n",
       "                 ColumnTransformer(transformers=[(&#x27;standardscaler&#x27;,\n",
       "                                                  StandardScaler(),\n",
       "                                                  Index([&#x27;p54.162.13&#x27;, &#x27;p55.162.13&#x27;, &#x27;cape.13&#x27;, &#x27;p59.162.13&#x27;, &#x27;lai_lv.13&#x27;,\n",
       "       &#x27;lai_hv.13&#x27;, &#x27;u10n.13&#x27;, &#x27;v10n.13&#x27;, &#x27;sp.13&#x27;, &#x27;stl1.13&#x27;, &#x27;u10.13&#x27;,\n",
       "       &#x27;v10.13&#x27;, &#x27;t2m.13&#x27;, &#x27;stl2.13&#x27;, &#x27;stl3.13&#x27;, &#x27;iews.13&#x27;, &#x27;inss.13&#x27;,\n",
       "       &#x27;stl4.13&#x27;, &#x27;fsr.13&#x27;, &#x27;flsr.13&#x27;, &#x27;u100.13&#x27;, &#x27;v100.13&#x27;],\n",
       "      dtype=&#x27;object&#x27;))])),\n",
       "                (&#x27;regresor&#x27;,\n",
       "                 LassoCV(alphas=[0, 0.001, 0.1], cv=3, max_iter=10000))])</pre></div></div></div><div class=\"sk-serial\"><div class=\"sk-item sk-dashed-wrapped\"><div class=\"sk-label-container\"><div class=\"sk-label sk-toggleable\"><input class=\"sk-toggleable__control sk-hidden--visually\" id=\"sk-estimator-id-23\" type=\"checkbox\" ><label for=\"sk-estimator-id-23\" class=\"sk-toggleable__label sk-toggleable__label-arrow\">preproceso: ColumnTransformer</label><div class=\"sk-toggleable__content\"><pre>ColumnTransformer(transformers=[(&#x27;standardscaler&#x27;, StandardScaler(),\n",
       "                                 Index([&#x27;p54.162.13&#x27;, &#x27;p55.162.13&#x27;, &#x27;cape.13&#x27;, &#x27;p59.162.13&#x27;, &#x27;lai_lv.13&#x27;,\n",
       "       &#x27;lai_hv.13&#x27;, &#x27;u10n.13&#x27;, &#x27;v10n.13&#x27;, &#x27;sp.13&#x27;, &#x27;stl1.13&#x27;, &#x27;u10.13&#x27;,\n",
       "       &#x27;v10.13&#x27;, &#x27;t2m.13&#x27;, &#x27;stl2.13&#x27;, &#x27;stl3.13&#x27;, &#x27;iews.13&#x27;, &#x27;inss.13&#x27;,\n",
       "       &#x27;stl4.13&#x27;, &#x27;fsr.13&#x27;, &#x27;flsr.13&#x27;, &#x27;u100.13&#x27;, &#x27;v100.13&#x27;],\n",
       "      dtype=&#x27;object&#x27;))])</pre></div></div></div><div class=\"sk-parallel\"><div class=\"sk-parallel-item\"><div class=\"sk-item\"><div class=\"sk-label-container\"><div class=\"sk-label sk-toggleable\"><input class=\"sk-toggleable__control sk-hidden--visually\" id=\"sk-estimator-id-24\" type=\"checkbox\" ><label for=\"sk-estimator-id-24\" class=\"sk-toggleable__label sk-toggleable__label-arrow\">standardscaler</label><div class=\"sk-toggleable__content\"><pre>Index([&#x27;p54.162.13&#x27;, &#x27;p55.162.13&#x27;, &#x27;cape.13&#x27;, &#x27;p59.162.13&#x27;, &#x27;lai_lv.13&#x27;,\n",
       "       &#x27;lai_hv.13&#x27;, &#x27;u10n.13&#x27;, &#x27;v10n.13&#x27;, &#x27;sp.13&#x27;, &#x27;stl1.13&#x27;, &#x27;u10.13&#x27;,\n",
       "       &#x27;v10.13&#x27;, &#x27;t2m.13&#x27;, &#x27;stl2.13&#x27;, &#x27;stl3.13&#x27;, &#x27;iews.13&#x27;, &#x27;inss.13&#x27;,\n",
       "       &#x27;stl4.13&#x27;, &#x27;fsr.13&#x27;, &#x27;flsr.13&#x27;, &#x27;u100.13&#x27;, &#x27;v100.13&#x27;],\n",
       "      dtype=&#x27;object&#x27;)</pre></div></div></div><div class=\"sk-serial\"><div class=\"sk-item\"><div class=\"sk-estimator sk-toggleable\"><input class=\"sk-toggleable__control sk-hidden--visually\" id=\"sk-estimator-id-25\" type=\"checkbox\" ><label for=\"sk-estimator-id-25\" class=\"sk-toggleable__label sk-toggleable__label-arrow\">StandardScaler</label><div class=\"sk-toggleable__content\"><pre>StandardScaler()</pre></div></div></div></div></div></div></div></div><div class=\"sk-item\"><div class=\"sk-estimator sk-toggleable\"><input class=\"sk-toggleable__control sk-hidden--visually\" id=\"sk-estimator-id-26\" type=\"checkbox\" ><label for=\"sk-estimator-id-26\" class=\"sk-toggleable__label sk-toggleable__label-arrow\">LassoCV</label><div class=\"sk-toggleable__content\"><pre>LassoCV(alphas=[0, 0.001, 0.1], cv=3, max_iter=10000)</pre></div></div></div></div></div></div></div>"
      ],
      "text/plain": [
       "Pipeline(steps=[('preproceso',\n",
       "                 ColumnTransformer(transformers=[('standardscaler',\n",
       "                                                  StandardScaler(),\n",
       "                                                  Index(['p54.162.13', 'p55.162.13', 'cape.13', 'p59.162.13', 'lai_lv.13',\n",
       "       'lai_hv.13', 'u10n.13', 'v10n.13', 'sp.13', 'stl1.13', 'u10.13',\n",
       "       'v10.13', 't2m.13', 'stl2.13', 'stl3.13', 'iews.13', 'inss.13',\n",
       "       'stl4.13', 'fsr.13', 'flsr.13', 'u100.13', 'v100.13'],\n",
       "      dtype='object'))])),\n",
       "                ('regresor',\n",
       "                 LassoCV(alphas=[0, 0.001, 0.1], cv=3, max_iter=10000))])"
      ]
     },
     "execution_count": 61,
     "metadata": {},
     "output_type": "execute_result"
    }
   ],
   "source": [
    "# PRUEBAS\n",
    "# Con esta forma no sale que el mejor alpha es 0.\n",
    "\n",
    "from sklearn.linear_model import LassoCV\n",
    "from sklearn.pipeline import Pipeline\n",
    "from sklearn.compose import make_column_transformer\n",
    "\n",
    "# preprocessor = StandardScaler()\n",
    "preprocessor = make_column_transformer((StandardScaler(), X_df.columns))\n",
    "pipe_regrLasso = Pipeline([\n",
    "        ('preproceso', preprocessor),\n",
    "        ('regresor', LassoCV(\n",
    "            alphas          = [0, 0.001, 0.1],\n",
    "            cv              = 3,\n",
    "            max_iter        = 10000\n",
    "         ))\n",
    "])\n",
    "\n",
    "np.random.seed(49)\n",
    "\n",
    "pipe_regrLasso.fit(X = X_train, y = y_train)"
   ]
  },
  {
   "cell_type": "code",
   "execution_count": 62,
   "metadata": {},
   "outputs": [
    {
     "name": "stdout",
     "output_type": "stream",
     "text": [
      "RMSE de regresión lineal Lasso: 539.76116837867\n",
      "R2 de regresión lineal Lasso: 0.323844012628153\n",
      "Mejor aplpha: 0.001\n"
     ]
    }
   ],
   "source": [
    "y_test_pred = pipe_regrLasso.predict(X=X_test)\n",
    "\n",
    "rmse = np.sqrt(metrics.mean_squared_error(y_test, y_test_pred))\n",
    "r2 = metrics.r2_score(y_test, y_test_pred)\n",
    "\n",
    "print(f\"RMSE de regresión lineal Lasso: {rmse}\")\n",
    "print(f\"R2 de regresión lineal Lasso: {r2}\")\n",
    "print(f\"Mejor aplpha: {pipe_regrLasso['regresor'].alpha_}\")"
   ]
  },
  {
   "cell_type": "markdown",
   "metadata": {},
   "source": [
    "### Elastic Net"
   ]
  },
  {
   "cell_type": "code",
   "execution_count": 64,
   "metadata": {},
   "outputs": [
    {
     "name": "stdout",
     "output_type": "stream",
     "text": [
      "Fitting 3 folds for each of 9 candidates, totalling 27 fits\n"
     ]
    },
    {
     "name": "stderr",
     "output_type": "stream",
     "text": [
      "/Users/celia/miniconda3/lib/python3.8/site-packages/sklearn/linear_model/_coordinate_descent.py:628: ConvergenceWarning: Objective did not converge. You might want to increase the number of iterations, check the scale of the features or consider increasing regularisation. Duality gap: 3.155e+08, tolerance: 9.531e+04\n",
      "  model = cd_fast.enet_coordinate_descent(\n",
      "/Users/celia/miniconda3/lib/python3.8/site-packages/sklearn/linear_model/_coordinate_descent.py:628: ConvergenceWarning: Objective did not converge. You might want to increase the number of iterations, check the scale of the features or consider increasing regularisation. Duality gap: 2.891e+08, tolerance: 9.264e+04\n",
      "  model = cd_fast.enet_coordinate_descent(\n",
      "/Users/celia/miniconda3/lib/python3.8/site-packages/sklearn/linear_model/_coordinate_descent.py:628: ConvergenceWarning: Objective did not converge. You might want to increase the number of iterations, check the scale of the features or consider increasing regularisation. Duality gap: 3.119e+08, tolerance: 9.531e+04\n",
      "  model = cd_fast.enet_coordinate_descent(\n",
      "/Users/celia/miniconda3/lib/python3.8/site-packages/sklearn/linear_model/_coordinate_descent.py:628: ConvergenceWarning: Objective did not converge. You might want to increase the number of iterations, check the scale of the features or consider increasing regularisation. Duality gap: 3.267e+08, tolerance: 9.750e+04\n",
      "  model = cd_fast.enet_coordinate_descent(\n",
      "/Users/celia/miniconda3/lib/python3.8/site-packages/sklearn/linear_model/_coordinate_descent.py:628: ConvergenceWarning: Objective did not converge. You might want to increase the number of iterations, check the scale of the features or consider increasing regularisation. Duality gap: 2.854e+08, tolerance: 9.264e+04\n",
      "  model = cd_fast.enet_coordinate_descent(\n",
      "/Users/celia/miniconda3/lib/python3.8/site-packages/sklearn/linear_model/_coordinate_descent.py:628: ConvergenceWarning: Objective did not converge. You might want to increase the number of iterations, check the scale of the features or consider increasing regularisation. Duality gap: 3.233e+08, tolerance: 9.750e+04\n",
      "  model = cd_fast.enet_coordinate_descent(\n",
      "/Users/celia/miniconda3/lib/python3.8/site-packages/sklearn/linear_model/_coordinate_descent.py:628: ConvergenceWarning: Objective did not converge. You might want to increase the number of iterations, check the scale of the features or consider increasing regularisation. Duality gap: 3.101e+08, tolerance: 9.531e+04\n",
      "  model = cd_fast.enet_coordinate_descent(\n",
      "/Users/celia/miniconda3/lib/python3.8/site-packages/sklearn/linear_model/_coordinate_descent.py:628: ConvergenceWarning: Objective did not converge. You might want to increase the number of iterations, check the scale of the features or consider increasing regularisation. Duality gap: 2.840e+08, tolerance: 9.264e+04\n",
      "  model = cd_fast.enet_coordinate_descent(\n",
      "/Users/celia/miniconda3/lib/python3.8/site-packages/sklearn/linear_model/_coordinate_descent.py:628: ConvergenceWarning: Objective did not converge. You might want to increase the number of iterations, check the scale of the features or consider increasing regularisation. Duality gap: 3.228e+08, tolerance: 9.750e+04\n",
      "  model = cd_fast.enet_coordinate_descent(\n",
      "/Users/celia/miniconda3/lib/python3.8/site-packages/sklearn/linear_model/_coordinate_descent.py:628: ConvergenceWarning: Objective did not converge. You might want to increase the number of iterations, check the scale of the features or consider increasing regularisation. Duality gap: 4.487e+07, tolerance: 9.531e+04\n",
      "  model = cd_fast.enet_coordinate_descent(\n",
      "/Users/celia/miniconda3/lib/python3.8/site-packages/sklearn/linear_model/_coordinate_descent.py:628: ConvergenceWarning: Objective did not converge. You might want to increase the number of iterations, check the scale of the features or consider increasing regularisation. Duality gap: 2.228e+07, tolerance: 9.264e+04\n",
      "  model = cd_fast.enet_coordinate_descent(\n",
      "/Users/celia/miniconda3/lib/python3.8/site-packages/sklearn/linear_model/_coordinate_descent.py:628: ConvergenceWarning: Objective did not converge. You might want to increase the number of iterations, check the scale of the features or consider increasing regularisation. Duality gap: 2.668e+07, tolerance: 9.750e+04\n",
      "  model = cd_fast.enet_coordinate_descent(\n",
      "/Users/celia/miniconda3/lib/python3.8/site-packages/sklearn/linear_model/_coordinate_descent.py:628: ConvergenceWarning: Objective did not converge. You might want to increase the number of iterations, check the scale of the features or consider increasing regularisation. Duality gap: 8.322e+07, tolerance: 9.531e+04\n",
      "  model = cd_fast.enet_coordinate_descent(\n",
      "/Users/celia/miniconda3/lib/python3.8/site-packages/sklearn/linear_model/_coordinate_descent.py:628: ConvergenceWarning: Objective did not converge. You might want to increase the number of iterations, check the scale of the features or consider increasing regularisation. Duality gap: 2.733e+07, tolerance: 9.264e+04\n",
      "  model = cd_fast.enet_coordinate_descent(\n",
      "/Users/celia/miniconda3/lib/python3.8/site-packages/sklearn/linear_model/_coordinate_descent.py:628: ConvergenceWarning: Objective did not converge. You might want to increase the number of iterations, check the scale of the features or consider increasing regularisation. Duality gap: 1.190e+08, tolerance: 9.750e+04\n",
      "  model = cd_fast.enet_coordinate_descent(\n",
      "/Users/celia/miniconda3/lib/python3.8/site-packages/sklearn/linear_model/_coordinate_descent.py:628: ConvergenceWarning: Objective did not converge. You might want to increase the number of iterations, check the scale of the features or consider increasing regularisation. Duality gap: 2.942e+08, tolerance: 9.531e+04\n",
      "  model = cd_fast.enet_coordinate_descent(\n",
      "/Users/celia/miniconda3/lib/python3.8/site-packages/sklearn/linear_model/_coordinate_descent.py:628: ConvergenceWarning: Objective did not converge. You might want to increase the number of iterations, check the scale of the features or consider increasing regularisation. Duality gap: 2.653e+08, tolerance: 9.264e+04\n",
      "  model = cd_fast.enet_coordinate_descent(\n",
      "/Users/celia/miniconda3/lib/python3.8/site-packages/sklearn/linear_model/_coordinate_descent.py:628: ConvergenceWarning: Objective did not converge. You might want to increase the number of iterations, check the scale of the features or consider increasing regularisation. Duality gap: 3.100e+08, tolerance: 9.750e+04\n",
      "  model = cd_fast.enet_coordinate_descent(\n",
      "/Users/celia/miniconda3/lib/python3.8/site-packages/sklearn/linear_model/_coordinate_descent.py:628: ConvergenceWarning: Objective did not converge. You might want to increase the number of iterations, check the scale of the features or consider increasing regularisation. Duality gap: 6.255e+05, tolerance: 9.531e+04\n",
      "  model = cd_fast.enet_coordinate_descent(\n",
      "/Users/celia/miniconda3/lib/python3.8/site-packages/sklearn/linear_model/_coordinate_descent.py:628: ConvergenceWarning: Objective did not converge. You might want to increase the number of iterations, check the scale of the features or consider increasing regularisation. Duality gap: 1.132e+05, tolerance: 9.264e+04\n",
      "  model = cd_fast.enet_coordinate_descent(\n",
      "/Users/celia/miniconda3/lib/python3.8/site-packages/sklearn/linear_model/_coordinate_descent.py:628: ConvergenceWarning: Objective did not converge. You might want to increase the number of iterations, check the scale of the features or consider increasing regularisation. Duality gap: 2.719e+08, tolerance: 9.531e+04\n",
      "  model = cd_fast.enet_coordinate_descent(\n",
      "/Users/celia/miniconda3/lib/python3.8/site-packages/sklearn/linear_model/_coordinate_descent.py:628: ConvergenceWarning: Objective did not converge. You might want to increase the number of iterations, check the scale of the features or consider increasing regularisation. Duality gap: 2.378e+08, tolerance: 9.264e+04\n",
      "  model = cd_fast.enet_coordinate_descent(\n",
      "/Users/celia/miniconda3/lib/python3.8/site-packages/sklearn/linear_model/_coordinate_descent.py:628: ConvergenceWarning: Objective did not converge. You might want to increase the number of iterations, check the scale of the features or consider increasing regularisation. Duality gap: 2.917e+08, tolerance: 9.750e+04\n",
      "  model = cd_fast.enet_coordinate_descent(\n",
      "/Users/celia/miniconda3/lib/python3.8/site-packages/sklearn/linear_model/_coordinate_descent.py:628: ConvergenceWarning: Objective did not converge. You might want to increase the number of iterations, check the scale of the features or consider increasing regularisation. Duality gap: 4.047e+08, tolerance: 1.427e+05\n",
      "  model = cd_fast.enet_coordinate_descent(\n"
     ]
    }
   ],
   "source": [
    "from sklearn.linear_model import ElasticNet\n",
    "\n",
    "param_grid = {'alpha': [0.001, 0.005, 0.01],\n",
    "              'l1_ratio': [0.1, 0.5, 0.99]}\n",
    "\n",
    "inner = KFold(n_splits=3, shuffle=True, random_state=49)\n",
    "\n",
    "regr_elastic_hpo = GridSearchCV(ElasticNet(),\n",
    "                         param_grid,\n",
    "                         scoring='neg_mean_squared_error',\n",
    "                         cv=inner,\n",
    "                         n_jobs=-1, verbose=1\n",
    "                        )\n",
    "\n",
    "np.random.seed(49)\n",
    "inicio = time.time()\n",
    "regr_elastic_hpo.fit(X=X_train_scaled, y=y_train)\n",
    "fin = time.time()\n",
    "t_elastic_hpo = fin - inicio"
   ]
  },
  {
   "cell_type": "code",
   "execution_count": 65,
   "metadata": {},
   "outputs": [
    {
     "name": "stdout",
     "output_type": "stream",
     "text": [
      "RMSE: 539.7978560871738\n",
      "R2: 0.3237520925039308\n",
      "Mejor parámetro: {'alpha': 0.01, 'l1_ratio': 0.99}\n"
     ]
    }
   ],
   "source": [
    "y_test_pred = regr_elastic_hpo.predict(X_test_scaled)\n",
    "# Métricas de evaluación\n",
    "rmse_elastic_hpo = np.sqrt(metrics.mean_squared_error(y_test, y_test_pred))\n",
    "r2_elastic_hpo = metrics.r2_score(y_test, y_test_pred)\n",
    "\n",
    "# Imprimimos resultados\n",
    "print(f\"RMSE: {rmse_elastic_hpo}\")\n",
    "print(f\"R2: {r2_elastic_hpo}\")\n",
    "print(f\"Mejor parámetro: {regr_elastic_hpo.best_params_}\")"
   ]
  },
  {
   "cell_type": "markdown",
   "metadata": {},
   "source": [
    "### SVM lineal\n",
    "\n",
    "Como siguiente modelo a evaluar se trata del SVM lineal. Es decir, con el kernel especificado a lineal. Tras el ajuste de su hiperparámetro, hemos obtenido lo siguiente."
   ]
  },
  {
   "cell_type": "code",
   "execution_count": 45,
   "metadata": {},
   "outputs": [
    {
     "name": "stdout",
     "output_type": "stream",
     "text": [
      "Fitting 3 folds for each of 4 candidates, totalling 12 fits\n"
     ]
    }
   ],
   "source": [
    "param_grid = {'C': [5000, 10000, 15000, 20000]}\n",
    "\n",
    "inner = KFold(n_splits=3, shuffle=True, random_state=49)\n",
    "\n",
    "regr_svm_lineal_hpo = GridSearchCV(SVR(kernel=\"linear\"),\n",
    "                         param_grid,\n",
    "                         scoring='neg_mean_squared_error',\n",
    "                         cv=inner,\n",
    "                         n_jobs=-1, verbose=1\n",
    "                        )\n",
    "\n",
    "np.random.seed(49)\n",
    "inicio = time.time()\n",
    "regr_svm_lineal_hpo.fit(X=X_train_scaled, y=y_train)\n",
    "fin = time.time()\n",
    "t_svm_lineal_hpo = fin - inicio"
   ]
  },
  {
   "cell_type": "code",
   "execution_count": 46,
   "metadata": {},
   "outputs": [
    {
     "name": "stdout",
     "output_type": "stream",
     "text": [
      "RMSE: 572.6160468720577\n",
      "R2: 0.2390245388708796\n",
      "Mejor parámetro: {'C': 10000}\n"
     ]
    }
   ],
   "source": [
    "y_test_pred = regr_svm_lineal_hpo.predict(X_test_scaled)\n",
    "# Métricas de evaluación\n",
    "rmse_svm_lineal_hpo = np.sqrt(metrics.mean_squared_error(y_test, y_test_pred))\n",
    "r2_svm_lineal_hpo = metrics.r2_score(y_test, y_test_pred)\n",
    "\n",
    "# Imprimimos resultados\n",
    "print(f\"RMSE: {rmse_svm_lineal_hpo}\")\n",
    "print(f\"R2: {r2_svm_lineal_hpo}\")\n",
    "print(f\"Mejor parámetro: {regr_svm_lineal_hpo.best_params_}\")"
   ]
  },
  {
   "cell_type": "markdown",
   "metadata": {},
   "source": [
    "### SVM Radial\n",
    "\n",
    "El siguiente modelo a evaluar, va a ser el mismo que el anterior, pero el radial. Es decir, el kernel dado por omisión, el radial. Tras el ajuste de hiperparámetros, obtenemos lo siguiente."
   ]
  },
  {
   "cell_type": "code",
   "execution_count": 47,
   "metadata": {},
   "outputs": [
    {
     "name": "stdout",
     "output_type": "stream",
     "text": [
      "Fitting 3 folds for each of 9 candidates, totalling 27 fits\n"
     ]
    }
   ],
   "source": [
    "param_grid = {'C': [30000, 30500, 40000],\n",
    "              'gamma': [0.005, 0.01, 0.05]}\n",
    "\n",
    "inner = KFold(n_splits=3, shuffle=True, random_state=49)\n",
    "\n",
    "regr_svm_radial_hpo = GridSearchCV(SVR(),\n",
    "                         param_grid,\n",
    "                         scoring='neg_mean_squared_error',\n",
    "                         cv=inner,\n",
    "                         n_jobs=-1, verbose=1\n",
    "                        )\n",
    "\n",
    "np.random.seed(49)\n",
    "inicio = time.time()\n",
    "regr_svm_radial_hpo.fit(X=X_train_scaled, y=y_train)\n",
    "fin = time.time()\n",
    "t_svm_radial_hpo = fin - inicio"
   ]
  },
  {
   "cell_type": "code",
   "execution_count": 48,
   "metadata": {},
   "outputs": [
    {
     "name": "stdout",
     "output_type": "stream",
     "text": [
      "RMSE: 360.1499428759609\n",
      "R2: 0.6989696219124917\n",
      "Mejor parámetro: {'C': 30500, 'gamma': 0.01}\n"
     ]
    }
   ],
   "source": [
    "y_test_pred = regr_svm_radial_hpo.predict(X_test_scaled)\n",
    "# Métricas de evaluación\n",
    "rmse_svm_radial_hpo = np.sqrt(metrics.mean_squared_error(y_test, y_test_pred))\n",
    "r2_svm_radial_hpo = metrics.r2_score(y_test, y_test_pred)\n",
    "\n",
    "# Imprimimos resultados\n",
    "print(f\"RMSE: {rmse_svm_radial_hpo}\")\n",
    "print(f\"R2: {r2_svm_radial_hpo}\")\n",
    "print(f\"Mejor parámetro: {regr_svm_radial_hpo.best_params_}\")"
   ]
  },
  {
   "cell_type": "markdown",
   "metadata": {},
   "source": [
    "Con este modelo, tras el proceso de ajustar ambos parámetros, obtenemos que una notable mejora en la predicción. Tras la evaluación del modelo, podemos ver como se reduce bastante el valor del RMSE y como aumenta en gran medida el R2, respecto al modelo dummy, al SVM radial con los datos por omisión y al SVM lineal por ajuste de hiperparámetros."
   ]
  },
  {
   "cell_type": "markdown",
   "metadata": {},
   "source": [
    "### Random Forest."
   ]
  },
  {
   "cell_type": "code",
   "execution_count": 78,
   "metadata": {},
   "outputs": [
    {
     "name": "stdout",
     "output_type": "stream",
     "text": [
      "Fitting 3 folds for each of 150 candidates, totalling 450 fits\n"
     ]
    }
   ],
   "source": [
    "from sklearn.ensemble import RandomForestRegressor\n",
    "\n",
    "param_grid = {'n_estimators': sp_randint(10, 200),\n",
    "              'max_features': sp_randint(1, X_df.shape[1]),\n",
    "              'max_depth': sp_randint(2, 20),\n",
    "              'min_samples_split': sp_randint(2, 20),\n",
    "              'min_samples_leaf': sp_randint(1, 20)}\n",
    "\n",
    "inner = KFold(n_splits=3, shuffle=True, random_state=49)\n",
    "\n",
    "budget = 150\n",
    "regr_rf_hpo = RandomizedSearchCV(RandomForestRegressor(),\n",
    "                         param_grid,\n",
    "                         scoring='neg_mean_squared_error',\n",
    "                         cv=inner,\n",
    "                         refit=True,\n",
    "                         n_jobs=-1, verbose=1,\n",
    "                         n_iter = budget\n",
    "                        )\n",
    "\n",
    "np.random.seed(49)\n",
    "inicio = time.time()\n",
    "regr_rf_hpo.fit(X=X_train_scaled, y=y_train)\n",
    "fin = time.time()\n",
    "t_rf_hpo = fin - inicio"
   ]
  },
  {
   "cell_type": "code",
   "execution_count": 79,
   "metadata": {},
   "outputs": [
    {
     "name": "stdout",
     "output_type": "stream",
     "text": [
      "RMSE: 369.5395769629748\n",
      "R2: 0.6830684035865953\n",
      "Mejor parámetro: {'max_depth': 19, 'max_features': 12, 'min_samples_leaf': 3, 'min_samples_split': 3, 'n_estimators': 102}\n"
     ]
    }
   ],
   "source": [
    "y_test_pred = regr_rf_hpo.predict(X_test_scaled)\n",
    "# Métricas de evaluación\n",
    "rmse_rf_hpo = np.sqrt(metrics.mean_squared_error(y_test, y_test_pred))\n",
    "r2_rf_hpo = metrics.r2_score(y_test, y_test_pred)\n",
    "\n",
    "# Imprimimos resultados\n",
    "print(f\"RMSE: {rmse_rf_hpo}\")\n",
    "print(f\"R2: {r2_rf_hpo}\")\n",
    "print(f\"Mejor parámetro: {regr_rf_hpo.best_params_}\")"
   ]
  },
  {
   "cell_type": "markdown",
   "metadata": {},
   "source": [
    "---\n",
    "## Tiempos de entrenamiento\n",
    "---\n",
    "\n",
    "Para finalizar la evaluación *outer*, veremos los tiempos de entrenamiento obtenidos. Expondremos y analizaremos los tiempos de ejecución junto a los resultados obtenidos de cada modelo para evaluar el rendimiento de cada uno de ellos. Con el fin principal de obtener el modelo final que resuelva este problema de regresión."
   ]
  },
  {
   "cell_type": "code",
   "execution_count": 49,
   "metadata": {},
   "outputs": [
    {
     "data": {
      "text/html": [
       "<div>\n",
       "<style scoped>\n",
       "    .dataframe tbody tr th:only-of-type {\n",
       "        vertical-align: middle;\n",
       "    }\n",
       "\n",
       "    .dataframe tbody tr th {\n",
       "        vertical-align: top;\n",
       "    }\n",
       "\n",
       "    .dataframe thead th {\n",
       "        text-align: right;\n",
       "    }\n",
       "</style>\n",
       "<table border=\"1\" class=\"dataframe\">\n",
       "  <thead>\n",
       "    <tr style=\"text-align: right;\">\n",
       "      <th></th>\n",
       "      <th>Modelo</th>\n",
       "      <th>RMSE</th>\n",
       "      <th>R2</th>\n",
       "      <th>Tiempo</th>\n",
       "    </tr>\n",
       "  </thead>\n",
       "  <tbody>\n",
       "    <tr>\n",
       "      <th>0</th>\n",
       "      <td>Dummy</td>\n",
       "      <td>692.091301</td>\n",
       "      <td>-0.111656</td>\n",
       "      <td>0.001571</td>\n",
       "    </tr>\n",
       "  </tbody>\n",
       "</table>\n",
       "</div>"
      ],
      "text/plain": [
       "  Modelo        RMSE        R2    Tiempo\n",
       "0  Dummy  692.091301 -0.111656  0.001571"
      ]
     },
     "execution_count": 49,
     "metadata": {},
     "output_type": "execute_result"
    }
   ],
   "source": [
    "# Tomaremos como referencia el modelo Dummy.\n",
    "tabla_dummy = pd.DataFrame({\n",
    "    \"Modelo\": [\"Dummy\"],\n",
    "    \"RMSE\": [rmse_dummy],\n",
    "    \"R2\": [r2_dummy],\n",
    "    \"Tiempo\": [t_dummy]\n",
    "})\n",
    "tabla_dummy"
   ]
  },
  {
   "cell_type": "code",
   "execution_count": 50,
   "metadata": {},
   "outputs": [],
   "source": [
    "# Resultado de los modelos sin HPO.\n",
    "tabla_sin_hpo = pd.DataFrame({\n",
    "    \"RMSE\": [rmse_knn_scaled, rmse_lineal, rmse_tree, rmse_linear_tree, rmse_ridge, rmse_lasso, rmse_svm_lineal, rmse_svm_radial],\n",
    "    \"R2\": [r2_knn_scaled, r2_lineal, r2_tree, r2_linear_tree, r2_ridge, r2_lasso, r2_svm_lineal, r2_svm_radial],\n",
    "    \"Tiempo\": [t_knn, t_lineal, t_tree, t_linear_tree, t_ridge, t_lasso, t_svm_lineal, t_svm_radial]\n",
    "}, index = [\"KNN\", \"Regresión lineal\", \"Árbol de decisión\", \"Árbol con regresión lineal\", \"Regularización ridge\", \"Regularización lasso\", \"SVM lineal\", \"SVM radial\"])"
   ]
  },
  {
   "cell_type": "code",
   "execution_count": 51,
   "metadata": {},
   "outputs": [],
   "source": [
    "# Resultados de los modelos con HPO.\n",
    "tabla_hpo = pd.DataFrame({\n",
    "    \"RMSE\": [rmse_knn_hpo, rmse_tree_hpo, rmse_tree_hpo_bayes, rmse_ridge_hpo, rmse_lasso_hpo, rmse_svm_lineal_hpo, rmse_svm_radial_hpo],\n",
    "    \"R2\": [r2_knn_hpo, r2_tree_hpo, r2_tree_hpo_bayes, r2_ridge_hpo, r2_lasso_hpo, r2_svm_lineal_hpo, r2_svm_radial_hpo],\n",
    "    \"Tiempo\": [t_knn_hpo, t_tree_hpo, t_tree_hpo_bayes, t_ridge_hpo, t_lasso_hpo, t_svm_lineal_hpo, t_svm_radial_hpo]\n",
    "}, index = [\"KNN\", \"Árbol de decisión\", \"Árbol de decisión Bayes\", \"Regularización ridge\", \"Regularización lasso\", \"SVM lineal\", \"SVM radial\"])"
   ]
  },
  {
   "cell_type": "markdown",
   "metadata": {},
   "source": [
    "Unificaremos las tablas en una sola para ver mejor los resultados. A la izquierda quedan los resultados sin ajuste de hiperparámetros y a la derecha los ajustados. Adicionalmente, con fines simplemente visuales, se ha decidido eliminar los *NaN* y sustituirlos por guiones."
   ]
  },
  {
   "cell_type": "code",
   "execution_count": 52,
   "metadata": {},
   "outputs": [
    {
     "data": {
      "text/html": [
       "<div>\n",
       "<style scoped>\n",
       "    .dataframe tbody tr th:only-of-type {\n",
       "        vertical-align: middle;\n",
       "    }\n",
       "\n",
       "    .dataframe tbody tr th {\n",
       "        vertical-align: top;\n",
       "    }\n",
       "\n",
       "    .dataframe thead th {\n",
       "        text-align: right;\n",
       "    }\n",
       "</style>\n",
       "<table border=\"1\" class=\"dataframe\">\n",
       "  <thead>\n",
       "    <tr style=\"text-align: right;\">\n",
       "      <th></th>\n",
       "      <th>RMSE</th>\n",
       "      <th>R2</th>\n",
       "      <th>Tiempo</th>\n",
       "      <th>RMSE</th>\n",
       "      <th>R2</th>\n",
       "      <th>Tiempo</th>\n",
       "    </tr>\n",
       "  </thead>\n",
       "  <tbody>\n",
       "    <tr>\n",
       "      <th>KNN</th>\n",
       "      <td>402.269009</td>\n",
       "      <td>0.624442</td>\n",
       "      <td>0.003778</td>\n",
       "      <td>398.145327</td>\n",
       "      <td>0.632102</td>\n",
       "      <td>1.55518</td>\n",
       "    </tr>\n",
       "    <tr>\n",
       "      <th>Regresión lineal</th>\n",
       "      <td>539.761203</td>\n",
       "      <td>0.323844</td>\n",
       "      <td>0.003515</td>\n",
       "      <td>-</td>\n",
       "      <td>-</td>\n",
       "      <td>-</td>\n",
       "    </tr>\n",
       "    <tr>\n",
       "      <th>Árbol de decisión</th>\n",
       "      <td>509.815211</td>\n",
       "      <td>0.396789</td>\n",
       "      <td>0.225468</td>\n",
       "      <td>423.624316</td>\n",
       "      <td>0.583509</td>\n",
       "      <td>2.92416</td>\n",
       "    </tr>\n",
       "    <tr>\n",
       "      <th>Árbol con regresión lineal</th>\n",
       "      <td>383.133115</td>\n",
       "      <td>0.659323</td>\n",
       "      <td>163.105386</td>\n",
       "      <td>-</td>\n",
       "      <td>-</td>\n",
       "      <td>-</td>\n",
       "    </tr>\n",
       "    <tr>\n",
       "      <th>Regularización ridge</th>\n",
       "      <td>540.100085</td>\n",
       "      <td>0.322995</td>\n",
       "      <td>0.043259</td>\n",
       "      <td>539.841392</td>\n",
       "      <td>0.323643</td>\n",
       "      <td>0.082343</td>\n",
       "    </tr>\n",
       "    <tr>\n",
       "      <th>Regularización lasso</th>\n",
       "      <td>540.100085</td>\n",
       "      <td>0.322995</td>\n",
       "      <td>0.029411</td>\n",
       "      <td>539.761201</td>\n",
       "      <td>0.323844</td>\n",
       "      <td>3.882873</td>\n",
       "    </tr>\n",
       "    <tr>\n",
       "      <th>SVM lineal</th>\n",
       "      <td>587.146049</td>\n",
       "      <td>0.199915</td>\n",
       "      <td>0.392949</td>\n",
       "      <td>572.616047</td>\n",
       "      <td>0.239025</td>\n",
       "      <td>88.58592</td>\n",
       "    </tr>\n",
       "    <tr>\n",
       "      <th>SVM radial</th>\n",
       "      <td>632.107878</td>\n",
       "      <td>0.072688</td>\n",
       "      <td>0.36861</td>\n",
       "      <td>360.149943</td>\n",
       "      <td>0.69897</td>\n",
       "      <td>21.151856</td>\n",
       "    </tr>\n",
       "    <tr>\n",
       "      <th>Árbol de decisión Bayes</th>\n",
       "      <td>-</td>\n",
       "      <td>-</td>\n",
       "      <td>-</td>\n",
       "      <td>420.788412</td>\n",
       "      <td>0.589067</td>\n",
       "      <td>130.370071</td>\n",
       "    </tr>\n",
       "  </tbody>\n",
       "</table>\n",
       "</div>"
      ],
      "text/plain": [
       "                                  RMSE        R2      Tiempo        RMSE  \\\n",
       "KNN                         402.269009  0.624442    0.003778  398.145327   \n",
       "Regresión lineal            539.761203  0.323844    0.003515           -   \n",
       "Árbol de decisión           509.815211  0.396789    0.225468  423.624316   \n",
       "Árbol con regresión lineal  383.133115  0.659323  163.105386           -   \n",
       "Regularización ridge        540.100085  0.322995    0.043259  539.841392   \n",
       "Regularización lasso        540.100085  0.322995    0.029411  539.761201   \n",
       "SVM lineal                  587.146049  0.199915    0.392949  572.616047   \n",
       "SVM radial                  632.107878  0.072688     0.36861  360.149943   \n",
       "Árbol de decisión Bayes              -         -           -  420.788412   \n",
       "\n",
       "                                  R2      Tiempo  \n",
       "KNN                         0.632102     1.55518  \n",
       "Regresión lineal                   -           -  \n",
       "Árbol de decisión           0.583509     2.92416  \n",
       "Árbol con regresión lineal         -           -  \n",
       "Regularización ridge        0.323643    0.082343  \n",
       "Regularización lasso        0.323844    3.882873  \n",
       "SVM lineal                  0.239025    88.58592  \n",
       "SVM radial                   0.69897   21.151856  \n",
       "Árbol de decisión Bayes     0.589067  130.370071  "
      ]
     },
     "execution_count": 52,
     "metadata": {},
     "output_type": "execute_result"
    }
   ],
   "source": [
    "# Unificamos ambas tablas en una sola.\n",
    "tabla = pd.concat([tabla_sin_hpo, tabla_hpo], axis=1)\n",
    "tabla = tabla.fillna('-')\n",
    "tabla"
   ]
  },
  {
   "cell_type": "markdown",
   "metadata": {},
   "source": [
    "---\n",
    "## Modelo final.\n",
    "---\n",
    "\n",
    "Para realizar el modelo final de este caso práctico de predicción, la mejor alternativa que hemos obtenido es el modelo SVM radial."
   ]
  },
  {
   "cell_type": "markdown",
   "metadata": {},
   "source": [
    "En primer lugar, obtenemos los datos que vamos a utilizar para la evaluación de las predicciones en este modelo final."
   ]
  },
  {
   "cell_type": "code",
   "execution_count": 53,
   "metadata": {},
   "outputs": [],
   "source": [
    "wind_comp = pd.read_csv('wind_comp.csv.gz', compression=\"gzip\")\n",
    "# Separación de variables de entrada y de salida.\n",
    "X_final = wind_comp.filter(regex='.13$')\n",
    "y_final = wind_comp['energy']"
   ]
  },
  {
   "cell_type": "markdown",
   "metadata": {},
   "source": [
    "En segundo lugar, creamos el modelo final con los mejores parámetros y lo entrenamos. Además, escalamos los datos debido a que el mejor modelo es el SVM que necesita que los datos estén escalados."
   ]
  },
  {
   "cell_type": "code",
   "execution_count": 54,
   "metadata": {},
   "outputs": [
    {
     "data": {
      "text/html": [
       "<style>#sk-container-id-2 {color: black;}#sk-container-id-2 pre{padding: 0;}#sk-container-id-2 div.sk-toggleable {background-color: white;}#sk-container-id-2 label.sk-toggleable__label {cursor: pointer;display: block;width: 100%;margin-bottom: 0;padding: 0.3em;box-sizing: border-box;text-align: center;}#sk-container-id-2 label.sk-toggleable__label-arrow:before {content: \"▸\";float: left;margin-right: 0.25em;color: #696969;}#sk-container-id-2 label.sk-toggleable__label-arrow:hover:before {color: black;}#sk-container-id-2 div.sk-estimator:hover label.sk-toggleable__label-arrow:before {color: black;}#sk-container-id-2 div.sk-toggleable__content {max-height: 0;max-width: 0;overflow: hidden;text-align: left;background-color: #f0f8ff;}#sk-container-id-2 div.sk-toggleable__content pre {margin: 0.2em;color: black;border-radius: 0.25em;background-color: #f0f8ff;}#sk-container-id-2 input.sk-toggleable__control:checked~div.sk-toggleable__content {max-height: 200px;max-width: 100%;overflow: auto;}#sk-container-id-2 input.sk-toggleable__control:checked~label.sk-toggleable__label-arrow:before {content: \"▾\";}#sk-container-id-2 div.sk-estimator input.sk-toggleable__control:checked~label.sk-toggleable__label {background-color: #d4ebff;}#sk-container-id-2 div.sk-label input.sk-toggleable__control:checked~label.sk-toggleable__label {background-color: #d4ebff;}#sk-container-id-2 input.sk-hidden--visually {border: 0;clip: rect(1px 1px 1px 1px);clip: rect(1px, 1px, 1px, 1px);height: 1px;margin: -1px;overflow: hidden;padding: 0;position: absolute;width: 1px;}#sk-container-id-2 div.sk-estimator {font-family: monospace;background-color: #f0f8ff;border: 1px dotted black;border-radius: 0.25em;box-sizing: border-box;margin-bottom: 0.5em;}#sk-container-id-2 div.sk-estimator:hover {background-color: #d4ebff;}#sk-container-id-2 div.sk-parallel-item::after {content: \"\";width: 100%;border-bottom: 1px solid gray;flex-grow: 1;}#sk-container-id-2 div.sk-label:hover label.sk-toggleable__label {background-color: #d4ebff;}#sk-container-id-2 div.sk-serial::before {content: \"\";position: absolute;border-left: 1px solid gray;box-sizing: border-box;top: 0;bottom: 0;left: 50%;z-index: 0;}#sk-container-id-2 div.sk-serial {display: flex;flex-direction: column;align-items: center;background-color: white;padding-right: 0.2em;padding-left: 0.2em;position: relative;}#sk-container-id-2 div.sk-item {position: relative;z-index: 1;}#sk-container-id-2 div.sk-parallel {display: flex;align-items: stretch;justify-content: center;background-color: white;position: relative;}#sk-container-id-2 div.sk-item::before, #sk-container-id-2 div.sk-parallel-item::before {content: \"\";position: absolute;border-left: 1px solid gray;box-sizing: border-box;top: 0;bottom: 0;left: 50%;z-index: -1;}#sk-container-id-2 div.sk-parallel-item {display: flex;flex-direction: column;z-index: 1;position: relative;background-color: white;}#sk-container-id-2 div.sk-parallel-item:first-child::after {align-self: flex-end;width: 50%;}#sk-container-id-2 div.sk-parallel-item:last-child::after {align-self: flex-start;width: 50%;}#sk-container-id-2 div.sk-parallel-item:only-child::after {width: 0;}#sk-container-id-2 div.sk-dashed-wrapped {border: 1px dashed gray;margin: 0 0.4em 0.5em 0.4em;box-sizing: border-box;padding-bottom: 0.4em;background-color: white;}#sk-container-id-2 div.sk-label label {font-family: monospace;font-weight: bold;display: inline-block;line-height: 1.2em;}#sk-container-id-2 div.sk-label-container {text-align: center;}#sk-container-id-2 div.sk-container {/* jupyter's `normalize.less` sets `[hidden] { display: none; }` but bootstrap.min.css set `[hidden] { display: none !important; }` so we also need the `!important` here to be able to override the default hidden behavior on the sphinx rendered scikit-learn.org. See: https://github.com/scikit-learn/scikit-learn/issues/21755 */display: inline-block !important;position: relative;}#sk-container-id-2 div.sk-text-repr-fallback {display: none;}</style><div id=\"sk-container-id-2\" class=\"sk-top-container\"><div class=\"sk-text-repr-fallback\"><pre>SVR(C=30500, gamma=0.01)</pre><b>In a Jupyter environment, please rerun this cell to show the HTML representation or trust the notebook. <br />On GitHub, the HTML representation is unable to render, please try loading this page with nbviewer.org.</b></div><div class=\"sk-container\" hidden><div class=\"sk-item\"><div class=\"sk-estimator sk-toggleable\"><input class=\"sk-toggleable__control sk-hidden--visually\" id=\"sk-estimator-id-6\" type=\"checkbox\" checked><label for=\"sk-estimator-id-6\" class=\"sk-toggleable__label sk-toggleable__label-arrow\">SVR</label><div class=\"sk-toggleable__content\"><pre>SVR(C=30500, gamma=0.01)</pre></div></div></div></div></div>"
      ],
      "text/plain": [
       "SVR(C=30500, gamma=0.01)"
      ]
     },
     "execution_count": 54,
     "metadata": {},
     "output_type": "execute_result"
    }
   ],
   "source": [
    "# Creamos el modelo final\n",
    "regr_final = regr_svm_radial_hpo\n",
    "# Con los mejores parámetros obtenidos\n",
    "best_params = regr_svm_radial_hpo.best_params_\n",
    "regr_final = SVR(**best_params)\n",
    "# Escalamos los datos\n",
    "scaler = StandardScaler()\n",
    "X_train_final = scaler.fit_transform(X_df)\n",
    "X_test_final = scaler.transform(X_final)\n",
    "# Entrenamos el modelo final\n",
    "regr_final.fit(X_train_final, y_df)"
   ]
  },
  {
   "cell_type": "markdown",
   "metadata": {},
   "source": [
    "Finalmente, realizaremos las predicciones con el conjunto ofrecido para ello y evaluaremos el rendimiento."
   ]
  },
  {
   "cell_type": "code",
   "execution_count": 55,
   "metadata": {},
   "outputs": [
    {
     "name": "stdout",
     "output_type": "stream",
     "text": [
      "RMSE del modelo final: 379.0647471588769\n",
      "R2 del modelo final: 0.7119807109903666\n"
     ]
    }
   ],
   "source": [
    "# Realizamos las predicciones\n",
    "y_test_pred = regr_final.predict(X_test_final)\n",
    "# Evaluamos el rendimiento del modelo\n",
    "rmse_final = np.sqrt(metrics.mean_squared_error(y_final, y_test_pred))\n",
    "r2_final = metrics.r2_score(y_final, y_test_pred)\n",
    "# Imprimimos el resultado\n",
    "print(f\"RMSE del modelo final: {rmse_final}\")\n",
    "print(f\"R2 del modelo final: {r2_final}\")"
   ]
  },
  {
   "cell_type": "markdown",
   "metadata": {},
   "source": [
    "### Conclusiones.\n",
    "\n",
    "Se obtiene que las predicciones del modelo final se desvían de los valores de energía real en aproximadamente 379 unidades. Por otro lado, se obtiene que el 71% de la variabilidad de la energía pueden explicarse en este modelo final. \n",
    "\n",
    "si las predicciones para valores altos son peores que para valores bajos"
   ]
  },
  {
   "cell_type": "markdown",
   "metadata": {},
   "source": [
    "---\n",
    "## Converisón a un problema de clasificación.\n",
    "---\n",
    "\n",
    "En la siguiente sección, convertiremos el problema de regresión en uno de clasificación. Esto lo haremos de la siguiente manera: cuando la energía sea menor que el tercer cuantil, se considerará clase “baja”, y cuando sea mayor, clase “alta”."
   ]
  },
  {
   "cell_type": "code",
   "execution_count": 87,
   "metadata": {},
   "outputs": [
    {
     "data": {
      "text/plain": [
       "1089.375"
      ]
     },
     "execution_count": 87,
     "metadata": {},
     "output_type": "execute_result"
    }
   ],
   "source": [
    "X_df['energy'] = y_df\n",
    "\n",
    "# Calcular el tercer cuartil de la variable 'energy'\n",
    "tercer_cuartil = X_df['energy'].quantile(0.75)\n"
   ]
  },
  {
   "cell_type": "code",
   "execution_count": 88,
   "metadata": {},
   "outputs": [
    {
     "data": {
      "text/html": [
       "<div>\n",
       "<style scoped>\n",
       "    .dataframe tbody tr th:only-of-type {\n",
       "        vertical-align: middle;\n",
       "    }\n",
       "\n",
       "    .dataframe tbody tr th {\n",
       "        vertical-align: top;\n",
       "    }\n",
       "\n",
       "    .dataframe thead th {\n",
       "        text-align: right;\n",
       "    }\n",
       "</style>\n",
       "<table border=\"1\" class=\"dataframe\">\n",
       "  <thead>\n",
       "    <tr style=\"text-align: right;\">\n",
       "      <th></th>\n",
       "      <th>p54.162.13</th>\n",
       "      <th>p55.162.13</th>\n",
       "      <th>cape.13</th>\n",
       "      <th>p59.162.13</th>\n",
       "      <th>lai_lv.13</th>\n",
       "      <th>lai_hv.13</th>\n",
       "      <th>u10n.13</th>\n",
       "      <th>v10n.13</th>\n",
       "      <th>sp.13</th>\n",
       "      <th>stl1.13</th>\n",
       "      <th>...</th>\n",
       "      <th>stl2.13</th>\n",
       "      <th>stl3.13</th>\n",
       "      <th>iews.13</th>\n",
       "      <th>inss.13</th>\n",
       "      <th>stl4.13</th>\n",
       "      <th>fsr.13</th>\n",
       "      <th>flsr.13</th>\n",
       "      <th>u100.13</th>\n",
       "      <th>v100.13</th>\n",
       "      <th>energy</th>\n",
       "    </tr>\n",
       "  </thead>\n",
       "  <tbody>\n",
       "    <tr>\n",
       "      <th>0</th>\n",
       "      <td>2.510824e+06</td>\n",
       "      <td>9.186295</td>\n",
       "      <td>13.527577</td>\n",
       "      <td>1.386937e+06</td>\n",
       "      <td>2.344111</td>\n",
       "      <td>2.432983</td>\n",
       "      <td>-0.757587</td>\n",
       "      <td>-1.922799</td>\n",
       "      <td>99846.319914</td>\n",
       "      <td>280.960661</td>\n",
       "      <td>...</td>\n",
       "      <td>281.042026</td>\n",
       "      <td>281.462478</td>\n",
       "      <td>-0.057958</td>\n",
       "      <td>-0.138650</td>\n",
       "      <td>284.684755</td>\n",
       "      <td>0.404731</td>\n",
       "      <td>-5.927092</td>\n",
       "      <td>-1.780562</td>\n",
       "      <td>-4.443617</td>\n",
       "      <td>402.71</td>\n",
       "    </tr>\n",
       "    <tr>\n",
       "      <th>1</th>\n",
       "      <td>2.513173e+06</td>\n",
       "      <td>8.849569</td>\n",
       "      <td>6.896412</td>\n",
       "      <td>1.153526e+06</td>\n",
       "      <td>2.343719</td>\n",
       "      <td>2.432838</td>\n",
       "      <td>-1.412620</td>\n",
       "      <td>-1.403011</td>\n",
       "      <td>99917.733093</td>\n",
       "      <td>279.296651</td>\n",
       "      <td>...</td>\n",
       "      <td>280.747406</td>\n",
       "      <td>281.486541</td>\n",
       "      <td>-0.103576</td>\n",
       "      <td>-0.083050</td>\n",
       "      <td>284.667948</td>\n",
       "      <td>0.404920</td>\n",
       "      <td>-5.913881</td>\n",
       "      <td>-3.743344</td>\n",
       "      <td>-3.129469</td>\n",
       "      <td>696.80</td>\n",
       "    </tr>\n",
       "    <tr>\n",
       "      <th>4</th>\n",
       "      <td>2.505664e+06</td>\n",
       "      <td>6.646282</td>\n",
       "      <td>0.000000</td>\n",
       "      <td>1.070830e+06</td>\n",
       "      <td>2.342437</td>\n",
       "      <td>2.432369</td>\n",
       "      <td>-0.971249</td>\n",
       "      <td>0.553060</td>\n",
       "      <td>99372.811211</td>\n",
       "      <td>279.583112</td>\n",
       "      <td>...</td>\n",
       "      <td>280.576898</td>\n",
       "      <td>281.473265</td>\n",
       "      <td>-0.056553</td>\n",
       "      <td>0.041844</td>\n",
       "      <td>284.620232</td>\n",
       "      <td>0.403808</td>\n",
       "      <td>-5.987860</td>\n",
       "      <td>-3.392324</td>\n",
       "      <td>2.131114</td>\n",
       "      <td>562.50</td>\n",
       "    </tr>\n",
       "    <tr>\n",
       "      <th>5</th>\n",
       "      <td>2.505768e+06</td>\n",
       "      <td>6.125948</td>\n",
       "      <td>0.000000</td>\n",
       "      <td>1.094100e+06</td>\n",
       "      <td>2.342045</td>\n",
       "      <td>2.432235</td>\n",
       "      <td>-0.153568</td>\n",
       "      <td>1.554043</td>\n",
       "      <td>99257.763690</td>\n",
       "      <td>276.620140</td>\n",
       "      <td>...</td>\n",
       "      <td>279.654761</td>\n",
       "      <td>281.464691</td>\n",
       "      <td>0.003361</td>\n",
       "      <td>0.144389</td>\n",
       "      <td>284.603425</td>\n",
       "      <td>0.404758</td>\n",
       "      <td>-5.957546</td>\n",
       "      <td>0.190590</td>\n",
       "      <td>5.349629</td>\n",
       "      <td>232.30</td>\n",
       "    </tr>\n",
       "    <tr>\n",
       "      <th>6</th>\n",
       "      <td>2.503477e+06</td>\n",
       "      <td>7.038564</td>\n",
       "      <td>0.000000</td>\n",
       "      <td>1.264504e+06</td>\n",
       "      <td>2.341653</td>\n",
       "      <td>2.432090</td>\n",
       "      <td>1.247802</td>\n",
       "      <td>1.676775</td>\n",
       "      <td>99277.551356</td>\n",
       "      <td>276.140000</td>\n",
       "      <td>...</td>\n",
       "      <td>278.712132</td>\n",
       "      <td>281.416011</td>\n",
       "      <td>0.115504</td>\n",
       "      <td>0.144389</td>\n",
       "      <td>284.585652</td>\n",
       "      <td>0.406001</td>\n",
       "      <td>-5.957198</td>\n",
       "      <td>4.105168</td>\n",
       "      <td>4.612229</td>\n",
       "      <td>329.95</td>\n",
       "    </tr>\n",
       "  </tbody>\n",
       "</table>\n",
       "<p>5 rows × 23 columns</p>\n",
       "</div>"
      ],
      "text/plain": [
       "     p54.162.13  p55.162.13    cape.13    p59.162.13  lai_lv.13  lai_hv.13  \\\n",
       "0  2.510824e+06    9.186295  13.527577  1.386937e+06   2.344111   2.432983   \n",
       "1  2.513173e+06    8.849569   6.896412  1.153526e+06   2.343719   2.432838   \n",
       "4  2.505664e+06    6.646282   0.000000  1.070830e+06   2.342437   2.432369   \n",
       "5  2.505768e+06    6.125948   0.000000  1.094100e+06   2.342045   2.432235   \n",
       "6  2.503477e+06    7.038564   0.000000  1.264504e+06   2.341653   2.432090   \n",
       "\n",
       "    u10n.13   v10n.13         sp.13     stl1.13  ...     stl2.13     stl3.13  \\\n",
       "0 -0.757587 -1.922799  99846.319914  280.960661  ...  281.042026  281.462478   \n",
       "1 -1.412620 -1.403011  99917.733093  279.296651  ...  280.747406  281.486541   \n",
       "4 -0.971249  0.553060  99372.811211  279.583112  ...  280.576898  281.473265   \n",
       "5 -0.153568  1.554043  99257.763690  276.620140  ...  279.654761  281.464691   \n",
       "6  1.247802  1.676775  99277.551356  276.140000  ...  278.712132  281.416011   \n",
       "\n",
       "    iews.13   inss.13     stl4.13    fsr.13   flsr.13   u100.13   v100.13  \\\n",
       "0 -0.057958 -0.138650  284.684755  0.404731 -5.927092 -1.780562 -4.443617   \n",
       "1 -0.103576 -0.083050  284.667948  0.404920 -5.913881 -3.743344 -3.129469   \n",
       "4 -0.056553  0.041844  284.620232  0.403808 -5.987860 -3.392324  2.131114   \n",
       "5  0.003361  0.144389  284.603425  0.404758 -5.957546  0.190590  5.349629   \n",
       "6  0.115504  0.144389  284.585652  0.406001 -5.957198  4.105168  4.612229   \n",
       "\n",
       "   energy  \n",
       "0  402.71  \n",
       "1  696.80  \n",
       "4  562.50  \n",
       "5  232.30  \n",
       "6  329.95  \n",
       "\n",
       "[5 rows x 23 columns]"
      ]
     },
     "execution_count": 88,
     "metadata": {},
     "output_type": "execute_result"
    }
   ],
   "source": [
    "# Filtrar los datos donde 'energy' sea menor o igual al tercer cuartil (energia_baja)\n",
    "energia_baja = X_df[X_df['energy'] <= tercer_cuartil]\n",
    "energia_baja.head()"
   ]
  },
  {
   "cell_type": "code",
   "execution_count": 89,
   "metadata": {},
   "outputs": [
    {
     "data": {
      "text/html": [
       "<div>\n",
       "<style scoped>\n",
       "    .dataframe tbody tr th:only-of-type {\n",
       "        vertical-align: middle;\n",
       "    }\n",
       "\n",
       "    .dataframe tbody tr th {\n",
       "        vertical-align: top;\n",
       "    }\n",
       "\n",
       "    .dataframe thead th {\n",
       "        text-align: right;\n",
       "    }\n",
       "</style>\n",
       "<table border=\"1\" class=\"dataframe\">\n",
       "  <thead>\n",
       "    <tr style=\"text-align: right;\">\n",
       "      <th></th>\n",
       "      <th>p54.162.13</th>\n",
       "      <th>p55.162.13</th>\n",
       "      <th>cape.13</th>\n",
       "      <th>p59.162.13</th>\n",
       "      <th>lai_lv.13</th>\n",
       "      <th>lai_hv.13</th>\n",
       "      <th>u10n.13</th>\n",
       "      <th>v10n.13</th>\n",
       "      <th>sp.13</th>\n",
       "      <th>stl1.13</th>\n",
       "      <th>...</th>\n",
       "      <th>stl2.13</th>\n",
       "      <th>stl3.13</th>\n",
       "      <th>iews.13</th>\n",
       "      <th>inss.13</th>\n",
       "      <th>stl4.13</th>\n",
       "      <th>fsr.13</th>\n",
       "      <th>flsr.13</th>\n",
       "      <th>u100.13</th>\n",
       "      <th>v100.13</th>\n",
       "      <th>energy</th>\n",
       "    </tr>\n",
       "  </thead>\n",
       "  <tbody>\n",
       "    <tr>\n",
       "      <th>2</th>\n",
       "      <td>2.509627e+06</td>\n",
       "      <td>7.924080</td>\n",
       "      <td>4.774439</td>\n",
       "      <td>1.098754e+06</td>\n",
       "      <td>2.343300</td>\n",
       "      <td>2.432704</td>\n",
       "      <td>-2.290185</td>\n",
       "      <td>-0.754580</td>\n",
       "      <td>99764.378681</td>\n",
       "      <td>278.233956</td>\n",
       "      <td>...</td>\n",
       "      <td>280.114863</td>\n",
       "      <td>281.487095</td>\n",
       "      <td>-0.165721</td>\n",
       "      <td>-0.036241</td>\n",
       "      <td>284.651914</td>\n",
       "      <td>0.405704</td>\n",
       "      <td>-5.908272</td>\n",
       "      <td>-5.097203</td>\n",
       "      <td>-1.157748</td>\n",
       "      <td>1591.15</td>\n",
       "    </tr>\n",
       "    <tr>\n",
       "      <th>3</th>\n",
       "      <td>2.510571e+06</td>\n",
       "      <td>6.922709</td>\n",
       "      <td>0.000000</td>\n",
       "      <td>1.076021e+06</td>\n",
       "      <td>2.342830</td>\n",
       "      <td>2.432514</td>\n",
       "      <td>-3.497855</td>\n",
       "      <td>1.271028</td>\n",
       "      <td>99672.670459</td>\n",
       "      <td>280.787263</td>\n",
       "      <td>...</td>\n",
       "      <td>279.991138</td>\n",
       "      <td>281.472435</td>\n",
       "      <td>-0.275550</td>\n",
       "      <td>0.098192</td>\n",
       "      <td>284.636266</td>\n",
       "      <td>0.403967</td>\n",
       "      <td>-5.961995</td>\n",
       "      <td>-4.500835</td>\n",
       "      <td>1.502478</td>\n",
       "      <td>1338.62</td>\n",
       "    </tr>\n",
       "    <tr>\n",
       "      <th>19</th>\n",
       "      <td>2.501566e+06</td>\n",
       "      <td>5.069699</td>\n",
       "      <td>0.000000</td>\n",
       "      <td>2.231439e+06</td>\n",
       "      <td>2.335507</td>\n",
       "      <td>2.429933</td>\n",
       "      <td>2.058460</td>\n",
       "      <td>4.320565</td>\n",
       "      <td>98937.989932</td>\n",
       "      <td>277.694496</td>\n",
       "      <td>...</td>\n",
       "      <td>279.689559</td>\n",
       "      <td>281.227375</td>\n",
       "      <td>0.296734</td>\n",
       "      <td>0.562065</td>\n",
       "      <td>284.334515</td>\n",
       "      <td>0.408046</td>\n",
       "      <td>-6.009090</td>\n",
       "      <td>3.930966</td>\n",
       "      <td>8.244346</td>\n",
       "      <td>1524.05</td>\n",
       "    </tr>\n",
       "    <tr>\n",
       "      <th>27</th>\n",
       "      <td>2.490700e+06</td>\n",
       "      <td>6.122561</td>\n",
       "      <td>0.000000</td>\n",
       "      <td>1.121844e+06</td>\n",
       "      <td>2.332212</td>\n",
       "      <td>2.428771</td>\n",
       "      <td>1.433000</td>\n",
       "      <td>4.239903</td>\n",
       "      <td>98552.257286</td>\n",
       "      <td>278.051432</td>\n",
       "      <td>...</td>\n",
       "      <td>280.170539</td>\n",
       "      <td>281.192801</td>\n",
       "      <td>0.215333</td>\n",
       "      <td>0.535969</td>\n",
       "      <td>284.205662</td>\n",
       "      <td>0.408767</td>\n",
       "      <td>-6.000770</td>\n",
       "      <td>3.114884</td>\n",
       "      <td>8.642482</td>\n",
       "      <td>1434.55</td>\n",
       "    </tr>\n",
       "    <tr>\n",
       "      <th>32</th>\n",
       "      <td>2.489981e+06</td>\n",
       "      <td>19.044174</td>\n",
       "      <td>0.000000</td>\n",
       "      <td>9.698767e+05</td>\n",
       "      <td>2.330119</td>\n",
       "      <td>2.428012</td>\n",
       "      <td>0.958361</td>\n",
       "      <td>5.837511</td>\n",
       "      <td>98741.381710</td>\n",
       "      <td>279.586661</td>\n",
       "      <td>...</td>\n",
       "      <td>280.399430</td>\n",
       "      <td>281.176482</td>\n",
       "      <td>0.227068</td>\n",
       "      <td>0.739084</td>\n",
       "      <td>284.127423</td>\n",
       "      <td>0.422033</td>\n",
       "      <td>-5.820874</td>\n",
       "      <td>2.386688</td>\n",
       "      <td>9.411813</td>\n",
       "      <td>1164.17</td>\n",
       "    </tr>\n",
       "  </tbody>\n",
       "</table>\n",
       "<p>5 rows × 23 columns</p>\n",
       "</div>"
      ],
      "text/plain": [
       "      p54.162.13  p55.162.13   cape.13    p59.162.13  lai_lv.13  lai_hv.13  \\\n",
       "2   2.509627e+06    7.924080  4.774439  1.098754e+06   2.343300   2.432704   \n",
       "3   2.510571e+06    6.922709  0.000000  1.076021e+06   2.342830   2.432514   \n",
       "19  2.501566e+06    5.069699  0.000000  2.231439e+06   2.335507   2.429933   \n",
       "27  2.490700e+06    6.122561  0.000000  1.121844e+06   2.332212   2.428771   \n",
       "32  2.489981e+06   19.044174  0.000000  9.698767e+05   2.330119   2.428012   \n",
       "\n",
       "     u10n.13   v10n.13         sp.13     stl1.13  ...     stl2.13     stl3.13  \\\n",
       "2  -2.290185 -0.754580  99764.378681  278.233956  ...  280.114863  281.487095   \n",
       "3  -3.497855  1.271028  99672.670459  280.787263  ...  279.991138  281.472435   \n",
       "19  2.058460  4.320565  98937.989932  277.694496  ...  279.689559  281.227375   \n",
       "27  1.433000  4.239903  98552.257286  278.051432  ...  280.170539  281.192801   \n",
       "32  0.958361  5.837511  98741.381710  279.586661  ...  280.399430  281.176482   \n",
       "\n",
       "     iews.13   inss.13     stl4.13    fsr.13   flsr.13   u100.13   v100.13  \\\n",
       "2  -0.165721 -0.036241  284.651914  0.405704 -5.908272 -5.097203 -1.157748   \n",
       "3  -0.275550  0.098192  284.636266  0.403967 -5.961995 -4.500835  1.502478   \n",
       "19  0.296734  0.562065  284.334515  0.408046 -6.009090  3.930966  8.244346   \n",
       "27  0.215333  0.535969  284.205662  0.408767 -6.000770  3.114884  8.642482   \n",
       "32  0.227068  0.739084  284.127423  0.422033 -5.820874  2.386688  9.411813   \n",
       "\n",
       "     energy  \n",
       "2   1591.15  \n",
       "3   1338.62  \n",
       "19  1524.05  \n",
       "27  1434.55  \n",
       "32  1164.17  \n",
       "\n",
       "[5 rows x 23 columns]"
      ]
     },
     "execution_count": 89,
     "metadata": {},
     "output_type": "execute_result"
    }
   ],
   "source": [
    "# Filtrar los datos donde 'energy' sea mayor que el tercer cuartil (energia_alta)\n",
    "energia_alta = X_df[X_df['energy'] > tercer_cuartil]\n",
    "energia_alta.head()"
   ]
  },
  {
   "cell_type": "markdown",
   "metadata": {},
   "source": [
    "### Energía baja."
   ]
  },
  {
   "cell_type": "code",
   "execution_count": 104,
   "metadata": {},
   "outputs": [],
   "source": [
    "X_baja = energia_baja.drop(columns='energy')\n",
    "y_baja = energia_baja['energy']"
   ]
  },
  {
   "cell_type": "code",
   "execution_count": 105,
   "metadata": {},
   "outputs": [],
   "source": [
    "# Escalar\n",
    "scaler = StandardScaler()\n",
    "X_baja_scaled = scaler.fit_transform(X_baja)\n",
    "\n",
    "# Dividir los datos en entrenamiento y test\n",
    "X_train_baja, X_test_baja, y_train_baja, y_test_baja = train_test_split(X_baja_scaled, y_baja, test_size=0.33, random_state=49)\n"
   ]
  },
  {
   "cell_type": "code",
   "execution_count": 110,
   "metadata": {},
   "outputs": [
    {
     "name": "stdout",
     "output_type": "stream",
     "text": [
      "Fitting 3 folds for each of 25 candidates, totalling 75 fits\n"
     ]
    },
    {
     "data": {
      "text/html": [
       "<style>#sk-container-id-11 {color: black;}#sk-container-id-11 pre{padding: 0;}#sk-container-id-11 div.sk-toggleable {background-color: white;}#sk-container-id-11 label.sk-toggleable__label {cursor: pointer;display: block;width: 100%;margin-bottom: 0;padding: 0.3em;box-sizing: border-box;text-align: center;}#sk-container-id-11 label.sk-toggleable__label-arrow:before {content: \"▸\";float: left;margin-right: 0.25em;color: #696969;}#sk-container-id-11 label.sk-toggleable__label-arrow:hover:before {color: black;}#sk-container-id-11 div.sk-estimator:hover label.sk-toggleable__label-arrow:before {color: black;}#sk-container-id-11 div.sk-toggleable__content {max-height: 0;max-width: 0;overflow: hidden;text-align: left;background-color: #f0f8ff;}#sk-container-id-11 div.sk-toggleable__content pre {margin: 0.2em;color: black;border-radius: 0.25em;background-color: #f0f8ff;}#sk-container-id-11 input.sk-toggleable__control:checked~div.sk-toggleable__content {max-height: 200px;max-width: 100%;overflow: auto;}#sk-container-id-11 input.sk-toggleable__control:checked~label.sk-toggleable__label-arrow:before {content: \"▾\";}#sk-container-id-11 div.sk-estimator input.sk-toggleable__control:checked~label.sk-toggleable__label {background-color: #d4ebff;}#sk-container-id-11 div.sk-label input.sk-toggleable__control:checked~label.sk-toggleable__label {background-color: #d4ebff;}#sk-container-id-11 input.sk-hidden--visually {border: 0;clip: rect(1px 1px 1px 1px);clip: rect(1px, 1px, 1px, 1px);height: 1px;margin: -1px;overflow: hidden;padding: 0;position: absolute;width: 1px;}#sk-container-id-11 div.sk-estimator {font-family: monospace;background-color: #f0f8ff;border: 1px dotted black;border-radius: 0.25em;box-sizing: border-box;margin-bottom: 0.5em;}#sk-container-id-11 div.sk-estimator:hover {background-color: #d4ebff;}#sk-container-id-11 div.sk-parallel-item::after {content: \"\";width: 100%;border-bottom: 1px solid gray;flex-grow: 1;}#sk-container-id-11 div.sk-label:hover label.sk-toggleable__label {background-color: #d4ebff;}#sk-container-id-11 div.sk-serial::before {content: \"\";position: absolute;border-left: 1px solid gray;box-sizing: border-box;top: 0;bottom: 0;left: 50%;z-index: 0;}#sk-container-id-11 div.sk-serial {display: flex;flex-direction: column;align-items: center;background-color: white;padding-right: 0.2em;padding-left: 0.2em;position: relative;}#sk-container-id-11 div.sk-item {position: relative;z-index: 1;}#sk-container-id-11 div.sk-parallel {display: flex;align-items: stretch;justify-content: center;background-color: white;position: relative;}#sk-container-id-11 div.sk-item::before, #sk-container-id-11 div.sk-parallel-item::before {content: \"\";position: absolute;border-left: 1px solid gray;box-sizing: border-box;top: 0;bottom: 0;left: 50%;z-index: -1;}#sk-container-id-11 div.sk-parallel-item {display: flex;flex-direction: column;z-index: 1;position: relative;background-color: white;}#sk-container-id-11 div.sk-parallel-item:first-child::after {align-self: flex-end;width: 50%;}#sk-container-id-11 div.sk-parallel-item:last-child::after {align-self: flex-start;width: 50%;}#sk-container-id-11 div.sk-parallel-item:only-child::after {width: 0;}#sk-container-id-11 div.sk-dashed-wrapped {border: 1px dashed gray;margin: 0 0.4em 0.5em 0.4em;box-sizing: border-box;padding-bottom: 0.4em;background-color: white;}#sk-container-id-11 div.sk-label label {font-family: monospace;font-weight: bold;display: inline-block;line-height: 1.2em;}#sk-container-id-11 div.sk-label-container {text-align: center;}#sk-container-id-11 div.sk-container {/* jupyter's `normalize.less` sets `[hidden] { display: none; }` but bootstrap.min.css set `[hidden] { display: none !important; }` so we also need the `!important` here to be able to override the default hidden behavior on the sphinx rendered scikit-learn.org. See: https://github.com/scikit-learn/scikit-learn/issues/21755 */display: inline-block !important;position: relative;}#sk-container-id-11 div.sk-text-repr-fallback {display: none;}</style><div id=\"sk-container-id-11\" class=\"sk-top-container\"><div class=\"sk-text-repr-fallback\"><pre>GridSearchCV(cv=KFold(n_splits=3, random_state=49, shuffle=True),\n",
       "             estimator=SVR(), n_jobs=-1,\n",
       "             param_grid={&#x27;C&#x27;: [2000, 4000, 6000, 8000, 10000],\n",
       "                         &#x27;gamma&#x27;: [0.001, 0.005, 0.01, 0.05, 0.1]},\n",
       "             scoring=&#x27;neg_mean_squared_error&#x27;, verbose=1)</pre><b>In a Jupyter environment, please rerun this cell to show the HTML representation or trust the notebook. <br />On GitHub, the HTML representation is unable to render, please try loading this page with nbviewer.org.</b></div><div class=\"sk-container\" hidden><div class=\"sk-item sk-dashed-wrapped\"><div class=\"sk-label-container\"><div class=\"sk-label sk-toggleable\"><input class=\"sk-toggleable__control sk-hidden--visually\" id=\"sk-estimator-id-39\" type=\"checkbox\" ><label for=\"sk-estimator-id-39\" class=\"sk-toggleable__label sk-toggleable__label-arrow\">GridSearchCV</label><div class=\"sk-toggleable__content\"><pre>GridSearchCV(cv=KFold(n_splits=3, random_state=49, shuffle=True),\n",
       "             estimator=SVR(), n_jobs=-1,\n",
       "             param_grid={&#x27;C&#x27;: [2000, 4000, 6000, 8000, 10000],\n",
       "                         &#x27;gamma&#x27;: [0.001, 0.005, 0.01, 0.05, 0.1]},\n",
       "             scoring=&#x27;neg_mean_squared_error&#x27;, verbose=1)</pre></div></div></div><div class=\"sk-parallel\"><div class=\"sk-parallel-item\"><div class=\"sk-item\"><div class=\"sk-label-container\"><div class=\"sk-label sk-toggleable\"><input class=\"sk-toggleable__control sk-hidden--visually\" id=\"sk-estimator-id-40\" type=\"checkbox\" ><label for=\"sk-estimator-id-40\" class=\"sk-toggleable__label sk-toggleable__label-arrow\">estimator: SVR</label><div class=\"sk-toggleable__content\"><pre>SVR()</pre></div></div></div><div class=\"sk-serial\"><div class=\"sk-item\"><div class=\"sk-estimator sk-toggleable\"><input class=\"sk-toggleable__control sk-hidden--visually\" id=\"sk-estimator-id-41\" type=\"checkbox\" ><label for=\"sk-estimator-id-41\" class=\"sk-toggleable__label sk-toggleable__label-arrow\">SVR</label><div class=\"sk-toggleable__content\"><pre>SVR()</pre></div></div></div></div></div></div></div></div></div></div>"
      ],
      "text/plain": [
       "GridSearchCV(cv=KFold(n_splits=3, random_state=49, shuffle=True),\n",
       "             estimator=SVR(), n_jobs=-1,\n",
       "             param_grid={'C': [2000, 4000, 6000, 8000, 10000],\n",
       "                         'gamma': [0.001, 0.005, 0.01, 0.05, 0.1]},\n",
       "             scoring='neg_mean_squared_error', verbose=1)"
      ]
     },
     "execution_count": 110,
     "metadata": {},
     "output_type": "execute_result"
    }
   ],
   "source": [
    "param_grid = {'C': [2000, 4000, 6000, 8000, 10000],\n",
    "              'gamma': [0.001, 0.005, 0.01, 0.05, 0.1]}\n",
    "\n",
    "inner = KFold(n_splits=3, shuffle=True, random_state=49)\n",
    "\n",
    "regrBaja_svm_radial_hpo = GridSearchCV(SVR(),\n",
    "                         param_grid,\n",
    "                         scoring='neg_mean_squared_error',\n",
    "                         cv=inner,\n",
    "                         n_jobs=-1, verbose=1\n",
    "                        )\n",
    "\n",
    "np.random.seed(49)\n",
    "regrBaja_svm_radial_hpo.fit(X=X_train_baja, y=y_train_baja)"
   ]
  },
  {
   "cell_type": "code",
   "execution_count": 111,
   "metadata": {},
   "outputs": [
    {
     "name": "stdout",
     "output_type": "stream",
     "text": [
      "RMSE: 242.45095959401831\n",
      "R2: 0.4185306563704383\n",
      "Mejor parámetro: {'C': 6000, 'gamma': 0.01}\n"
     ]
    }
   ],
   "source": [
    "y_test_pred = regrBaja_svm_radial_hpo.predict(X_test_baja)\n",
    "# Métricas de evaluación\n",
    "rmseBaja_svm_radial_hpo = np.sqrt(metrics.mean_squared_error(y_test_baja, y_test_pred))\n",
    "r2Baja_svm_radial_hpo = metrics.r2_score(y_test_baja, y_test_pred)\n",
    "\n",
    "# Imprimimos resultados\n",
    "print(f\"RMSE: {rmseBaja_svm_radial_hpo}\")\n",
    "print(f\"R2: {r2Baja_svm_radial_hpo}\")\n",
    "print(f\"Mejor parámetro: {regrBaja_svm_radial_hpo.best_params_}\")"
   ]
  },
  {
   "cell_type": "markdown",
   "metadata": {},
   "source": [
    "### Energia alta."
   ]
  },
  {
   "cell_type": "code",
   "execution_count": 112,
   "metadata": {},
   "outputs": [],
   "source": [
    "X_alta = energia_alta.drop(columns='energy')\n",
    "y_alta = energia_alta['energy']"
   ]
  },
  {
   "cell_type": "code",
   "execution_count": 113,
   "metadata": {},
   "outputs": [],
   "source": [
    "# Escalar\n",
    "scaler = StandardScaler()\n",
    "X_alta_scaled = scaler.fit_transform(X_alta)\n",
    "\n",
    "# Dividir los datos en entrenamiento y test\n",
    "X_train_alta, X_test_alta, y_train_alta, y_test_alta = train_test_split(X_alta_scaled, y_alta, test_size=0.33, random_state=49)\n"
   ]
  },
  {
   "cell_type": "code",
   "execution_count": 118,
   "metadata": {},
   "outputs": [
    {
     "name": "stdout",
     "output_type": "stream",
     "text": [
      "Fitting 3 folds for each of 20 candidates, totalling 60 fits\n"
     ]
    },
    {
     "data": {
      "text/html": [
       "<style>#sk-container-id-14 {color: black;}#sk-container-id-14 pre{padding: 0;}#sk-container-id-14 div.sk-toggleable {background-color: white;}#sk-container-id-14 label.sk-toggleable__label {cursor: pointer;display: block;width: 100%;margin-bottom: 0;padding: 0.3em;box-sizing: border-box;text-align: center;}#sk-container-id-14 label.sk-toggleable__label-arrow:before {content: \"▸\";float: left;margin-right: 0.25em;color: #696969;}#sk-container-id-14 label.sk-toggleable__label-arrow:hover:before {color: black;}#sk-container-id-14 div.sk-estimator:hover label.sk-toggleable__label-arrow:before {color: black;}#sk-container-id-14 div.sk-toggleable__content {max-height: 0;max-width: 0;overflow: hidden;text-align: left;background-color: #f0f8ff;}#sk-container-id-14 div.sk-toggleable__content pre {margin: 0.2em;color: black;border-radius: 0.25em;background-color: #f0f8ff;}#sk-container-id-14 input.sk-toggleable__control:checked~div.sk-toggleable__content {max-height: 200px;max-width: 100%;overflow: auto;}#sk-container-id-14 input.sk-toggleable__control:checked~label.sk-toggleable__label-arrow:before {content: \"▾\";}#sk-container-id-14 div.sk-estimator input.sk-toggleable__control:checked~label.sk-toggleable__label {background-color: #d4ebff;}#sk-container-id-14 div.sk-label input.sk-toggleable__control:checked~label.sk-toggleable__label {background-color: #d4ebff;}#sk-container-id-14 input.sk-hidden--visually {border: 0;clip: rect(1px 1px 1px 1px);clip: rect(1px, 1px, 1px, 1px);height: 1px;margin: -1px;overflow: hidden;padding: 0;position: absolute;width: 1px;}#sk-container-id-14 div.sk-estimator {font-family: monospace;background-color: #f0f8ff;border: 1px dotted black;border-radius: 0.25em;box-sizing: border-box;margin-bottom: 0.5em;}#sk-container-id-14 div.sk-estimator:hover {background-color: #d4ebff;}#sk-container-id-14 div.sk-parallel-item::after {content: \"\";width: 100%;border-bottom: 1px solid gray;flex-grow: 1;}#sk-container-id-14 div.sk-label:hover label.sk-toggleable__label {background-color: #d4ebff;}#sk-container-id-14 div.sk-serial::before {content: \"\";position: absolute;border-left: 1px solid gray;box-sizing: border-box;top: 0;bottom: 0;left: 50%;z-index: 0;}#sk-container-id-14 div.sk-serial {display: flex;flex-direction: column;align-items: center;background-color: white;padding-right: 0.2em;padding-left: 0.2em;position: relative;}#sk-container-id-14 div.sk-item {position: relative;z-index: 1;}#sk-container-id-14 div.sk-parallel {display: flex;align-items: stretch;justify-content: center;background-color: white;position: relative;}#sk-container-id-14 div.sk-item::before, #sk-container-id-14 div.sk-parallel-item::before {content: \"\";position: absolute;border-left: 1px solid gray;box-sizing: border-box;top: 0;bottom: 0;left: 50%;z-index: -1;}#sk-container-id-14 div.sk-parallel-item {display: flex;flex-direction: column;z-index: 1;position: relative;background-color: white;}#sk-container-id-14 div.sk-parallel-item:first-child::after {align-self: flex-end;width: 50%;}#sk-container-id-14 div.sk-parallel-item:last-child::after {align-self: flex-start;width: 50%;}#sk-container-id-14 div.sk-parallel-item:only-child::after {width: 0;}#sk-container-id-14 div.sk-dashed-wrapped {border: 1px dashed gray;margin: 0 0.4em 0.5em 0.4em;box-sizing: border-box;padding-bottom: 0.4em;background-color: white;}#sk-container-id-14 div.sk-label label {font-family: monospace;font-weight: bold;display: inline-block;line-height: 1.2em;}#sk-container-id-14 div.sk-label-container {text-align: center;}#sk-container-id-14 div.sk-container {/* jupyter's `normalize.less` sets `[hidden] { display: none; }` but bootstrap.min.css set `[hidden] { display: none !important; }` so we also need the `!important` here to be able to override the default hidden behavior on the sphinx rendered scikit-learn.org. See: https://github.com/scikit-learn/scikit-learn/issues/21755 */display: inline-block !important;position: relative;}#sk-container-id-14 div.sk-text-repr-fallback {display: none;}</style><div id=\"sk-container-id-14\" class=\"sk-top-container\"><div class=\"sk-text-repr-fallback\"><pre>GridSearchCV(cv=KFold(n_splits=3, random_state=49, shuffle=True),\n",
       "             estimator=SVR(), n_jobs=-1,\n",
       "             param_grid={&#x27;C&#x27;: [1000, 5000, 10000, 30000, 50000],\n",
       "                         &#x27;gamma&#x27;: [0.001, 0.005, 0.01, 0.05]},\n",
       "             scoring=&#x27;neg_mean_squared_error&#x27;, verbose=1)</pre><b>In a Jupyter environment, please rerun this cell to show the HTML representation or trust the notebook. <br />On GitHub, the HTML representation is unable to render, please try loading this page with nbviewer.org.</b></div><div class=\"sk-container\" hidden><div class=\"sk-item sk-dashed-wrapped\"><div class=\"sk-label-container\"><div class=\"sk-label sk-toggleable\"><input class=\"sk-toggleable__control sk-hidden--visually\" id=\"sk-estimator-id-48\" type=\"checkbox\" ><label for=\"sk-estimator-id-48\" class=\"sk-toggleable__label sk-toggleable__label-arrow\">GridSearchCV</label><div class=\"sk-toggleable__content\"><pre>GridSearchCV(cv=KFold(n_splits=3, random_state=49, shuffle=True),\n",
       "             estimator=SVR(), n_jobs=-1,\n",
       "             param_grid={&#x27;C&#x27;: [1000, 5000, 10000, 30000, 50000],\n",
       "                         &#x27;gamma&#x27;: [0.001, 0.005, 0.01, 0.05]},\n",
       "             scoring=&#x27;neg_mean_squared_error&#x27;, verbose=1)</pre></div></div></div><div class=\"sk-parallel\"><div class=\"sk-parallel-item\"><div class=\"sk-item\"><div class=\"sk-label-container\"><div class=\"sk-label sk-toggleable\"><input class=\"sk-toggleable__control sk-hidden--visually\" id=\"sk-estimator-id-49\" type=\"checkbox\" ><label for=\"sk-estimator-id-49\" class=\"sk-toggleable__label sk-toggleable__label-arrow\">estimator: SVR</label><div class=\"sk-toggleable__content\"><pre>SVR()</pre></div></div></div><div class=\"sk-serial\"><div class=\"sk-item\"><div class=\"sk-estimator sk-toggleable\"><input class=\"sk-toggleable__control sk-hidden--visually\" id=\"sk-estimator-id-50\" type=\"checkbox\" ><label for=\"sk-estimator-id-50\" class=\"sk-toggleable__label sk-toggleable__label-arrow\">SVR</label><div class=\"sk-toggleable__content\"><pre>SVR()</pre></div></div></div></div></div></div></div></div></div></div>"
      ],
      "text/plain": [
       "GridSearchCV(cv=KFold(n_splits=3, random_state=49, shuffle=True),\n",
       "             estimator=SVR(), n_jobs=-1,\n",
       "             param_grid={'C': [1000, 5000, 10000, 30000, 50000],\n",
       "                         'gamma': [0.001, 0.005, 0.01, 0.05]},\n",
       "             scoring='neg_mean_squared_error', verbose=1)"
      ]
     },
     "execution_count": 118,
     "metadata": {},
     "output_type": "execute_result"
    }
   ],
   "source": [
    "param_grid = {'C': [1000, 5000, 10000, 30000, 50000],\n",
    "              'gamma': [0.001, 0.005, 0.01, 0.05]}\n",
    "\n",
    "inner = KFold(n_splits=3, shuffle=True, random_state=49)\n",
    "\n",
    "regrAlta_svm_radial_hpo = GridSearchCV(SVR(),\n",
    "                         param_grid,\n",
    "                         scoring='neg_mean_squared_error',\n",
    "                         cv=inner,\n",
    "                         n_jobs=-1, verbose=1\n",
    "                        )\n",
    "\n",
    "np.random.seed(49)\n",
    "regrAlta_svm_radial_hpo.fit(X=X_train_alta, y=y_train_alta)"
   ]
  },
  {
   "cell_type": "code",
   "execution_count": 119,
   "metadata": {},
   "outputs": [
    {
     "name": "stdout",
     "output_type": "stream",
     "text": [
      "RMSE: 342.11544826485164\n",
      "R2: 0.27257493237842056\n",
      "Mejor parámetro: {'C': 5000, 'gamma': 0.01}\n"
     ]
    }
   ],
   "source": [
    "y_test_pred = regrAlta_svm_radial_hpo.predict(X_test_alta)\n",
    "\n",
    "# Métricas de evaluación\n",
    "rmseAlta_svm_radial_hpo = np.sqrt(metrics.mean_squared_error(y_test_alta, y_test_pred))\n",
    "r2Alta_svm_radial_hpo = metrics.r2_score(y_test_alta, y_test_pred)\n",
    "\n",
    "# Imprimimos resultados\n",
    "print(f\"RMSE: {rmseAlta_svm_radial_hpo}\")\n",
    "print(f\"R2: {r2Alta_svm_radial_hpo}\")\n",
    "print(f\"Mejor parámetro: {regrAlta_svm_radial_hpo.best_params_}\")"
   ]
  },
  {
   "cell_type": "markdown",
   "metadata": {},
   "source": [
    "### Resolución.\n",
    "\n",
    "Para resolver este problema de clasificación utilizaremos el modelo de regresión logística e intentaremos obtener los mejores resultados."
   ]
  },
  {
   "cell_type": "code",
   "execution_count": 127,
   "metadata": {},
   "outputs": [],
   "source": [
    "energia_baja.loc[:, 'energy'] = 0\n",
    "energia_alta.loc[:, 'energy'] = 1\n",
    "\n",
    "# Unimos los dos conjuntos de datos\n",
    "df_clf = pd.concat([energia_baja, energia_alta])\n",
    "\n",
    "# Dividimos entre variables de entrada y de salida\n",
    "X_clf = df_clf.drop(columns='energy')\n",
    "y_clf = df_clf['energy']"
   ]
  },
  {
   "cell_type": "code",
   "execution_count": 128,
   "metadata": {},
   "outputs": [],
   "source": [
    "# Dividimos los datos en entrenamiento y test\n",
    "X_train_clf, X_test_clf, y_train_clf, y_test_clf = train_test_split(X_clf, y_clf, test_size=0.33, random_state=49)"
   ]
  },
  {
   "cell_type": "code",
   "execution_count": 129,
   "metadata": {},
   "outputs": [],
   "source": [
    "from sklearn.linear_model import LogisticRegression\n",
    "from sklearn.metrics import accuracy_score\n",
    "\n",
    "scaler = StandardScaler()       # escalar\n",
    "lr = LogisticRegression(penalty='none', random_state = 49)      # modelo\n",
    "\n",
    "pipe_scale_lr = Pipeline([\n",
    "    ('scale', scaler),\n",
    "    ('lr', lr)])"
   ]
  },
  {
   "cell_type": "code",
   "execution_count": 131,
   "metadata": {},
   "outputs": [
    {
     "name": "stdout",
     "output_type": "stream",
     "text": [
      "Fitting 3 folds for each of 105 candidates, totalling 315 fits\n"
     ]
    },
    {
     "name": "stderr",
     "output_type": "stream",
     "text": [
      "/Users/celia/miniconda3/lib/python3.8/site-packages/sklearn/linear_model/_sag.py:350: ConvergenceWarning: The max_iter was reached which means the coef_ did not converge\n",
      "  warnings.warn(\n",
      "/Users/celia/miniconda3/lib/python3.8/site-packages/sklearn/linear_model/_logistic.py:460: ConvergenceWarning: lbfgs failed to converge (status=1):\n",
      "STOP: TOTAL NO. of ITERATIONS REACHED LIMIT.\n",
      "\n",
      "Increase the number of iterations (max_iter) or scale the data as shown in:\n",
      "    https://scikit-learn.org/stable/modules/preprocessing.html\n",
      "Please also refer to the documentation for alternative solver options:\n",
      "    https://scikit-learn.org/stable/modules/linear_model.html#logistic-regression\n",
      "  n_iter_i = _check_optimize_result(\n",
      "/Users/celia/miniconda3/lib/python3.8/site-packages/sklearn/linear_model/_sag.py:350: ConvergenceWarning: The max_iter was reached which means the coef_ did not converge\n",
      "  warnings.warn(\n",
      "/Users/celia/miniconda3/lib/python3.8/site-packages/sklearn/linear_model/_logistic.py:460: ConvergenceWarning: lbfgs failed to converge (status=1):\n",
      "STOP: TOTAL NO. of ITERATIONS REACHED LIMIT.\n",
      "\n",
      "Increase the number of iterations (max_iter) or scale the data as shown in:\n",
      "    https://scikit-learn.org/stable/modules/preprocessing.html\n",
      "Please also refer to the documentation for alternative solver options:\n",
      "    https://scikit-learn.org/stable/modules/linear_model.html#logistic-regression\n",
      "  n_iter_i = _check_optimize_result(\n",
      "/Users/celia/miniconda3/lib/python3.8/site-packages/sklearn/linear_model/_logistic.py:460: ConvergenceWarning: lbfgs failed to converge (status=1):\n",
      "STOP: TOTAL NO. of ITERATIONS REACHED LIMIT.\n",
      "\n",
      "Increase the number of iterations (max_iter) or scale the data as shown in:\n",
      "    https://scikit-learn.org/stable/modules/preprocessing.html\n",
      "Please also refer to the documentation for alternative solver options:\n",
      "    https://scikit-learn.org/stable/modules/linear_model.html#logistic-regression\n",
      "  n_iter_i = _check_optimize_result(\n",
      "/Users/celia/miniconda3/lib/python3.8/site-packages/sklearn/linear_model/_sag.py:350: ConvergenceWarning: The max_iter was reached which means the coef_ did not converge\n",
      "  warnings.warn(\n",
      "/Users/celia/miniconda3/lib/python3.8/site-packages/sklearn/linear_model/_logistic.py:460: ConvergenceWarning: lbfgs failed to converge (status=1):\n",
      "STOP: TOTAL NO. of ITERATIONS REACHED LIMIT.\n",
      "\n",
      "Increase the number of iterations (max_iter) or scale the data as shown in:\n",
      "    https://scikit-learn.org/stable/modules/preprocessing.html\n",
      "Please also refer to the documentation for alternative solver options:\n",
      "    https://scikit-learn.org/stable/modules/linear_model.html#logistic-regression\n",
      "  n_iter_i = _check_optimize_result(\n",
      "/Users/celia/miniconda3/lib/python3.8/site-packages/sklearn/linear_model/_sag.py:350: ConvergenceWarning: The max_iter was reached which means the coef_ did not converge\n",
      "  warnings.warn(\n",
      "/Users/celia/miniconda3/lib/python3.8/site-packages/sklearn/linear_model/_sag.py:350: ConvergenceWarning: The max_iter was reached which means the coef_ did not converge\n",
      "  warnings.warn(\n",
      "/Users/celia/miniconda3/lib/python3.8/site-packages/sklearn/linear_model/_sag.py:350: ConvergenceWarning: The max_iter was reached which means the coef_ did not converge\n",
      "  warnings.warn(\n",
      "/Users/celia/miniconda3/lib/python3.8/site-packages/sklearn/linear_model/_sag.py:350: ConvergenceWarning: The max_iter was reached which means the coef_ did not converge\n",
      "  warnings.warn(\n",
      "/Users/celia/miniconda3/lib/python3.8/site-packages/sklearn/linear_model/_sag.py:350: ConvergenceWarning: The max_iter was reached which means the coef_ did not converge\n",
      "  warnings.warn(\n",
      "/Users/celia/miniconda3/lib/python3.8/site-packages/sklearn/linear_model/_sag.py:350: ConvergenceWarning: The max_iter was reached which means the coef_ did not converge\n",
      "  warnings.warn(\n",
      "/Users/celia/miniconda3/lib/python3.8/site-packages/sklearn/linear_model/_sag.py:350: ConvergenceWarning: The max_iter was reached which means the coef_ did not converge\n",
      "  warnings.warn(\n",
      "/Users/celia/miniconda3/lib/python3.8/site-packages/sklearn/linear_model/_sag.py:350: ConvergenceWarning: The max_iter was reached which means the coef_ did not converge\n",
      "  warnings.warn(\n",
      "/Users/celia/miniconda3/lib/python3.8/site-packages/sklearn/linear_model/_sag.py:350: ConvergenceWarning: The max_iter was reached which means the coef_ did not converge\n",
      "  warnings.warn(\n",
      "/Users/celia/miniconda3/lib/python3.8/site-packages/sklearn/linear_model/_sag.py:350: ConvergenceWarning: The max_iter was reached which means the coef_ did not converge\n",
      "  warnings.warn(\n",
      "/Users/celia/miniconda3/lib/python3.8/site-packages/sklearn/linear_model/_sag.py:350: ConvergenceWarning: The max_iter was reached which means the coef_ did not converge\n",
      "  warnings.warn(\n",
      "/Users/celia/miniconda3/lib/python3.8/site-packages/sklearn/linear_model/_sag.py:350: ConvergenceWarning: The max_iter was reached which means the coef_ did not converge\n",
      "  warnings.warn(\n",
      "/Users/celia/miniconda3/lib/python3.8/site-packages/sklearn/linear_model/_sag.py:350: ConvergenceWarning: The max_iter was reached which means the coef_ did not converge\n",
      "  warnings.warn(\n",
      "/Users/celia/miniconda3/lib/python3.8/site-packages/sklearn/linear_model/_sag.py:350: ConvergenceWarning: The max_iter was reached which means the coef_ did not converge\n",
      "  warnings.warn(\n",
      "/Users/celia/miniconda3/lib/python3.8/site-packages/sklearn/linear_model/_logistic.py:460: ConvergenceWarning: lbfgs failed to converge (status=1):\n",
      "STOP: TOTAL NO. of ITERATIONS REACHED LIMIT.\n",
      "\n",
      "Increase the number of iterations (max_iter) or scale the data as shown in:\n",
      "    https://scikit-learn.org/stable/modules/preprocessing.html\n",
      "Please also refer to the documentation for alternative solver options:\n",
      "    https://scikit-learn.org/stable/modules/linear_model.html#logistic-regression\n",
      "  n_iter_i = _check_optimize_result(\n",
      "/Users/celia/miniconda3/lib/python3.8/site-packages/sklearn/linear_model/_logistic.py:460: ConvergenceWarning: lbfgs failed to converge (status=1):\n",
      "STOP: TOTAL NO. of ITERATIONS REACHED LIMIT.\n",
      "\n",
      "Increase the number of iterations (max_iter) or scale the data as shown in:\n",
      "    https://scikit-learn.org/stable/modules/preprocessing.html\n",
      "Please also refer to the documentation for alternative solver options:\n",
      "    https://scikit-learn.org/stable/modules/linear_model.html#logistic-regression\n",
      "  n_iter_i = _check_optimize_result(\n",
      "/Users/celia/miniconda3/lib/python3.8/site-packages/sklearn/linear_model/_logistic.py:460: ConvergenceWarning: lbfgs failed to converge (status=1):\n",
      "STOP: TOTAL NO. of ITERATIONS REACHED LIMIT.\n",
      "\n",
      "Increase the number of iterations (max_iter) or scale the data as shown in:\n",
      "    https://scikit-learn.org/stable/modules/preprocessing.html\n",
      "Please also refer to the documentation for alternative solver options:\n",
      "    https://scikit-learn.org/stable/modules/linear_model.html#logistic-regression\n",
      "  n_iter_i = _check_optimize_result(\n",
      "/Users/celia/miniconda3/lib/python3.8/site-packages/sklearn/linear_model/_logistic.py:460: ConvergenceWarning: lbfgs failed to converge (status=1):\n",
      "STOP: TOTAL NO. of ITERATIONS REACHED LIMIT.\n",
      "\n",
      "Increase the number of iterations (max_iter) or scale the data as shown in:\n",
      "    https://scikit-learn.org/stable/modules/preprocessing.html\n",
      "Please also refer to the documentation for alternative solver options:\n",
      "    https://scikit-learn.org/stable/modules/linear_model.html#logistic-regression\n",
      "  n_iter_i = _check_optimize_result(\n",
      "/Users/celia/miniconda3/lib/python3.8/site-packages/sklearn/linear_model/_logistic.py:460: ConvergenceWarning: lbfgs failed to converge (status=1):\n",
      "STOP: TOTAL NO. of ITERATIONS REACHED LIMIT.\n",
      "\n",
      "Increase the number of iterations (max_iter) or scale the data as shown in:\n",
      "    https://scikit-learn.org/stable/modules/preprocessing.html\n",
      "Please also refer to the documentation for alternative solver options:\n",
      "    https://scikit-learn.org/stable/modules/linear_model.html#logistic-regression\n",
      "  n_iter_i = _check_optimize_result(\n",
      "/Users/celia/miniconda3/lib/python3.8/site-packages/sklearn/linear_model/_sag.py:350: ConvergenceWarning: The max_iter was reached which means the coef_ did not converge\n",
      "  warnings.warn(\n",
      "/Users/celia/miniconda3/lib/python3.8/site-packages/sklearn/linear_model/_sag.py:350: ConvergenceWarning: The max_iter was reached which means the coef_ did not converge\n",
      "  warnings.warn(\n",
      "/Users/celia/miniconda3/lib/python3.8/site-packages/sklearn/linear_model/_sag.py:350: ConvergenceWarning: The max_iter was reached which means the coef_ did not converge\n",
      "  warnings.warn(\n",
      "/Users/celia/miniconda3/lib/python3.8/site-packages/sklearn/linear_model/_sag.py:350: ConvergenceWarning: The max_iter was reached which means the coef_ did not converge\n",
      "  warnings.warn(\n",
      "/Users/celia/miniconda3/lib/python3.8/site-packages/sklearn/linear_model/_sag.py:350: ConvergenceWarning: The max_iter was reached which means the coef_ did not converge\n",
      "  warnings.warn(\n",
      "/Users/celia/miniconda3/lib/python3.8/site-packages/sklearn/linear_model/_sag.py:350: ConvergenceWarning: The max_iter was reached which means the coef_ did not converge\n",
      "  warnings.warn(\n",
      "/Users/celia/miniconda3/lib/python3.8/site-packages/sklearn/linear_model/_sag.py:350: ConvergenceWarning: The max_iter was reached which means the coef_ did not converge\n",
      "  warnings.warn(\n",
      "/Users/celia/miniconda3/lib/python3.8/site-packages/sklearn/linear_model/_sag.py:350: ConvergenceWarning: The max_iter was reached which means the coef_ did not converge\n",
      "  warnings.warn(\n",
      "/Users/celia/miniconda3/lib/python3.8/site-packages/sklearn/linear_model/_sag.py:350: ConvergenceWarning: The max_iter was reached which means the coef_ did not converge\n",
      "  warnings.warn(\n",
      "/Users/celia/miniconda3/lib/python3.8/site-packages/sklearn/linear_model/_sag.py:350: ConvergenceWarning: The max_iter was reached which means the coef_ did not converge\n",
      "  warnings.warn(\n",
      "/Users/celia/miniconda3/lib/python3.8/site-packages/sklearn/linear_model/_logistic.py:460: ConvergenceWarning: lbfgs failed to converge (status=1):\n",
      "STOP: TOTAL NO. of ITERATIONS REACHED LIMIT.\n",
      "\n",
      "Increase the number of iterations (max_iter) or scale the data as shown in:\n",
      "    https://scikit-learn.org/stable/modules/preprocessing.html\n",
      "Please also refer to the documentation for alternative solver options:\n",
      "    https://scikit-learn.org/stable/modules/linear_model.html#logistic-regression\n",
      "  n_iter_i = _check_optimize_result(\n",
      "/Users/celia/miniconda3/lib/python3.8/site-packages/sklearn/linear_model/_logistic.py:460: ConvergenceWarning: lbfgs failed to converge (status=1):\n",
      "STOP: TOTAL NO. of ITERATIONS REACHED LIMIT.\n",
      "\n",
      "Increase the number of iterations (max_iter) or scale the data as shown in:\n",
      "    https://scikit-learn.org/stable/modules/preprocessing.html\n",
      "Please also refer to the documentation for alternative solver options:\n",
      "    https://scikit-learn.org/stable/modules/linear_model.html#logistic-regression\n",
      "  n_iter_i = _check_optimize_result(\n",
      "/Users/celia/miniconda3/lib/python3.8/site-packages/sklearn/linear_model/_logistic.py:460: ConvergenceWarning: lbfgs failed to converge (status=1):\n",
      "STOP: TOTAL NO. of ITERATIONS REACHED LIMIT.\n",
      "\n",
      "Increase the number of iterations (max_iter) or scale the data as shown in:\n",
      "    https://scikit-learn.org/stable/modules/preprocessing.html\n",
      "Please also refer to the documentation for alternative solver options:\n",
      "    https://scikit-learn.org/stable/modules/linear_model.html#logistic-regression\n",
      "  n_iter_i = _check_optimize_result(\n",
      "/Users/celia/miniconda3/lib/python3.8/site-packages/sklearn/linear_model/_sag.py:350: ConvergenceWarning: The max_iter was reached which means the coef_ did not converge\n",
      "  warnings.warn(\n",
      "/Users/celia/miniconda3/lib/python3.8/site-packages/sklearn/linear_model/_sag.py:350: ConvergenceWarning: The max_iter was reached which means the coef_ did not converge\n",
      "  warnings.warn(\n",
      "/Users/celia/miniconda3/lib/python3.8/site-packages/sklearn/linear_model/_sag.py:350: ConvergenceWarning: The max_iter was reached which means the coef_ did not converge\n",
      "  warnings.warn(\n",
      "/Users/celia/miniconda3/lib/python3.8/site-packages/sklearn/linear_model/_sag.py:350: ConvergenceWarning: The max_iter was reached which means the coef_ did not converge\n",
      "  warnings.warn(\n",
      "/Users/celia/miniconda3/lib/python3.8/site-packages/sklearn/linear_model/_sag.py:350: ConvergenceWarning: The max_iter was reached which means the coef_ did not converge\n",
      "  warnings.warn(\n",
      "/Users/celia/miniconda3/lib/python3.8/site-packages/sklearn/linear_model/_sag.py:350: ConvergenceWarning: The max_iter was reached which means the coef_ did not converge\n",
      "  warnings.warn(\n",
      "/Users/celia/miniconda3/lib/python3.8/site-packages/sklearn/linear_model/_sag.py:350: ConvergenceWarning: The max_iter was reached which means the coef_ did not converge\n",
      "  warnings.warn(\n",
      "/Users/celia/miniconda3/lib/python3.8/site-packages/sklearn/linear_model/_sag.py:350: ConvergenceWarning: The max_iter was reached which means the coef_ did not converge\n",
      "  warnings.warn(\n",
      "/Users/celia/miniconda3/lib/python3.8/site-packages/sklearn/linear_model/_sag.py:350: ConvergenceWarning: The max_iter was reached which means the coef_ did not converge\n",
      "  warnings.warn(\n",
      "/Users/celia/miniconda3/lib/python3.8/site-packages/sklearn/model_selection/_validation.py:425: FitFailedWarning: \n",
      "168 fits failed out of a total of 315.\n",
      "The score on these train-test partitions for these parameters will be set to nan.\n",
      "If these failures are not expected, you can try to debug them by setting error_score='raise'.\n",
      "\n",
      "Below are more details about the failures:\n",
      "--------------------------------------------------------------------------------\n",
      "21 fits failed with the following error:\n",
      "Traceback (most recent call last):\n",
      "  File \"/Users/celia/miniconda3/lib/python3.8/site-packages/sklearn/model_selection/_validation.py\", line 729, in _fit_and_score\n",
      "    estimator.fit(X_train, y_train, **fit_params)\n",
      "  File \"/Users/celia/miniconda3/lib/python3.8/site-packages/sklearn/base.py\", line 1152, in wrapper\n",
      "    return fit_method(estimator, *args, **kwargs)\n",
      "  File \"/Users/celia/miniconda3/lib/python3.8/site-packages/sklearn/pipeline.py\", line 427, in fit\n",
      "    self._final_estimator.fit(Xt, y, **fit_params_last_step)\n",
      "  File \"/Users/celia/miniconda3/lib/python3.8/site-packages/sklearn/base.py\", line 1152, in wrapper\n",
      "    return fit_method(estimator, *args, **kwargs)\n",
      "  File \"/Users/celia/miniconda3/lib/python3.8/site-packages/sklearn/linear_model/_logistic.py\", line 1169, in fit\n",
      "    solver = _check_solver(self.solver, self.penalty, self.dual)\n",
      "  File \"/Users/celia/miniconda3/lib/python3.8/site-packages/sklearn/linear_model/_logistic.py\", line 56, in _check_solver\n",
      "    raise ValueError(\n",
      "ValueError: Solver newton-cg supports only 'l2' or 'none' penalties, got l1 penalty.\n",
      "\n",
      "--------------------------------------------------------------------------------\n",
      "21 fits failed with the following error:\n",
      "Traceback (most recent call last):\n",
      "  File \"/Users/celia/miniconda3/lib/python3.8/site-packages/sklearn/model_selection/_validation.py\", line 729, in _fit_and_score\n",
      "    estimator.fit(X_train, y_train, **fit_params)\n",
      "  File \"/Users/celia/miniconda3/lib/python3.8/site-packages/sklearn/base.py\", line 1152, in wrapper\n",
      "    return fit_method(estimator, *args, **kwargs)\n",
      "  File \"/Users/celia/miniconda3/lib/python3.8/site-packages/sklearn/pipeline.py\", line 427, in fit\n",
      "    self._final_estimator.fit(Xt, y, **fit_params_last_step)\n",
      "  File \"/Users/celia/miniconda3/lib/python3.8/site-packages/sklearn/base.py\", line 1152, in wrapper\n",
      "    return fit_method(estimator, *args, **kwargs)\n",
      "  File \"/Users/celia/miniconda3/lib/python3.8/site-packages/sklearn/linear_model/_logistic.py\", line 1169, in fit\n",
      "    solver = _check_solver(self.solver, self.penalty, self.dual)\n",
      "  File \"/Users/celia/miniconda3/lib/python3.8/site-packages/sklearn/linear_model/_logistic.py\", line 56, in _check_solver\n",
      "    raise ValueError(\n",
      "ValueError: Solver lbfgs supports only 'l2' or 'none' penalties, got l1 penalty.\n",
      "\n",
      "--------------------------------------------------------------------------------\n",
      "21 fits failed with the following error:\n",
      "Traceback (most recent call last):\n",
      "  File \"/Users/celia/miniconda3/lib/python3.8/site-packages/sklearn/model_selection/_validation.py\", line 729, in _fit_and_score\n",
      "    estimator.fit(X_train, y_train, **fit_params)\n",
      "  File \"/Users/celia/miniconda3/lib/python3.8/site-packages/sklearn/base.py\", line 1152, in wrapper\n",
      "    return fit_method(estimator, *args, **kwargs)\n",
      "  File \"/Users/celia/miniconda3/lib/python3.8/site-packages/sklearn/pipeline.py\", line 427, in fit\n",
      "    self._final_estimator.fit(Xt, y, **fit_params_last_step)\n",
      "  File \"/Users/celia/miniconda3/lib/python3.8/site-packages/sklearn/base.py\", line 1152, in wrapper\n",
      "    return fit_method(estimator, *args, **kwargs)\n",
      "  File \"/Users/celia/miniconda3/lib/python3.8/site-packages/sklearn/linear_model/_logistic.py\", line 1169, in fit\n",
      "    solver = _check_solver(self.solver, self.penalty, self.dual)\n",
      "  File \"/Users/celia/miniconda3/lib/python3.8/site-packages/sklearn/linear_model/_logistic.py\", line 56, in _check_solver\n",
      "    raise ValueError(\n",
      "ValueError: Solver sag supports only 'l2' or 'none' penalties, got l1 penalty.\n",
      "\n",
      "--------------------------------------------------------------------------------\n",
      "15 fits failed with the following error:\n",
      "Traceback (most recent call last):\n",
      "  File \"/Users/celia/miniconda3/lib/python3.8/site-packages/sklearn/model_selection/_validation.py\", line 729, in _fit_and_score\n",
      "    estimator.fit(X_train, y_train, **fit_params)\n",
      "  File \"/Users/celia/miniconda3/lib/python3.8/site-packages/sklearn/base.py\", line 1152, in wrapper\n",
      "    return fit_method(estimator, *args, **kwargs)\n",
      "  File \"/Users/celia/miniconda3/lib/python3.8/site-packages/sklearn/pipeline.py\", line 427, in fit\n",
      "    self._final_estimator.fit(Xt, y, **fit_params_last_step)\n",
      "  File \"/Users/celia/miniconda3/lib/python3.8/site-packages/sklearn/base.py\", line 1145, in wrapper\n",
      "    estimator._validate_params()\n",
      "  File \"/Users/celia/miniconda3/lib/python3.8/site-packages/sklearn/base.py\", line 638, in _validate_params\n",
      "    validate_parameter_constraints(\n",
      "  File \"/Users/celia/miniconda3/lib/python3.8/site-packages/sklearn/utils/_param_validation.py\", line 96, in validate_parameter_constraints\n",
      "    raise InvalidParameterError(\n",
      "sklearn.utils._param_validation.InvalidParameterError: The 'penalty' parameter of LogisticRegression must be a str among {'l2', 'none' (deprecated), 'elasticnet', 'l1'} or None. Got 'elascticnet' instead.\n",
      "\n",
      "--------------------------------------------------------------------------------\n",
      "17 fits failed with the following error:\n",
      "Traceback (most recent call last):\n",
      "  File \"/Users/celia/miniconda3/lib/python3.8/site-packages/sklearn/model_selection/_validation.py\", line 729, in _fit_and_score\n",
      "    estimator.fit(X_train, y_train, **fit_params)\n",
      "  File \"/Users/celia/miniconda3/lib/python3.8/site-packages/sklearn/base.py\", line 1152, in wrapper\n",
      "    return fit_method(estimator, *args, **kwargs)\n",
      "  File \"/Users/celia/miniconda3/lib/python3.8/site-packages/sklearn/pipeline.py\", line 427, in fit\n",
      "    self._final_estimator.fit(Xt, y, **fit_params_last_step)\n",
      "  File \"/Users/celia/miniconda3/lib/python3.8/site-packages/sklearn/base.py\", line 1145, in wrapper\n",
      "    estimator._validate_params()\n",
      "  File \"/Users/celia/miniconda3/lib/python3.8/site-packages/sklearn/base.py\", line 638, in _validate_params\n",
      "    validate_parameter_constraints(\n",
      "  File \"/Users/celia/miniconda3/lib/python3.8/site-packages/sklearn/utils/_param_validation.py\", line 96, in validate_parameter_constraints\n",
      "    raise InvalidParameterError(\n",
      "sklearn.utils._param_validation.InvalidParameterError: The 'penalty' parameter of LogisticRegression must be a str among {'l1', 'l2', 'elasticnet', 'none' (deprecated)} or None. Got 'elascticnet' instead.\n",
      "\n",
      "--------------------------------------------------------------------------------\n",
      "22 fits failed with the following error:\n",
      "Traceback (most recent call last):\n",
      "  File \"/Users/celia/miniconda3/lib/python3.8/site-packages/sklearn/model_selection/_validation.py\", line 729, in _fit_and_score\n",
      "    estimator.fit(X_train, y_train, **fit_params)\n",
      "  File \"/Users/celia/miniconda3/lib/python3.8/site-packages/sklearn/base.py\", line 1152, in wrapper\n",
      "    return fit_method(estimator, *args, **kwargs)\n",
      "  File \"/Users/celia/miniconda3/lib/python3.8/site-packages/sklearn/pipeline.py\", line 427, in fit\n",
      "    self._final_estimator.fit(Xt, y, **fit_params_last_step)\n",
      "  File \"/Users/celia/miniconda3/lib/python3.8/site-packages/sklearn/base.py\", line 1145, in wrapper\n",
      "    estimator._validate_params()\n",
      "  File \"/Users/celia/miniconda3/lib/python3.8/site-packages/sklearn/base.py\", line 638, in _validate_params\n",
      "    validate_parameter_constraints(\n",
      "  File \"/Users/celia/miniconda3/lib/python3.8/site-packages/sklearn/utils/_param_validation.py\", line 96, in validate_parameter_constraints\n",
      "    raise InvalidParameterError(\n",
      "sklearn.utils._param_validation.InvalidParameterError: The 'penalty' parameter of LogisticRegression must be a str among {'l2', 'l1', 'none' (deprecated), 'elasticnet'} or None. Got 'elascticnet' instead.\n",
      "\n",
      "--------------------------------------------------------------------------------\n",
      "15 fits failed with the following error:\n",
      "Traceback (most recent call last):\n",
      "  File \"/Users/celia/miniconda3/lib/python3.8/site-packages/sklearn/model_selection/_validation.py\", line 729, in _fit_and_score\n",
      "    estimator.fit(X_train, y_train, **fit_params)\n",
      "  File \"/Users/celia/miniconda3/lib/python3.8/site-packages/sklearn/base.py\", line 1152, in wrapper\n",
      "    return fit_method(estimator, *args, **kwargs)\n",
      "  File \"/Users/celia/miniconda3/lib/python3.8/site-packages/sklearn/pipeline.py\", line 427, in fit\n",
      "    self._final_estimator.fit(Xt, y, **fit_params_last_step)\n",
      "  File \"/Users/celia/miniconda3/lib/python3.8/site-packages/sklearn/base.py\", line 1145, in wrapper\n",
      "    estimator._validate_params()\n",
      "  File \"/Users/celia/miniconda3/lib/python3.8/site-packages/sklearn/base.py\", line 638, in _validate_params\n",
      "    validate_parameter_constraints(\n",
      "  File \"/Users/celia/miniconda3/lib/python3.8/site-packages/sklearn/utils/_param_validation.py\", line 96, in validate_parameter_constraints\n",
      "    raise InvalidParameterError(\n",
      "sklearn.utils._param_validation.InvalidParameterError: The 'penalty' parameter of LogisticRegression must be a str among {'elasticnet', 'l2', 'l1', 'none' (deprecated)} or None. Got 'elascticnet' instead.\n",
      "\n",
      "--------------------------------------------------------------------------------\n",
      "8 fits failed with the following error:\n",
      "Traceback (most recent call last):\n",
      "  File \"/Users/celia/miniconda3/lib/python3.8/site-packages/sklearn/model_selection/_validation.py\", line 729, in _fit_and_score\n",
      "    estimator.fit(X_train, y_train, **fit_params)\n",
      "  File \"/Users/celia/miniconda3/lib/python3.8/site-packages/sklearn/base.py\", line 1152, in wrapper\n",
      "    return fit_method(estimator, *args, **kwargs)\n",
      "  File \"/Users/celia/miniconda3/lib/python3.8/site-packages/sklearn/pipeline.py\", line 427, in fit\n",
      "    self._final_estimator.fit(Xt, y, **fit_params_last_step)\n",
      "  File \"/Users/celia/miniconda3/lib/python3.8/site-packages/sklearn/base.py\", line 1145, in wrapper\n",
      "    estimator._validate_params()\n",
      "  File \"/Users/celia/miniconda3/lib/python3.8/site-packages/sklearn/base.py\", line 638, in _validate_params\n",
      "    validate_parameter_constraints(\n",
      "  File \"/Users/celia/miniconda3/lib/python3.8/site-packages/sklearn/utils/_param_validation.py\", line 96, in validate_parameter_constraints\n",
      "    raise InvalidParameterError(\n",
      "sklearn.utils._param_validation.InvalidParameterError: The 'penalty' parameter of LogisticRegression must be a str among {'l1', 'none' (deprecated), 'elasticnet', 'l2'} or None. Got 'elascticnet' instead.\n",
      "\n",
      "--------------------------------------------------------------------------------\n",
      "9 fits failed with the following error:\n",
      "Traceback (most recent call last):\n",
      "  File \"/Users/celia/miniconda3/lib/python3.8/site-packages/sklearn/model_selection/_validation.py\", line 729, in _fit_and_score\n",
      "    estimator.fit(X_train, y_train, **fit_params)\n",
      "  File \"/Users/celia/miniconda3/lib/python3.8/site-packages/sklearn/base.py\", line 1152, in wrapper\n",
      "    return fit_method(estimator, *args, **kwargs)\n",
      "  File \"/Users/celia/miniconda3/lib/python3.8/site-packages/sklearn/pipeline.py\", line 427, in fit\n",
      "    self._final_estimator.fit(Xt, y, **fit_params_last_step)\n",
      "  File \"/Users/celia/miniconda3/lib/python3.8/site-packages/sklearn/base.py\", line 1145, in wrapper\n",
      "    estimator._validate_params()\n",
      "  File \"/Users/celia/miniconda3/lib/python3.8/site-packages/sklearn/base.py\", line 638, in _validate_params\n",
      "    validate_parameter_constraints(\n",
      "  File \"/Users/celia/miniconda3/lib/python3.8/site-packages/sklearn/utils/_param_validation.py\", line 96, in validate_parameter_constraints\n",
      "    raise InvalidParameterError(\n",
      "sklearn.utils._param_validation.InvalidParameterError: The 'penalty' parameter of LogisticRegression must be a str among {'l1', 'none' (deprecated), 'l2', 'elasticnet'} or None. Got 'elascticnet' instead.\n",
      "\n",
      "--------------------------------------------------------------------------------\n",
      "8 fits failed with the following error:\n",
      "Traceback (most recent call last):\n",
      "  File \"/Users/celia/miniconda3/lib/python3.8/site-packages/sklearn/model_selection/_validation.py\", line 729, in _fit_and_score\n",
      "    estimator.fit(X_train, y_train, **fit_params)\n",
      "  File \"/Users/celia/miniconda3/lib/python3.8/site-packages/sklearn/base.py\", line 1152, in wrapper\n",
      "    return fit_method(estimator, *args, **kwargs)\n",
      "  File \"/Users/celia/miniconda3/lib/python3.8/site-packages/sklearn/pipeline.py\", line 427, in fit\n",
      "    self._final_estimator.fit(Xt, y, **fit_params_last_step)\n",
      "  File \"/Users/celia/miniconda3/lib/python3.8/site-packages/sklearn/base.py\", line 1145, in wrapper\n",
      "    estimator._validate_params()\n",
      "  File \"/Users/celia/miniconda3/lib/python3.8/site-packages/sklearn/base.py\", line 638, in _validate_params\n",
      "    validate_parameter_constraints(\n",
      "  File \"/Users/celia/miniconda3/lib/python3.8/site-packages/sklearn/utils/_param_validation.py\", line 96, in validate_parameter_constraints\n",
      "    raise InvalidParameterError(\n",
      "sklearn.utils._param_validation.InvalidParameterError: The 'penalty' parameter of LogisticRegression must be a str among {'elasticnet', 'none' (deprecated), 'l1', 'l2'} or None. Got 'elascticnet' instead.\n",
      "\n",
      "--------------------------------------------------------------------------------\n",
      "11 fits failed with the following error:\n",
      "Traceback (most recent call last):\n",
      "  File \"/Users/celia/miniconda3/lib/python3.8/site-packages/sklearn/model_selection/_validation.py\", line 729, in _fit_and_score\n",
      "    estimator.fit(X_train, y_train, **fit_params)\n",
      "  File \"/Users/celia/miniconda3/lib/python3.8/site-packages/sklearn/base.py\", line 1152, in wrapper\n",
      "    return fit_method(estimator, *args, **kwargs)\n",
      "  File \"/Users/celia/miniconda3/lib/python3.8/site-packages/sklearn/pipeline.py\", line 427, in fit\n",
      "    self._final_estimator.fit(Xt, y, **fit_params_last_step)\n",
      "  File \"/Users/celia/miniconda3/lib/python3.8/site-packages/sklearn/base.py\", line 1145, in wrapper\n",
      "    estimator._validate_params()\n",
      "  File \"/Users/celia/miniconda3/lib/python3.8/site-packages/sklearn/base.py\", line 638, in _validate_params\n",
      "    validate_parameter_constraints(\n",
      "  File \"/Users/celia/miniconda3/lib/python3.8/site-packages/sklearn/utils/_param_validation.py\", line 96, in validate_parameter_constraints\n",
      "    raise InvalidParameterError(\n",
      "sklearn.utils._param_validation.InvalidParameterError: The 'penalty' parameter of LogisticRegression must be a str among {'l1', 'elasticnet', 'l2', 'none' (deprecated)} or None. Got 'elascticnet' instead.\n",
      "\n",
      "  warnings.warn(some_fits_failed_message, FitFailedWarning)\n",
      "/Users/celia/miniconda3/lib/python3.8/site-packages/sklearn/model_selection/_search.py:979: UserWarning: One or more of the test scores are non-finite: [       nan        nan 0.75133492        nan 0.75133492 0.78811552\n",
      " 0.78811552 0.80477804 0.78811552 0.78811552        nan        nan\n",
      "        nan        nan        nan        nan        nan 0.7994345\n",
      "        nan 0.78686033 0.80760882 0.80760882 0.81641148 0.80760882\n",
      " 0.80760882        nan        nan        nan        nan        nan\n",
      "        nan        nan 0.81201015        nan 0.80980978 0.81483856\n",
      " 0.81483856 0.81609583 0.81483856 0.81483856        nan        nan\n",
      "        nan        nan        nan        nan        nan 0.81609642\n",
      "        nan 0.81703804 0.81735339 0.81735339 0.81766786 0.81672446\n",
      " 0.81609553        nan        nan        nan        nan        nan\n",
      "        nan        nan 0.81641148        nan 0.81735339 0.81609731\n",
      " 0.81641207 0.81609731 0.81703982 0.81735339        nan        nan\n",
      "        nan        nan        nan        nan        nan 0.81609701\n",
      "        nan 0.81735339 0.81609701 0.81515421 0.81609701 0.81704011\n",
      " 0.81735339        nan        nan        nan        nan        nan\n",
      "        nan        nan 0.81609701        nan 0.81735339 0.81609701\n",
      " 0.81609761 0.81609701 0.81704011 0.81735339        nan        nan\n",
      "        nan        nan        nan]\n",
      "  warnings.warn(\n",
      "/Users/celia/miniconda3/lib/python3.8/site-packages/sklearn/model_selection/_search.py:979: UserWarning: One or more of the train scores are non-finite: [       nan        nan 0.75133577        nan 0.75133577 0.78968943\n",
      " 0.78968943 0.80509201 0.78968943 0.78968943        nan        nan\n",
      "        nan        nan        nan        nan        nan 0.80194921\n",
      "        nan 0.79063187 0.80949386 0.80949386 0.81750991 0.80949386\n",
      " 0.80949386        nan        nan        nan        nan        nan\n",
      "        nan        nan 0.81468098        nan 0.81358043 0.8173529\n",
      " 0.8173529  0.81876762 0.8173529  0.8173529         nan        nan\n",
      "        nan        nan        nan        nan        nan 0.81923969\n",
      "        nan 0.82033973 0.82049726 0.8203401  0.82018287 0.82065442\n",
      " 0.82112597        nan        nan        nan        nan        nan\n",
      "        nan        nan 0.81986833        nan 0.82065442 0.82065434\n",
      " 0.82065434 0.82065434 0.81971117 0.82128327        nan        nan\n",
      "        nan        nan        nan        nan        nan 0.81876777\n",
      "        nan 0.8212832  0.81923947 0.81986833 0.81923947 0.82002549\n",
      " 0.8212832         nan        nan        nan        nan        nan\n",
      "        nan        nan 0.81876785        nan 0.8212832  0.81876785\n",
      " 0.81971102 0.81876785 0.82002549 0.8212832         nan        nan\n",
      "        nan        nan        nan]\n",
      "  warnings.warn(\n"
     ]
    },
    {
     "data": {
      "text/html": [
       "<style>#sk-container-id-15 {color: black;}#sk-container-id-15 pre{padding: 0;}#sk-container-id-15 div.sk-toggleable {background-color: white;}#sk-container-id-15 label.sk-toggleable__label {cursor: pointer;display: block;width: 100%;margin-bottom: 0;padding: 0.3em;box-sizing: border-box;text-align: center;}#sk-container-id-15 label.sk-toggleable__label-arrow:before {content: \"▸\";float: left;margin-right: 0.25em;color: #696969;}#sk-container-id-15 label.sk-toggleable__label-arrow:hover:before {color: black;}#sk-container-id-15 div.sk-estimator:hover label.sk-toggleable__label-arrow:before {color: black;}#sk-container-id-15 div.sk-toggleable__content {max-height: 0;max-width: 0;overflow: hidden;text-align: left;background-color: #f0f8ff;}#sk-container-id-15 div.sk-toggleable__content pre {margin: 0.2em;color: black;border-radius: 0.25em;background-color: #f0f8ff;}#sk-container-id-15 input.sk-toggleable__control:checked~div.sk-toggleable__content {max-height: 200px;max-width: 100%;overflow: auto;}#sk-container-id-15 input.sk-toggleable__control:checked~label.sk-toggleable__label-arrow:before {content: \"▾\";}#sk-container-id-15 div.sk-estimator input.sk-toggleable__control:checked~label.sk-toggleable__label {background-color: #d4ebff;}#sk-container-id-15 div.sk-label input.sk-toggleable__control:checked~label.sk-toggleable__label {background-color: #d4ebff;}#sk-container-id-15 input.sk-hidden--visually {border: 0;clip: rect(1px 1px 1px 1px);clip: rect(1px, 1px, 1px, 1px);height: 1px;margin: -1px;overflow: hidden;padding: 0;position: absolute;width: 1px;}#sk-container-id-15 div.sk-estimator {font-family: monospace;background-color: #f0f8ff;border: 1px dotted black;border-radius: 0.25em;box-sizing: border-box;margin-bottom: 0.5em;}#sk-container-id-15 div.sk-estimator:hover {background-color: #d4ebff;}#sk-container-id-15 div.sk-parallel-item::after {content: \"\";width: 100%;border-bottom: 1px solid gray;flex-grow: 1;}#sk-container-id-15 div.sk-label:hover label.sk-toggleable__label {background-color: #d4ebff;}#sk-container-id-15 div.sk-serial::before {content: \"\";position: absolute;border-left: 1px solid gray;box-sizing: border-box;top: 0;bottom: 0;left: 50%;z-index: 0;}#sk-container-id-15 div.sk-serial {display: flex;flex-direction: column;align-items: center;background-color: white;padding-right: 0.2em;padding-left: 0.2em;position: relative;}#sk-container-id-15 div.sk-item {position: relative;z-index: 1;}#sk-container-id-15 div.sk-parallel {display: flex;align-items: stretch;justify-content: center;background-color: white;position: relative;}#sk-container-id-15 div.sk-item::before, #sk-container-id-15 div.sk-parallel-item::before {content: \"\";position: absolute;border-left: 1px solid gray;box-sizing: border-box;top: 0;bottom: 0;left: 50%;z-index: -1;}#sk-container-id-15 div.sk-parallel-item {display: flex;flex-direction: column;z-index: 1;position: relative;background-color: white;}#sk-container-id-15 div.sk-parallel-item:first-child::after {align-self: flex-end;width: 50%;}#sk-container-id-15 div.sk-parallel-item:last-child::after {align-self: flex-start;width: 50%;}#sk-container-id-15 div.sk-parallel-item:only-child::after {width: 0;}#sk-container-id-15 div.sk-dashed-wrapped {border: 1px dashed gray;margin: 0 0.4em 0.5em 0.4em;box-sizing: border-box;padding-bottom: 0.4em;background-color: white;}#sk-container-id-15 div.sk-label label {font-family: monospace;font-weight: bold;display: inline-block;line-height: 1.2em;}#sk-container-id-15 div.sk-label-container {text-align: center;}#sk-container-id-15 div.sk-container {/* jupyter's `normalize.less` sets `[hidden] { display: none; }` but bootstrap.min.css set `[hidden] { display: none !important; }` so we also need the `!important` here to be able to override the default hidden behavior on the sphinx rendered scikit-learn.org. See: https://github.com/scikit-learn/scikit-learn/issues/21755 */display: inline-block !important;position: relative;}#sk-container-id-15 div.sk-text-repr-fallback {display: none;}</style><div id=\"sk-container-id-15\" class=\"sk-top-container\"><div class=\"sk-text-repr-fallback\"><pre>GridSearchCV(cv=KFold(n_splits=3, random_state=42, shuffle=True),\n",
       "             estimator=Pipeline(steps=[(&#x27;scale&#x27;, StandardScaler()),\n",
       "                                       (&#x27;lr&#x27;,\n",
       "                                        LogisticRegression(penalty=&#x27;none&#x27;,\n",
       "                                                           random_state=49))]),\n",
       "             n_jobs=-1,\n",
       "             param_grid=[{&#x27;lr__C&#x27;: [0.001, 0.01, 0.1, 1, 10, 100, 1000],\n",
       "                          &#x27;lr__penalty&#x27;: [&#x27;l1&#x27;, &#x27;l2&#x27;, &#x27;elascticnet&#x27;],\n",
       "                          &#x27;lr__solver&#x27;: [&#x27;newton-cg&#x27;, &#x27;lbfgs&#x27;, &#x27;liblinear&#x27;,\n",
       "                                         &#x27;sag&#x27;, &#x27;saga&#x27;]}],\n",
       "             return_train_score=True, scoring=&#x27;accuracy&#x27;, verbose=1)</pre><b>In a Jupyter environment, please rerun this cell to show the HTML representation or trust the notebook. <br />On GitHub, the HTML representation is unable to render, please try loading this page with nbviewer.org.</b></div><div class=\"sk-container\" hidden><div class=\"sk-item sk-dashed-wrapped\"><div class=\"sk-label-container\"><div class=\"sk-label sk-toggleable\"><input class=\"sk-toggleable__control sk-hidden--visually\" id=\"sk-estimator-id-51\" type=\"checkbox\" ><label for=\"sk-estimator-id-51\" class=\"sk-toggleable__label sk-toggleable__label-arrow\">GridSearchCV</label><div class=\"sk-toggleable__content\"><pre>GridSearchCV(cv=KFold(n_splits=3, random_state=42, shuffle=True),\n",
       "             estimator=Pipeline(steps=[(&#x27;scale&#x27;, StandardScaler()),\n",
       "                                       (&#x27;lr&#x27;,\n",
       "                                        LogisticRegression(penalty=&#x27;none&#x27;,\n",
       "                                                           random_state=49))]),\n",
       "             n_jobs=-1,\n",
       "             param_grid=[{&#x27;lr__C&#x27;: [0.001, 0.01, 0.1, 1, 10, 100, 1000],\n",
       "                          &#x27;lr__penalty&#x27;: [&#x27;l1&#x27;, &#x27;l2&#x27;, &#x27;elascticnet&#x27;],\n",
       "                          &#x27;lr__solver&#x27;: [&#x27;newton-cg&#x27;, &#x27;lbfgs&#x27;, &#x27;liblinear&#x27;,\n",
       "                                         &#x27;sag&#x27;, &#x27;saga&#x27;]}],\n",
       "             return_train_score=True, scoring=&#x27;accuracy&#x27;, verbose=1)</pre></div></div></div><div class=\"sk-parallel\"><div class=\"sk-parallel-item\"><div class=\"sk-item\"><div class=\"sk-label-container\"><div class=\"sk-label sk-toggleable\"><input class=\"sk-toggleable__control sk-hidden--visually\" id=\"sk-estimator-id-52\" type=\"checkbox\" ><label for=\"sk-estimator-id-52\" class=\"sk-toggleable__label sk-toggleable__label-arrow\">estimator: Pipeline</label><div class=\"sk-toggleable__content\"><pre>Pipeline(steps=[(&#x27;scale&#x27;, StandardScaler()),\n",
       "                (&#x27;lr&#x27;, LogisticRegression(penalty=&#x27;none&#x27;, random_state=49))])</pre></div></div></div><div class=\"sk-serial\"><div class=\"sk-item\"><div class=\"sk-serial\"><div class=\"sk-item\"><div class=\"sk-estimator sk-toggleable\"><input class=\"sk-toggleable__control sk-hidden--visually\" id=\"sk-estimator-id-53\" type=\"checkbox\" ><label for=\"sk-estimator-id-53\" class=\"sk-toggleable__label sk-toggleable__label-arrow\">StandardScaler</label><div class=\"sk-toggleable__content\"><pre>StandardScaler()</pre></div></div></div><div class=\"sk-item\"><div class=\"sk-estimator sk-toggleable\"><input class=\"sk-toggleable__control sk-hidden--visually\" id=\"sk-estimator-id-54\" type=\"checkbox\" ><label for=\"sk-estimator-id-54\" class=\"sk-toggleable__label sk-toggleable__label-arrow\">LogisticRegression</label><div class=\"sk-toggleable__content\"><pre>LogisticRegression(penalty=&#x27;none&#x27;, random_state=49)</pre></div></div></div></div></div></div></div></div></div></div></div></div>"
      ],
      "text/plain": [
       "GridSearchCV(cv=KFold(n_splits=3, random_state=42, shuffle=True),\n",
       "             estimator=Pipeline(steps=[('scale', StandardScaler()),\n",
       "                                       ('lr',\n",
       "                                        LogisticRegression(penalty='none',\n",
       "                                                           random_state=49))]),\n",
       "             n_jobs=-1,\n",
       "             param_grid=[{'lr__C': [0.001, 0.01, 0.1, 1, 10, 100, 1000],\n",
       "                          'lr__penalty': ['l1', 'l2', 'elascticnet'],\n",
       "                          'lr__solver': ['newton-cg', 'lbfgs', 'liblinear',\n",
       "                                         'sag', 'saga']}],\n",
       "             return_train_score=True, scoring='accuracy', verbose=1)"
      ]
     },
     "execution_count": 131,
     "metadata": {},
     "output_type": "execute_result"
    }
   ],
   "source": [
    "param_grid = [{'lr__penalty': ['l1', 'l2', 'elascticnet'],\n",
    "               'lr__C': [0.001, 0.01, 0.1, 1, 10, 100, 1000],\n",
    "               'lr__solver': ['newton-cg', 'lbfgs', 'liblinear', 'sag', 'saga']}]\n",
    "\n",
    "\n",
    "inner = KFold(n_splits=3, shuffle=True, random_state=42)\n",
    "\n",
    "#budget = 40\n",
    "# Cross-validation (3-fold) para la búsqueda de hiper-parámetros\n",
    "clf = GridSearchCV (estimator  = pipe_scale_lr,\n",
    "                    param_grid = param_grid,\n",
    "                    scoring='accuracy', #OJO!!! scoring=‘balanced_accuracy’\n",
    "                    cv=inner,\n",
    "                    refit=True,\n",
    "                    n_jobs=-1,\n",
    "                    verbose=1,\n",
    "                    return_train_score=True)\n",
    "\n",
    "np.random.seed(42)\n",
    "\n",
    "clf.fit(X=X_train_clf, y=y_train_clf)"
   ]
  },
  {
   "cell_type": "code",
   "execution_count": 132,
   "metadata": {},
   "outputs": [
    {
     "data": {
      "text/html": [
       "<div>\n",
       "<style scoped>\n",
       "    .dataframe tbody tr th:only-of-type {\n",
       "        vertical-align: middle;\n",
       "    }\n",
       "\n",
       "    .dataframe tbody tr th {\n",
       "        vertical-align: top;\n",
       "    }\n",
       "\n",
       "    .dataframe thead th {\n",
       "        text-align: right;\n",
       "    }\n",
       "</style>\n",
       "<table border=\"1\" class=\"dataframe\">\n",
       "  <thead>\n",
       "    <tr style=\"text-align: right;\">\n",
       "      <th></th>\n",
       "      <th>param_lr__C</th>\n",
       "      <th>param_lr__penalty</th>\n",
       "      <th>param_lr__solver</th>\n",
       "      <th>mean_test_score</th>\n",
       "      <th>std_test_score</th>\n",
       "      <th>mean_train_score</th>\n",
       "      <th>std_train_score</th>\n",
       "    </tr>\n",
       "  </thead>\n",
       "  <tbody>\n",
       "    <tr>\n",
       "      <th>52</th>\n",
       "      <td>1</td>\n",
       "      <td>l2</td>\n",
       "      <td>liblinear</td>\n",
       "      <td>0.817668</td>\n",
       "      <td>0.002886</td>\n",
       "      <td>0.820183</td>\n",
       "      <td>0.002406</td>\n",
       "    </tr>\n",
       "    <tr>\n",
       "      <th>51</th>\n",
       "      <td>1</td>\n",
       "      <td>l2</td>\n",
       "      <td>lbfgs</td>\n",
       "      <td>0.817353</td>\n",
       "      <td>0.003185</td>\n",
       "      <td>0.820340</td>\n",
       "      <td>0.002628</td>\n",
       "    </tr>\n",
       "    <tr>\n",
       "      <th>50</th>\n",
       "      <td>1</td>\n",
       "      <td>l2</td>\n",
       "      <td>newton-cg</td>\n",
       "      <td>0.817353</td>\n",
       "      <td>0.003185</td>\n",
       "      <td>0.820497</td>\n",
       "      <td>0.002524</td>\n",
       "    </tr>\n",
       "    <tr>\n",
       "      <th>94</th>\n",
       "      <td>1000</td>\n",
       "      <td>l1</td>\n",
       "      <td>saga</td>\n",
       "      <td>0.817353</td>\n",
       "      <td>0.002448</td>\n",
       "      <td>0.821283</td>\n",
       "      <td>0.002656</td>\n",
       "    </tr>\n",
       "    <tr>\n",
       "      <th>84</th>\n",
       "      <td>100</td>\n",
       "      <td>l2</td>\n",
       "      <td>saga</td>\n",
       "      <td>0.817353</td>\n",
       "      <td>0.002448</td>\n",
       "      <td>0.821283</td>\n",
       "      <td>0.002656</td>\n",
       "    </tr>\n",
       "  </tbody>\n",
       "</table>\n",
       "</div>"
      ],
      "text/plain": [
       "   param_lr__C param_lr__penalty param_lr__solver  mean_test_score  \\\n",
       "52           1                l2        liblinear         0.817668   \n",
       "51           1                l2            lbfgs         0.817353   \n",
       "50           1                l2        newton-cg         0.817353   \n",
       "94        1000                l1             saga         0.817353   \n",
       "84         100                l2             saga         0.817353   \n",
       "\n",
       "    std_test_score  mean_train_score  std_train_score  \n",
       "52        0.002886          0.820183         0.002406  \n",
       "51        0.003185          0.820340         0.002628  \n",
       "50        0.003185          0.820497         0.002524  \n",
       "94        0.002448          0.821283         0.002656  \n",
       "84        0.002448          0.821283         0.002656  "
      ]
     },
     "execution_count": 132,
     "metadata": {},
     "output_type": "execute_result"
    }
   ],
   "source": [
    "resultados = pd.DataFrame(clf.cv_results_)\n",
    "resultados.filter(regex = '(param.*|mean_t|std_t)') \\\n",
    "    .drop(columns = 'params') \\\n",
    "    .sort_values('mean_test_score', ascending = False) \\\n",
    "    .head()"
   ]
  },
  {
   "cell_type": "code",
   "execution_count": 133,
   "metadata": {},
   "outputs": [
    {
     "data": {
      "text/plain": [
       "({'lr__C': 1, 'lr__penalty': 'l2', 'lr__solver': 'liblinear'},\n",
       " 0.817667858137867)"
      ]
     },
     "execution_count": 133,
     "metadata": {},
     "output_type": "execute_result"
    }
   ],
   "source": [
    "clf.best_params_, clf.best_score_"
   ]
  },
  {
   "cell_type": "code",
   "execution_count": 141,
   "metadata": {},
   "outputs": [
    {
     "name": "stdout",
     "output_type": "stream",
     "text": [
      "Intercept: [-1.3875758]\n",
      "Coeficientes: [('p54.162.13', 0.5094636737092664), ('p55.162.13', 0.06986842327252403), ('cape.13', -0.15084883808817492), ('p59.162.13', 0.8249856491846308), ('lai_lv.13', 0.45544361097700803), ('lai_hv.13', -0.588990668515902), ('u10n.13', -1.8607389207662741), ('v10n.13', 0.6090827930927385), ('sp.13', -0.3166480262848288), ('stl1.13', -0.2758083834072767), ('u10.13', 2.129631677375796), ('v10.13', -1.7753585168696826), ('t2m.13', -0.15275941010503305), ('stl2.13', -0.3134469951287579), ('stl3.13', 0.028118872648600978), ('iews.13', 0.7269467391576517), ('inss.13', 0.672877150221534), ('stl4.13', 0.003636461178932267), ('fsr.13', 1.512362577963538), ('flsr.13', -1.3786169026736952), ('u100.13', -1.0120405964355341), ('v100.13', 0.7346790461447331)]\n",
      "Accuracy de test: 0.8155711550733886\n"
     ]
    }
   ],
   "source": [
    "modelo_final = clf.best_estimator_\n",
    "print(\"Intercept:\", modelo_final['lr'].intercept_)\n",
    "print(\"Coeficientes:\", list(zip(df_clf.columns, modelo_final['lr'].coef_.flatten(), )))\n",
    "print(\"Accuracy de test:\", modelo_final.score(X_test_clf, y_test_clf))"
   ]
  },
  {
   "cell_type": "code",
   "execution_count": 142,
   "metadata": {},
   "outputs": [
    {
     "name": "stdout",
     "output_type": "stream",
     "text": [
      "Classification Report:\n",
      "              precision    recall  f1-score   support\n",
      "\n",
      "           0       0.83      0.95      0.88      1171\n",
      "           1       0.73      0.43      0.54       396\n",
      "\n",
      "    accuracy                           0.82      1567\n",
      "   macro avg       0.78      0.69      0.71      1567\n",
      "weighted avg       0.80      0.82      0.80      1567\n",
      "\n"
     ]
    }
   ],
   "source": [
    "y_test_pred = modelo_final.predict(X_test_clf)\n",
    "result = metrics.classification_report(y_test_clf, y_test_pred)\n",
    "print(\"Classification Report:\",)\n",
    "print (result)"
   ]
  },
  {
   "cell_type": "markdown",
   "metadata": {},
   "source": [
    "Desbalance"
   ]
  },
  {
   "cell_type": "code",
   "execution_count": 143,
   "metadata": {},
   "outputs": [
    {
     "data": {
      "text/plain": [
       "energy\n",
       "0    3561\n",
       "1    1187\n",
       "Name: count, dtype: int64"
      ]
     },
     "execution_count": 143,
     "metadata": {},
     "output_type": "execute_result"
    }
   ],
   "source": [
    "df_clf['energy'].value_counts().sort_index()"
   ]
  }
 ],
 "metadata": {
  "kernelspec": {
   "display_name": "Python 3",
   "language": "python",
   "name": "python3"
  },
  "language_info": {
   "codemirror_mode": {
    "name": "ipython",
    "version": 3
   },
   "file_extension": ".py",
   "mimetype": "text/x-python",
   "name": "python",
   "nbconvert_exporter": "python",
   "pygments_lexer": "ipython3",
   "version": "3.8.11"
  }
 },
 "nbformat": 4,
 "nbformat_minor": 2
}
