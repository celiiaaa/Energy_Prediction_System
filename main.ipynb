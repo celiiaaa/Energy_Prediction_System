{
 "cells": [
  {
   "cell_type": "markdown",
   "metadata": {},
   "source": [
    "# Predicción de la producción de energía éolica con SKlearn.\n",
    "\n",
    "Este código pertenece a la primera práctica de la asignutra de Aprendizaje Automático.\n",
    "\n",
    "100471948 - Celia Patricio Ferrer\n",
    "\n",
    "100472039 - Alberto García de la Torre"
   ]
  },
  {
   "cell_type": "markdown",
   "metadata": {},
   "source": [
    "### Librerías necesarias."
   ]
  },
  {
   "cell_type": "code",
   "execution_count": 38,
   "metadata": {},
   "outputs": [],
   "source": [
    "import time\n",
    "import numpy as np\n",
    "import pandas as pd\n",
    "import seaborn as sns\n",
    "from sklearn import metrics\n",
    "import matplotlib.pyplot as plt\n",
    "\n",
    "# Modelos\n",
    "from sklearn import tree\n",
    "from sklearn.svm import SVR\n",
    "from sklearn.dummy import DummyRegressor\n",
    "from lineartree import LinearTreeRegressor\n",
    "from sklearn.linear_model import Ridge, Lasso\n",
    "from sklearn.linear_model import LinearRegression\n",
    "from sklearn.neighbors import KNeighborsRegressor\n",
    "from sklearn.model_selection import train_test_split\n",
    "from sklearn.preprocessing import StandardScaler, MinMaxScaler, RobustScaler\n",
    "from sklearn.preprocessing import MaxAbsScaler, Normalizer, QuantileTransformer\n",
    "\n",
    "# HPO\n",
    "from sklearn.model_selection import RandomizedSearchCV, KFold, GridSearchCV\n",
    "from scipy.stats import randint as sp_randint"
   ]
  },
  {
   "cell_type": "markdown",
   "metadata": {},
   "source": [
    "---\n",
    "## Lectura del archivo.\n",
    "---\n",
    "\n",
    "En primer lugar se lee el archivo que contiene los datos disponibles. Es decir, se realiza la lectura del archivo csv llamado *wind_ava.csv.gz*."
   ]
  },
  {
   "cell_type": "code",
   "execution_count": 39,
   "metadata": {},
   "outputs": [
    {
     "name": "stdout",
     "output_type": "stream",
     "text": [
      "                 datetime   energy     p54.162.1     p54.162.2     p54.162.3  \\\n",
      "0     2005-01-02 18:00:00   402.71  2.534970e+06  2.526864e+06  2.518754e+06   \n",
      "1     2005-01-03 00:00:00   696.80  2.537369e+06  2.529277e+06  2.521184e+06   \n",
      "2     2005-01-03 06:00:00  1591.15  2.533727e+06  2.525703e+06  2.517678e+06   \n",
      "3     2005-01-03 12:00:00  1338.62  2.534491e+06  2.526548e+06  2.518609e+06   \n",
      "4     2005-01-03 18:00:00   562.50  2.529543e+06  2.521623e+06  2.513702e+06   \n",
      "...                   ...      ...           ...           ...           ...   \n",
      "4743  2009-12-30 06:00:00  1280.13  2.407224e+06  2.400131e+06  2.393033e+06   \n",
      "4744  2009-12-30 12:00:00   855.00  2.407234e+06  2.400117e+06  2.393001e+06   \n",
      "4745  2009-12-30 18:00:00   117.06  2.401034e+06  2.393683e+06  2.386332e+06   \n",
      "4746  2009-12-31 12:00:00   516.96  2.393873e+06  2.386499e+06  2.379125e+06   \n",
      "4747  2009-12-31 18:00:00   867.07  2.392305e+06  2.384669e+06  2.377033e+06   \n",
      "\n",
      "         p54.162.4     p54.162.5     p54.162.6     p54.162.7     p54.162.8  \\\n",
      "0     2.510648e+06  2.502537e+06  2.531111e+06  2.522721e+06  2.514330e+06   \n",
      "1     2.513088e+06  2.504995e+06  2.533465e+06  2.525088e+06  2.516716e+06   \n",
      "2     2.509654e+06  2.501629e+06  2.529801e+06  2.521496e+06  2.513187e+06   \n",
      "3     2.510670e+06  2.502732e+06  2.530569e+06  2.522346e+06  2.514127e+06   \n",
      "4     2.505782e+06  2.497861e+06  2.525621e+06  2.517421e+06  2.509215e+06   \n",
      "...            ...           ...           ...           ...           ...   \n",
      "4743  2.385939e+06  2.378841e+06  2.403709e+06  2.396344e+06  2.388984e+06   \n",
      "4744  2.385885e+06  2.378768e+06  2.403700e+06  2.396317e+06  2.388935e+06   \n",
      "4745  2.378981e+06  2.371630e+06  2.397510e+06  2.389888e+06  2.382270e+06   \n",
      "4746  2.371752e+06  2.364378e+06  2.390276e+06  2.382632e+06  2.374982e+06   \n",
      "4747  2.369398e+06  2.361766e+06  2.388668e+06  2.380761e+06  2.372854e+06   \n",
      "\n",
      "      ...   v100.16   v100.17   v100.18   v100.19   v100.20   v100.21  \\\n",
      "0     ... -4.683596 -4.545396 -4.407196 -4.268996 -4.131295 -4.669626   \n",
      "1     ... -3.397886 -3.257192 -3.115998 -2.975304 -2.834609 -3.396390   \n",
      "2     ... -1.454105 -1.296447 -1.138290 -0.980134 -0.822476 -1.459094   \n",
      "3     ...  1.255015  1.370265  1.485515  1.600765  1.716015  1.210612   \n",
      "4     ...  1.939031  2.023847  2.108663  2.193977  2.278793  1.873673   \n",
      "...   ...       ...       ...       ...       ...       ...       ...   \n",
      "4743  ...  9.377886  9.271118  9.164849  9.058080  8.951312  9.402832   \n",
      "4744  ...  7.345796  7.500461  7.655624  7.810288  7.964953  7.457055   \n",
      "4745  ...  3.485674  3.535566  3.585458  3.635349  3.685241  3.505132   \n",
      "4746  ...  1.988424  2.123630  2.258837  2.394043  2.529749  1.960983   \n",
      "4747  ...  2.052784  2.017860  1.982437  1.947512  1.912089  2.064259   \n",
      "\n",
      "       v100.22   v100.23   v100.24   v100.25  \n",
      "0    -4.528932 -4.388736 -4.248540 -4.107846  \n",
      "1    -3.254198 -3.112506 -2.970314 -2.828622  \n",
      "2    -1.302933 -1.147271 -0.991110 -0.834949  \n",
      "3     1.319376  1.428140  1.536405  1.645169  \n",
      "4     1.953000  2.031829  2.111157  2.189986  \n",
      "...        ...       ...       ...       ...  \n",
      "4743  9.291075  9.179816  9.068059  8.956800  \n",
      "4744  7.604734  7.751915  7.899595  8.047274  \n",
      "4745  3.552030  3.598429  3.645328  3.691727  \n",
      "4746  2.094194  2.226906  2.360117  2.492829  \n",
      "4747  2.031829  1.998901  1.966471  1.934042  \n",
      "\n",
      "[4748 rows x 552 columns]\n"
     ]
    }
   ],
   "source": [
    "wind_ava = pd.read_csv('wind_ava.csv.gz', compression=\"gzip\")\n",
    "\n",
    "# Imprimir el dataframe.\n",
    "print(wind_ava)"
   ]
  },
  {
   "cell_type": "markdown",
   "metadata": {},
   "source": [
    "Como podemos ver, este dataset está formado por 4748 instancias y 552 atributos."
   ]
  },
  {
   "cell_type": "markdown",
   "metadata": {},
   "source": [
    "---\n",
    "## Filtrado de datos.\n",
    "---\n",
    "\n",
    "Se deben quitar las variables metereológicas que no correspondan a la localización de Sotavento, la localización 13.\n",
    "\n",
    "Estas variables serán las **variables de entrada** de nuestro problema."
   ]
  },
  {
   "cell_type": "code",
   "execution_count": 40,
   "metadata": {},
   "outputs": [
    {
     "name": "stdout",
     "output_type": "stream",
     "text": [
      "        p54.162.13  p55.162.13    cape.13    p59.162.13  lai_lv.13  lai_hv.13  \\\n",
      "0     2.510824e+06    9.186295  13.527577  1.386937e+06   2.344111   2.432983   \n",
      "1     2.513173e+06    8.849569   6.896412  1.153526e+06   2.343719   2.432838   \n",
      "2     2.509627e+06    7.924080   4.774439  1.098754e+06   2.343300   2.432704   \n",
      "3     2.510571e+06    6.922709   0.000000  1.076021e+06   2.342830   2.432514   \n",
      "4     2.505664e+06    6.646282   0.000000  1.070830e+06   2.342437   2.432369   \n",
      "...            ...         ...        ...           ...        ...        ...   \n",
      "4743  2.385772e+06   14.413342  24.971074  3.905586e+06   2.349839   2.434994   \n",
      "4744  2.385708e+06   12.802883  60.248874  2.745694e+06   2.349446   2.434849   \n",
      "4745  2.379049e+06   10.915997   3.145067  2.254171e+06   2.349054   2.434715   \n",
      "4746  2.371697e+06   13.048144  12.580268  1.376913e+06   2.347799   2.434291   \n",
      "4747  2.369547e+06    9.172745   8.487892  1.356687e+06   2.347406   2.434145   \n",
      "\n",
      "       u10n.13   v10n.13         sp.13     stl1.13  ...      t2m.13  \\\n",
      "0    -0.757587 -1.922799  99846.319914  280.960661  ...  280.473098   \n",
      "1    -1.412620 -1.403011  99917.733093  279.296651  ...  278.286616   \n",
      "2    -2.290185 -0.754580  99764.378681  278.233956  ...  277.206490   \n",
      "3    -3.497855  1.271028  99672.670459  280.787263  ...  280.926600   \n",
      "4    -0.971249  0.553060  99372.811211  279.583112  ...  277.363875   \n",
      "...        ...       ...           ...         ...  ...         ...   \n",
      "4743  4.595786  5.563189  95460.434452  281.680110  ...  280.731326   \n",
      "4744  4.894838  5.577096  95663.765406  282.842686  ...  283.310687   \n",
      "4745  0.958361  0.948029  95653.110509  282.027412  ...  281.060085   \n",
      "4746  5.278912  0.771754  95534.765044  280.814135  ...  279.662858   \n",
      "4747  4.578042  1.295018  95866.081608  279.805690  ...  277.552154   \n",
      "\n",
      "         stl2.13     stl3.13   iews.13   inss.13     stl4.13    fsr.13  \\\n",
      "0     281.042026  281.462478 -0.057958 -0.138650  284.684755  0.404731   \n",
      "1     280.747406  281.486541 -0.103576 -0.083050  284.667948  0.404920   \n",
      "2     280.114863  281.487095 -0.165721 -0.036241  284.651914  0.405704   \n",
      "3     279.991138  281.472435 -0.275550  0.098192  284.636266  0.403967   \n",
      "4     280.576898  281.473265 -0.056553  0.041844  284.620232  0.403808   \n",
      "...          ...         ...       ...       ...         ...       ...   \n",
      "4743  282.643490  281.676560  0.628948  0.879581  286.013271  0.424510   \n",
      "4744  282.370909  281.761750  0.740926  0.699769  285.988737  0.424762   \n",
      "4745  282.425812  281.841961  0.109802  0.125174  285.968452  0.415132   \n",
      "4746  281.153379  281.976385  0.705886  0.192834  285.904895  0.426707   \n",
      "4747  281.046666  281.997129  0.460114  0.160810  285.884804  0.426651   \n",
      "\n",
      "       flsr.13   u100.13   v100.13  \n",
      "0    -5.927092 -1.780562 -4.443617  \n",
      "1    -5.913881 -3.743344 -3.129469  \n",
      "2    -5.908272 -5.097203 -1.157748  \n",
      "3    -5.961995 -4.500835  1.502478  \n",
      "4    -5.987860 -3.392324  2.131114  \n",
      "...        ...       ...       ...  \n",
      "4743 -5.715421  6.922743  9.179816  \n",
      "4744 -5.732455  7.434887  7.537381  \n",
      "4745 -5.866856  3.033799  3.568993  \n",
      "4746 -5.693542  8.374951  2.219422  \n",
      "4747 -5.699429  7.103223  1.883651  \n",
      "\n",
      "[4748 rows x 22 columns]\n"
     ]
    }
   ],
   "source": [
    "X_df = wind_ava.filter(regex='.13$')\n",
    "# Imprimir el dataframe.\n",
    "print(X_df)"
   ]
  },
  {
   "cell_type": "code",
   "execution_count": null,
   "metadata": {},
   "outputs": [],
   "source": [
    "# Imprimir el tamaño del dataframe.\n",
    "print(X_df.shape)"
   ]
  },
  {
   "cell_type": "code",
   "execution_count": null,
   "metadata": {},
   "outputs": [],
   "source": [
    "# Imprimir las primeras filas del dataframe.\n",
    "print(X_df.head())"
   ]
  },
  {
   "cell_type": "code",
   "execution_count": null,
   "metadata": {},
   "outputs": [],
   "source": [
    "# Imprimir el tipo de atributos.\n",
    "X_df.info()"
   ]
  },
  {
   "cell_type": "markdown",
   "metadata": {},
   "source": [
    "Para determinar si el problema es de regresión o de clasificación. \n",
    "\n",
    "- Si se trata de un problema de clasificación o de regresión (variable de salida es una clase o un valor continuo), y en caso de clasificación, si la clase está desequilibrada.\n",
    "\n",
    "En nuestro caso, la **varible de salida** es *energy*."
   ]
  },
  {
   "cell_type": "code",
   "execution_count": 41,
   "metadata": {},
   "outputs": [
    {
     "name": "stdout",
     "output_type": "stream",
     "text": [
      "0     402.71\n",
      "1     696.80\n",
      "2    1591.15\n",
      "3    1338.62\n",
      "4     562.50\n",
      "Name: energy, dtype: float64\n"
     ]
    }
   ],
   "source": [
    "# Imprimir los primeros valores la variable de salida.\n",
    "y_df = wind_ava['energy']\n",
    "print(y_df.head())"
   ]
  },
  {
   "cell_type": "markdown",
   "metadata": {},
   "source": [
    "Obtenemos que son valores númericos de salida, lo que significa que se trata de un **problema de reglesión**."
   ]
  },
  {
   "cell_type": "markdown",
   "metadata": {},
   "source": [
    "---\n",
    "## Análisis Exploratorio de Datos Simplificado.\n",
    "---"
   ]
  },
  {
   "cell_type": "markdown",
   "metadata": {},
   "source": [
    "### Variables.\n",
    "\n",
    "Identificar qué varibles son categóricas y qué variables son numéricas."
   ]
  },
  {
   "cell_type": "code",
   "execution_count": 42,
   "metadata": {},
   "outputs": [
    {
     "name": "stdout",
     "output_type": "stream",
     "text": [
      "Variables categóricas: Index([], dtype='object')\n",
      "Variables numéricas: Index(['p54.162.13', 'p55.162.13', 'cape.13', 'p59.162.13', 'lai_lv.13',\n",
      "       'lai_hv.13', 'u10n.13', 'v10n.13', 'sp.13', 'stl1.13', 'u10.13',\n",
      "       'v10.13', 't2m.13', 'stl2.13', 'stl3.13', 'iews.13', 'inss.13',\n",
      "       'stl4.13', 'fsr.13', 'flsr.13', 'u100.13', 'v100.13'],\n",
      "      dtype='object')\n"
     ]
    }
   ],
   "source": [
    "categoricas = X_df.select_dtypes(include=['object']).columns\n",
    "numericas = X_df.select_dtypes(exclude=['object']).columns\n",
    "\n",
    "# Imprimir por pantalla dicho resultado.\n",
    "print(\"Variables categóricas:\", categoricas)\n",
    "print(\"Variables numéricas:\", numericas)"
   ]
  },
  {
   "cell_type": "markdown",
   "metadata": {},
   "source": [
    "Obtenemos que todas las variables son numéricas, es decir, son características o atributos numéricos."
   ]
  },
  {
   "cell_type": "markdown",
   "metadata": {},
   "source": [
    "Análisis completo de cada variable."
   ]
  },
  {
   "cell_type": "code",
   "execution_count": null,
   "metadata": {},
   "outputs": [],
   "source": [
    "resultados = []\n",
    "\n",
    "for variable in X_df.columns:\n",
    "    summary = X_df[variable].describe()\n",
    "    mean = summary['mean']\n",
    "    std_dev = summary['std']\n",
    "    variance = std_dev**2\n",
    "    resultados.append([variable, mean, std_dev, variance])\n",
    "\n",
    "# Convertir la lista de listas en un DataFrame y mostrarlo\n",
    "df_resultados = pd.DataFrame(resultados, columns=[\"Variable\", \"Media\", \"Desviación típica\", \"Varianza\"]).sort_values(by=\"Varianza\", ascending=True)\n",
    "pd.set_option('display.max_colwidth', None)\n",
    "display(df_resultados)\n"
   ]
  },
  {
   "cell_type": "markdown",
   "metadata": {},
   "source": [
    "Con el cálculo de la relación Varianza/Media, identificamos la dispersión relativa que hay de los datos en relación con su valor promedio. Tras analizar uno por uno todos los valores, hemos considerado que las siguientes variables tenían una relación muy baja:\n",
    "- fsr.13\n",
    "- flsr.13\n",
    "- lai_hv.13\n",
    "- iews.13\n",
    "- inss.13\n",
    "- lai_lv.13"
   ]
  },
  {
   "cell_type": "markdown",
   "metadata": {},
   "source": [
    "### Número de características e instancias."
   ]
  },
  {
   "cell_type": "code",
   "execution_count": null,
   "metadata": {},
   "outputs": [],
   "source": [
    "# Imprimir la cantidad de característica e instancias del dataframe.\n",
    "print(\"Nº de características: \", X_df.shape[1])\n",
    "print(\"Nº de instancias: \", X_df.shape[0])"
   ]
  },
  {
   "cell_type": "markdown",
   "metadata": {},
   "source": [
    "Es decir, el dataset está formado por 4748 instancias y 22 atributos o características."
   ]
  },
  {
   "cell_type": "markdown",
   "metadata": {},
   "source": [
    "### Valores faltantes.\n",
    "\n",
    "En esta sección se especifica si hay valores faltantes (*missing values*) y qué variables los tienen."
   ]
  },
  {
   "cell_type": "code",
   "execution_count": null,
   "metadata": {},
   "outputs": [],
   "source": [
    "# Imprimir la cantidad de valores faltantes por variable.\n",
    "print(X_df.isnull().sum())"
   ]
  },
  {
   "cell_type": "markdown",
   "metadata": {},
   "source": [
    "Como podemos ver, no hay ninguna variable con valores faltantes."
   ]
  },
  {
   "cell_type": "markdown",
   "metadata": {},
   "source": [
    "### Columnas constantes.\n",
    "\n",
    "Evualuación de columnas constantes y en caso de haberlas, eliminarlas."
   ]
  },
  {
   "cell_type": "code",
   "execution_count": null,
   "metadata": {},
   "outputs": [],
   "source": [
    "columnas_constantes = X_df.columns[X_df.nunique() == 1]\n",
    "X_df = X_df.drop(columnas_constantes, axis=1)\n",
    "print(\"Columnas constantes eliminadas:\", columnas_constantes)"
   ]
  },
  {
   "cell_type": "markdown",
   "metadata": {},
   "source": [
    "Como podemos ver, no hay columnas constantes. Sin embargo, como hemos calculado anteriormente, hay algunas columnas con varianza muy pequeña, las tendremos en cuenta posteriormente."
   ]
  },
  {
   "cell_type": "markdown",
   "metadata": {},
   "source": [
    "### Correlación de variables\n",
    "\n",
    "En esta sección, analizaremos la correlación que pueda existir entre las variables, incluyendo la variable de salida. Esto lo realizaremos a través de la matriz de correlación. Y destacaremos aquellas variables con una alta correlación para tenerlas en cuenta posteriormente."
   ]
  },
  {
   "cell_type": "code",
   "execution_count": null,
   "metadata": {},
   "outputs": [],
   "source": [
    "# Creamos la matriz de correlación\n",
    "plt.figure(figsize=(20, 15))\n",
    "df = X_df.copy()\n",
    "df.insert(0, 'energy', wind_ava['energy'])\n",
    "correlation_matrix = df.corr()\n",
    "sns.heatmap(data=correlation_matrix, annot=True)"
   ]
  },
  {
   "cell_type": "markdown",
   "metadata": {},
   "source": [
    "En cuanto a la correlación negativa, ningún par de variables presentan dicha correlación, ya que ninguna rebaja el -0.4. Sin embargo, hay algunos pares de variables que muestran una alta correlación positiva. Y estos son los siguientes:\n",
    "- u10 - u10n\n",
    "- v10 - v10n\n",
    "- lai_lv - lai_hv\n",
    "- u10n - iews\n",
    "- u100 - iews\n",
    "- v100 - inss\n",
    "- stl2 - stl3\n",
    "- u100 - u10\n",
    "- v100 - v10\n",
    "- u100 - u10n\n",
    "- v100 - v10n\n",
    "- flsr - fsr\n",
    "- lai_lv - stl2\n",
    "- lai_hv - stl2\n",
    "\n",
    "Mientras que entre las variables de entrada con la variable de salida (*energy*), no se aprecia una alta correlación."
   ]
  },
  {
   "cell_type": "markdown",
   "metadata": {},
   "source": [
    "Con las siguientes gráficas verificamos visualmente la correlación entre las variables de entrada. Para ello, veremos dibujadas la relación que existe entre la variable v10 y en función de la variable v10n. "
   ]
  },
  {
   "cell_type": "code",
   "execution_count": null,
   "metadata": {},
   "outputs": [],
   "source": [
    "plt.figure(figsize=(8, 5))\n",
    "plt.scatter(wind_ava['v10.13'], wind_ava[\"v10n.13\"], color='skyblue', marker='o', s=10)\n",
    "plt.title('Histograma de la correlación entre v10 y v10n', size=20)\n",
    "plt.xlabel('Valor de v10', size=14)\n",
    "plt.ylabel('Valor de v10n', size=14)\n",
    "plt.grid(True)\n",
    "plt.show()"
   ]
  },
  {
   "cell_type": "markdown",
   "metadata": {},
   "source": [
    "Como podemos ver, esta gráfica nos confirma que tienen una alta relación positiva, a medida que una crece, la otra también lo hace."
   ]
  },
  {
   "cell_type": "markdown",
   "metadata": {},
   "source": [
    "### Distribución de la variable de salida.\n",
    "\n",
    "A continuación, vamos a analizar la distribución de la variable de salida, llamada *energy*."
   ]
  },
  {
   "cell_type": "code",
   "execution_count": null,
   "metadata": {},
   "outputs": [],
   "source": [
    "# Dibujamos el histograma de la variable de salida\n",
    "sns.set(rc={'figure.figsize':(11.7, 8.27)})\n",
    "sns.histplot(y_df, bins=30, color='purple', kde=True, edgecolor='black')\n",
    "plt.title('Histograma de la variable energy', size=25)\n",
    "plt.show()"
   ]
  },
  {
   "cell_type": "markdown",
   "metadata": {},
   "source": [
    "Obtenemes que la distribución de esta variable es exponencial, podemos apreciar una alta frecuencia de valores de baja energía."
   ]
  },
  {
   "cell_type": "markdown",
   "metadata": {},
   "source": [
    "---\n",
    "## Evaluación outer.\n",
    "---\n",
    "\n",
    "En primer lugar, realizaremos la evaluación de diferentes modelos de regresión con sus hiperparámetros por defecto. \n",
    "\n",
    "Al tratarse de un problema de regresión, las métricas que se utilizarán para evaluar el rendimiento de cada modelo serán: RMSE (Error Cuadrático Medio) y R2 (Coeficiente de Determinación). Además dividiremos el conjunto de datos entre entrenamiento y test de esta forma: 2/3 y 1/3, respectivamente."
   ]
  },
  {
   "cell_type": "code",
   "execution_count": 43,
   "metadata": {},
   "outputs": [],
   "source": [
    "# Dividimos los datos entre entrenamiento y test.\n",
    "X_train, X_test, y_train, y_test = train_test_split(X_df, y_df, test_size=0.33, random_state=49)"
   ]
  },
  {
   "cell_type": "markdown",
   "metadata": {},
   "source": [
    "### KNN.\n",
    "\n",
    "En primer lugar, crearemos un modelo KNN sin escalar los datos y evaluaremos el rendimiento obtenido."
   ]
  },
  {
   "cell_type": "code",
   "execution_count": 44,
   "metadata": {},
   "outputs": [
    {
     "name": "stdout",
     "output_type": "stream",
     "text": [
      "RMSE: 636.3288087730467\n",
      "R2: 0.06026198644919867\n"
     ]
    }
   ],
   "source": [
    "# Creamos el modelo.\n",
    "regr_knn = KNeighborsRegressor()\n",
    "# Entrenamos el modelo.\n",
    "inicio = time.time()\n",
    "regr_knn.fit(X_train, y_train)\n",
    "fin = time.time()\n",
    "# Tiempo de entrenamiento.\n",
    "t_knn_o = fin - inicio\n",
    "# Realizamos las predicciones.\n",
    "y_test_pred = regr_knn.predict(X_test)\n",
    "# Evaluamos el rendimiento del modelo.\n",
    "rmse_knn = np.sqrt(metrics.mean_squared_error(y_test, y_test_pred))\n",
    "r2_knn = metrics.r2_score(y_test, y_test_pred)\n",
    "\n",
    "# Imprimir el resultado.\n",
    "print(f\"RMSE: {rmse_knn}\")\n",
    "print(f\"R2: {r2_knn}\")"
   ]
  },
  {
   "cell_type": "markdown",
   "metadata": {},
   "source": [
    "A continuación, escalaremos los datos aplicando diferentes métodos y evaluaremos cuál es el de mejor y más apropiado para este problema. \n",
    "\n",
    "- *StandardScaler*: escala los datos para que tengan una media de 0 y una desviación estándar de 1.\n",
    "\n",
    "- *MinMaxScaler*: escala los datos al intervalo especificado (por defecto [0, 1]).\n",
    "\n",
    "- *RobustScaler*: escala los datos utilizando estadísticas robustas para manejar valores atípicos.\n",
    "\n",
    "- *MaxAbsScaler*: escala los datos dividiendo cada característica por su valor máximo absoluto.\n",
    "\n",
    "- *QuantileTransformer*: transforma los datos para que tengan una distribución uniforme o gaussiana."
   ]
  },
  {
   "cell_type": "code",
   "execution_count": 45,
   "metadata": {},
   "outputs": [],
   "source": [
    "def escalado(scaler):\n",
    "    model = KNeighborsRegressor()\n",
    "    X_train_result = scaler.fit_transform(X_train)\n",
    "    X_test_result = scaler.transform(X_test)\n",
    "    # Entrenamos el modelo.\n",
    "    inicio = time.time()\n",
    "    model.fit(X_train_result, y_train)\n",
    "    fin = time.time()\n",
    "    tiempo = fin - inicio\n",
    "    # Realizamos las predicciones.\n",
    "    y_test_pred = model.predict(X_test_result)\n",
    "    # Evaluamos el rendimiento del modelo.\n",
    "    rmse = np.sqrt(metrics.mean_squared_error(y_test, y_test_pred))\n",
    "    r2 = metrics.r2_score(y_test, y_test_pred)\n",
    "    return rmse, r2, tiempo"
   ]
  },
  {
   "cell_type": "code",
   "execution_count": 46,
   "metadata": {},
   "outputs": [],
   "source": [
    "# StandardScaler\n",
    "scaler = StandardScaler()\n",
    "rmse_standar, r2_standar, t_standar = escalado(scaler)\n",
    "# MinMaxScaler\n",
    "scaler = MinMaxScaler()\n",
    "rmse_minmax, r2_minmax, t_minmax = escalado(scaler)\n",
    "# RobustScaler\n",
    "scaler = RobustScaler()\n",
    "rmse_robust, r2_robust, t_robust = escalado(scaler)\n",
    "# MaxAbsScaler\n",
    "scaler = MaxAbsScaler()\n",
    "rmse_maxabs, r2_maxabs, t_maxabs = escalado(scaler)\n",
    "# QuantileTransformer\n",
    "scaler = QuantileTransformer()\n",
    "rmse_quantile, r2_quantile, t_quantile = escalado(scaler)"
   ]
  },
  {
   "cell_type": "code",
   "execution_count": 47,
   "metadata": {},
   "outputs": [
    {
     "data": {
      "text/html": [
       "<div>\n",
       "<style scoped>\n",
       "    .dataframe tbody tr th:only-of-type {\n",
       "        vertical-align: middle;\n",
       "    }\n",
       "\n",
       "    .dataframe tbody tr th {\n",
       "        vertical-align: top;\n",
       "    }\n",
       "\n",
       "    .dataframe thead th {\n",
       "        text-align: right;\n",
       "    }\n",
       "</style>\n",
       "<table border=\"1\" class=\"dataframe\">\n",
       "  <thead>\n",
       "    <tr style=\"text-align: right;\">\n",
       "      <th></th>\n",
       "      <th>RMSE</th>\n",
       "      <th>R2</th>\n",
       "      <th>Tiempo</th>\n",
       "    </tr>\n",
       "  </thead>\n",
       "  <tbody>\n",
       "    <tr>\n",
       "      <th>Sin escalar</th>\n",
       "      <td>636.328809</td>\n",
       "      <td>0.060262</td>\n",
       "      <td>0.002020</td>\n",
       "    </tr>\n",
       "    <tr>\n",
       "      <th>StandardScaler</th>\n",
       "      <td>402.269009</td>\n",
       "      <td>0.624442</td>\n",
       "      <td>0.000419</td>\n",
       "    </tr>\n",
       "    <tr>\n",
       "      <th>MinMaxScaler</th>\n",
       "      <td>413.265640</td>\n",
       "      <td>0.603629</td>\n",
       "      <td>0.000272</td>\n",
       "    </tr>\n",
       "    <tr>\n",
       "      <th>RobustScaler</th>\n",
       "      <td>409.245852</td>\n",
       "      <td>0.611302</td>\n",
       "      <td>0.000266</td>\n",
       "    </tr>\n",
       "    <tr>\n",
       "      <th>MaxAbsScaler</th>\n",
       "      <td>406.858835</td>\n",
       "      <td>0.615823</td>\n",
       "      <td>0.000262</td>\n",
       "    </tr>\n",
       "    <tr>\n",
       "      <th>QuantileTransformer</th>\n",
       "      <td>421.414846</td>\n",
       "      <td>0.587842</td>\n",
       "      <td>0.000253</td>\n",
       "    </tr>\n",
       "  </tbody>\n",
       "</table>\n",
       "</div>"
      ],
      "text/plain": [
       "                           RMSE        R2    Tiempo\n",
       "Sin escalar          636.328809  0.060262  0.002020\n",
       "StandardScaler       402.269009  0.624442  0.000419\n",
       "MinMaxScaler         413.265640  0.603629  0.000272\n",
       "RobustScaler         409.245852  0.611302  0.000266\n",
       "MaxAbsScaler         406.858835  0.615823  0.000262\n",
       "QuantileTransformer  421.414846  0.587842  0.000253"
      ]
     },
     "execution_count": 47,
     "metadata": {},
     "output_type": "execute_result"
    }
   ],
   "source": [
    "# Imprimimos en un dataframe todos los resultados.\n",
    "resultados = pd.DataFrame({\n",
    "    \"RMSE\": [rmse_knn, rmse_standar, rmse_minmax, rmse_robust, rmse_maxabs, rmse_quantile],\n",
    "    \"R2\": [r2_knn, r2_standar, r2_minmax, r2_robust, r2_maxabs, r2_quantile],\n",
    "    \"Tiempo\": [t_knn_o, t_standar, t_minmax, t_robust, t_maxabs, t_quantile]\n",
    "}, index=[\"Sin escalar\", \"StandardScaler\", \"MinMaxScaler\", \"RobustScaler\", \"MaxAbsScaler\", \"QuantileTransformer\"])\n",
    "resultados\n"
   ]
  },
  {
   "cell_type": "markdown",
   "metadata": {},
   "source": [
    "Finalmente obtenemos que el mejor modelo de KNN de regresión con escalado de datos es el *StandardScaler* debido a que es el que tiene el RMSE menor y el R2 más próximo a 1. Por lo tanto, este método es el que usaremos de aquí en adelante cuando sea necesario."
   ]
  },
  {
   "cell_type": "markdown",
   "metadata": {},
   "source": [
    "#### Escalado de los datos\n",
    "\n",
    "Aplicaremos el método de escalado *StandardScaler*, debido a que es el de mejor resultado."
   ]
  },
  {
   "cell_type": "code",
   "execution_count": 48,
   "metadata": {},
   "outputs": [],
   "source": [
    "scaler = StandardScaler()\n",
    "X_train_scaled = scaler.fit_transform(X_train)\n",
    "X_test_scaled = scaler.transform(X_test)"
   ]
  },
  {
   "cell_type": "markdown",
   "metadata": {},
   "source": [
    "Volveremos a realizar el modelo KNN, pero esta vez utilizando los datos escalados y veremos si hay alguna mejora."
   ]
  },
  {
   "cell_type": "code",
   "execution_count": 49,
   "metadata": {},
   "outputs": [
    {
     "name": "stdout",
     "output_type": "stream",
     "text": [
      "RMSE: 402.2690091272214\n",
      "R2: 0.6244422097117683\n"
     ]
    }
   ],
   "source": [
    "regr_knn = KNeighborsRegressor()\n",
    "# Entrenamos el modelo.\n",
    "inicio = time.time()\n",
    "regr_knn.fit(X_train_scaled, y_train)\n",
    "fin = time.time()\n",
    "# Tiempo de entrenamiento.\n",
    "t_knn = fin - inicio\n",
    "# Realizamos las predicciones.\n",
    "y_test_pred = regr_knn.predict(X_test_scaled)\n",
    "# Evaluamos el rendimiento del modelo.\n",
    "rmse_knn_scaled = np.sqrt(metrics.mean_squared_error(y_test, y_test_pred))\n",
    "r2_knn_scaled = metrics.r2_score(y_test, y_test_pred)\n",
    "\n",
    "# Imprimir el resultado.\n",
    "print(f\"RMSE: {rmse_knn_scaled}\")\n",
    "print(f\"R2: {r2_knn_scaled}\")"
   ]
  },
  {
   "cell_type": "markdown",
   "metadata": {},
   "source": [
    "Mejora significativamente la precisión de las predicciones. Y aumenta considerablemente la capacidad del modelo para explicar la variabilidad en los datos. Sin embargo, esta mejora significativa no significa que sea el mejor modelo final."
   ]
  },
  {
   "cell_type": "markdown",
   "metadata": {},
   "source": [
    "### Dummy.\n",
    "\n",
    "Regresor simple y básico para problemas de regresión. Este modelo se tomará como referencia para detectar posibles mejoras en las predicciones."
   ]
  },
  {
   "cell_type": "code",
   "execution_count": 50,
   "metadata": {},
   "outputs": [
    {
     "name": "stdout",
     "output_type": "stream",
     "text": [
      "RMSE: 692.091301457747\n",
      "R2: -0.11165597168553609\n"
     ]
    }
   ],
   "source": [
    "# Crear el modelo Dummy.\n",
    "regr_dummy = DummyRegressor(strategy=\"median\")\n",
    "# Entrenar el modelo.\n",
    "inicio = time.time()\n",
    "regr_dummy.fit(X_train, y_train)\n",
    "fin = time.time()\n",
    "# Tiempo de entrenamiento.\n",
    "t_dummy = fin - inicio\n",
    "y_test_pred = regr_dummy.predict(X_test)\n",
    "# Métricas de evaluación.\n",
    "rmse_dummy = np.sqrt(metrics.mean_squared_error(y_test, y_test_pred))\n",
    "r2_dummy = metrics.r2_score(y_test, y_test_pred)\n",
    "\n",
    "# Imprimir el resultado.\n",
    "print(f\"RMSE: {rmse_dummy}\")\n",
    "print(f\"R2: {r2_dummy}\")\n"
   ]
  },
  {
   "cell_type": "markdown",
   "metadata": {},
   "source": [
    "Obtenemos que con este clasificador no existe casi ajuste ya que se aleja mucho de 1, el valor deseado para R2 (el coeficiente de determinación). Mientras que para el error cuadratico medio de la raiz, RMSE, nos indica que las predicciones se desvían mucho del valor real. \n",
    "\n",
    "Tras este análisis, podemo concluir que este modelo está realizando unas predicciones nada útiles y que es necesario otro modelo para conseguir unas predicciones más precisas."
   ]
  },
  {
   "cell_type": "markdown",
   "metadata": {},
   "source": [
    "### Regresión lineal.\n",
    "\n",
    "Aplicaremos el modelo de regresión lineal ordinario. En este modelo, es beneficioso que los datos estén escalados."
   ]
  },
  {
   "cell_type": "code",
   "execution_count": 51,
   "metadata": {},
   "outputs": [
    {
     "name": "stdout",
     "output_type": "stream",
     "text": [
      "RMSE: 539.7612031414392\n",
      "R2: 0.32384392553387265\n"
     ]
    }
   ],
   "source": [
    "regr_lineal = LinearRegression()\n",
    "np.random.seed(49)\n",
    "# Entrenamos el modelo\n",
    "inicio = time.time()\n",
    "regr_lineal.fit(X_train_scaled, y_train)\n",
    "fin = time.time()\n",
    "# Tiempo de entrenamiento.\n",
    "t_lineal = fin - inicio\n",
    "# Obtenemos las predicciones sobre el conjunto de prueba\n",
    "y_test_pred = regr_lineal.predict(X_test_scaled)\n",
    "# Métricas de evaluación\n",
    "rmse_lineal = np.sqrt(metrics.mean_squared_error(y_test, y_test_pred))\n",
    "r2_lineal = metrics.r2_score(y_test, y_test_pred)\n",
    "\n",
    "# Imprimimos resultados\n",
    "print(f\"RMSE: {rmse_lineal}\")\n",
    "print(f\"R2: {r2_lineal}\")"
   ]
  },
  {
   "cell_type": "markdown",
   "metadata": {},
   "source": [
    "Obtenemos una leve mejora con respecto al modelo nulo (Dummy)."
   ]
  },
  {
   "cell_type": "markdown",
   "metadata": {},
   "source": [
    "### Árbol de decisión de regresión.\n",
    "\n",
    "A continuación evaluaremos el modelo de árbol de decisión y evaluaremos su rendimiento."
   ]
  },
  {
   "cell_type": "code",
   "execution_count": 52,
   "metadata": {},
   "outputs": [
    {
     "name": "stdout",
     "output_type": "stream",
     "text": [
      "RMSE: 509.8152113241104\n",
      "R2: 0.3967890698918305\n"
     ]
    }
   ],
   "source": [
    "regr_tree = tree.DecisionTreeRegressor()\n",
    "np.random.seed(49) \n",
    "# Entrenamos el modelo.\n",
    "inicio = time.time()\n",
    "regr_tree.fit(X_train, y_train)\n",
    "fin = time.time()\n",
    "# Tiempo de entrenamiento.\n",
    "t_tree = fin - inicio\n",
    "y_test_pred = regr_tree.predict(X_test)\n",
    "# Métricas de evaluación.\n",
    "rmse_tree = np.sqrt(metrics.mean_squared_error(y_test, y_test_pred))\n",
    "r2_tree = metrics.r2_score(y_test, y_test_pred)\n",
    "\n",
    "# Imprimir el resultado.\n",
    "print(f\"RMSE: {rmse_tree}\")\n",
    "print(f\"R2: {r2_tree}\")\n"
   ]
  },
  {
   "cell_type": "markdown",
   "metadata": {},
   "source": [
    "Tras la realización del modelo de regresión de árbol de decisión, podemos apreciar que mejora considerablemente con respecto al Dummy y muy poco con respecto al modelo lineal, en términos de precisión de predicción. Pero, sigue sin ser el mejor modelo ya que todavía existe un margen muy grande de mejora con predicciones más precisas."
   ]
  },
  {
   "cell_type": "markdown",
   "metadata": {},
   "source": [
    "### Árbol de decisión y regresión lineal."
   ]
  },
  {
   "cell_type": "markdown",
   "metadata": {},
   "source": [
    "Como algo adicional, evaluaremos este modelo. Se trata de un modelo de regresión que combina el árbol de decisión de regresión y la regresión lineal. Es decir, al modelo anteriormente analizado, le añadiremos como parámetro *base_estimator* (el tipo de regresor que va a utilizar en los nodos terminales), la regresión lineal básica."
   ]
  },
  {
   "cell_type": "code",
   "execution_count": 119,
   "metadata": {},
   "outputs": [
    {
     "name": "stdout",
     "output_type": "stream",
     "text": [
      "RMSE: 383.13311481655455\n",
      "R2: 0.6593228508176546\n"
     ]
    }
   ],
   "source": [
    "regr_linear_tree = LinearTreeRegressor(base_estimator=LinearRegression())\n",
    "np.random.seed(49)\n",
    "# Entrenamos el modelo\n",
    "inicio = time.time()\n",
    "regr_linear_tree.fit(X_train, y_train)\n",
    "fin = time.time()\n",
    "# Tiempo de entrenamiento\n",
    "t_linear_tree = fin - inicio\n",
    "# Obtenemos las predicciones sobre el conjunto de prueba\n",
    "y_test_pred = regr_linear_tree.predict(X_test)\n",
    "# Métricas de evaluación\n",
    "rmse_linear_tree = np.sqrt(metrics.mean_squared_error(y_test, y_test_pred))\n",
    "r2_linear_tree = metrics.r2_score(y_test, y_test_pred)\n",
    "\n",
    "# Imprimimos resultados\n",
    "print(f\"RMSE: {rmse_linear_tree}\")\n",
    "print(f\"R2: {r2_linear_tree}\")"
   ]
  },
  {
   "cell_type": "markdown",
   "metadata": {},
   "source": [
    "Con este modelo obtenemos unos mejores resultados. Obtenemos que este modelo es mejor para predcir los valores de la variable energía con precisión. Además, consigue con una mayor proporción, explicar la variabilidad de los valores de la variable de salida."
   ]
  },
  {
   "cell_type": "markdown",
   "metadata": {},
   "source": [
    "### Regularización Ridge.\n",
    "\n",
    "Analizaremos el modelo con regularización Ridge con valores por omisión. Es decir, sin ningún parámetro para evaluar su rendimiento."
   ]
  },
  {
   "cell_type": "code",
   "execution_count": 54,
   "metadata": {},
   "outputs": [
    {
     "name": "stdout",
     "output_type": "stream",
     "text": [
      "RMSE: 540.1000850520832\n",
      "R2: 0.32299462776512966\n"
     ]
    }
   ],
   "source": [
    "regr_ridge = Ridge()\n",
    "np.random.seed(49)\n",
    "# Entrenamos el modelo\n",
    "inicio = time.time()\n",
    "regr_ridge.fit(X_train_scaled, y_train)\n",
    "fin = time.time()\n",
    "# Tiempo de entrenamiento\n",
    "t_ridge = fin - inicio\n",
    "# Obtenemos las predicciones sobre el conjunto de prueba\n",
    "y_test_pred = regr_ridge.predict(X_test_scaled)\n",
    "# Métricas de evaluación\n",
    "rmse_ridge = np.sqrt(metrics.mean_squared_error(y_test, y_test_pred))\n",
    "r2_ridge = metrics.r2_score(y_test, y_test_pred)\n",
    "\n",
    "# Imprimimos resultados\n",
    "print(f\"RMSE: {rmse_ridge}\")\n",
    "print(f\"R2: {r2_ridge}\")"
   ]
  },
  {
   "cell_type": "markdown",
   "metadata": {},
   "source": [
    "### Regularización Lasso.\n",
    "\n",
    "Ahora, analizaremos el modelo con regularización Lasso dado por omisión. Como en el modelo anterior, sin ningún hiperparámetro definido."
   ]
  },
  {
   "cell_type": "code",
   "execution_count": 55,
   "metadata": {},
   "outputs": [
    {
     "name": "stdout",
     "output_type": "stream",
     "text": [
      "RMSE: 540.1000850520832\n",
      "R2: 0.32299462776512966\n"
     ]
    }
   ],
   "source": [
    "regr_lasso = Lasso()\n",
    "np.random.seed(49)\n",
    "# Entrenamos el modelo\n",
    "inicio = time.time()\n",
    "regr_ridge.fit(X_train_scaled, y_train)\n",
    "fin = time.time()\n",
    "# Tiempo de entrenamiento\n",
    "t_lasso = fin - inicio\n",
    "# Obtenemos las predicciones sobre el conjunto de prueba\n",
    "y_test_pred = regr_ridge.predict(X_test_scaled)\n",
    "# Métricas de evaluación\n",
    "rmse_lasso = np.sqrt(metrics.mean_squared_error(y_test, y_test_pred))\n",
    "r2_lasso = metrics.r2_score(y_test, y_test_pred)\n",
    "\n",
    "# Imprimimos resultados\n",
    "print(f\"RMSE: {rmse_lasso}\")\n",
    "print(f\"R2: {r2_lasso}\")"
   ]
  },
  {
   "cell_type": "markdown",
   "metadata": {},
   "source": [
    "### SVM Lineal."
   ]
  },
  {
   "cell_type": "code",
   "execution_count": 56,
   "metadata": {},
   "outputs": [
    {
     "name": "stdout",
     "output_type": "stream",
     "text": [
      "RMSE of the tree: 587.146049342105\n",
      "R2 of the tree: 0.19991540278186615\n"
     ]
    }
   ],
   "source": [
    "regr_svm_lineal = SVR(kernel=\"linear\")\n",
    "np.random.seed(49)\n",
    "\n",
    "# Entrenamos el modelo\n",
    "inicio = time.time()\n",
    "regr_svm_lineal.fit(X_train_scaled, y_train)\n",
    "fin = time.time()\n",
    "# Tiempo de entrenamiento.\n",
    "t_svm_lineal = fin - inicio\n",
    "# Obtenemos las predicciones sobre el conjunto de prueba\n",
    "y_test_pred = regr_svm_lineal.predict(X_test_scaled)\n",
    "# Métricas de evaluación\n",
    "rmse_svm_lineal = np.sqrt(metrics.mean_squared_error(y_test, y_test_pred))\n",
    "r2_svm_lineal = metrics.r2_score(y_test, y_test_pred)\n",
    "\n",
    "# Imprimimos resultados\n",
    "print(f\"RMSE of the tree: {rmse_svm_lineal}\")\n",
    "print(f\"R2 of the tree: {r2_svm_lineal}\")"
   ]
  },
  {
   "cell_type": "markdown",
   "metadata": {},
   "source": [
    "### SVM Radial."
   ]
  },
  {
   "cell_type": "code",
   "execution_count": 57,
   "metadata": {},
   "outputs": [
    {
     "name": "stdout",
     "output_type": "stream",
     "text": [
      "RMSE: 632.1078782445536\n",
      "R2: 0.07268767953911481\n"
     ]
    }
   ],
   "source": [
    "regr_svm_radial = SVR()\n",
    "np.random.seed(49)\n",
    "\n",
    "# Entrenamos el modelo\n",
    "inicio = time.time()\n",
    "regr_svm_radial.fit(X_train_scaled, y_train)\n",
    "fin = time.time()\n",
    "# Tiempo de entrenamiento.\n",
    "t_svm_radial = fin - inicio\n",
    "# Obtenemos las predicciones sobre el conjunto de prueba\n",
    "y_test_pred = regr_svm_radial.predict(X_test_scaled)\n",
    "# Métricas de evaluación\n",
    "rmse_svm_radial = np.sqrt(metrics.mean_squared_error(y_test, y_test_pred))\n",
    "r2_svm_radial = metrics.r2_score(y_test, y_test_pred)\n",
    "\n",
    "# Imprimimos resultados\n",
    "print(f\"RMSE: {rmse_svm_radial}\")\n",
    "print(f\"R2: {r2_svm_radial}\")"
   ]
  },
  {
   "cell_type": "markdown",
   "metadata": {},
   "source": [
    "---\n",
    "## Búsqueda de Hiperparámetros.\n",
    "---\n",
    "\n",
    "En esta sección evaluaremos diferentes modelos, ajustando hiperparámetros y consideraremos técnicas de validación cruzada, con el fin de determinar cuál es el mejor modelo final."
   ]
  },
  {
   "cell_type": "markdown",
   "metadata": {},
   "source": [
    "### KNN\n",
    "\n",
    "-1 means using all processors"
   ]
  },
  {
   "cell_type": "code",
   "execution_count": 58,
   "metadata": {},
   "outputs": [
    {
     "name": "stdout",
     "output_type": "stream",
     "text": [
      "Fitting 3 folds for each of 7 candidates, totalling 21 fits\n"
     ]
    }
   ],
   "source": [
    "# Search space with integer uniform distributions\n",
    "param_grid = {'n_neighbors': list(range(2,16,2))\n",
    "              }\n",
    "\n",
    "inner = KFold(n_splits=3, shuffle=True, random_state=49)\n",
    "\n",
    "regr_knn_hpo = GridSearchCV(KNeighborsRegressor(),\n",
    "                   param_grid,\n",
    "                   scoring='neg_mean_squared_error',\n",
    "                   cv=inner,\n",
    "                   n_jobs=-1, verbose=1)\n",
    "\n",
    "np.random.seed(49)\n",
    "inicio = time.time()\n",
    "regr_knn_hpo.fit(X=X_train_scaled, y=y_train)\n",
    "fin = time.time()\n",
    "t_knn_hpo = fin - inicio"
   ]
  },
  {
   "cell_type": "code",
   "execution_count": 59,
   "metadata": {},
   "outputs": [
    {
     "name": "stdout",
     "output_type": "stream",
     "text": [
      "RMSE: 398.14532687412105\n",
      "R2: 0.6321024726295982\n",
      "Mejor parámetro: {'n_neighbors': 10}\n"
     ]
    }
   ],
   "source": [
    "y_test_pred = regr_knn_hpo.predict(X_test_scaled)\n",
    "# Métricas de evaluación\n",
    "rmse_knn_hpo = np.sqrt(metrics.mean_squared_error(y_test, y_test_pred))\n",
    "r2_knn_hpo = metrics.r2_score(y_test, y_test_pred)\n",
    "\n",
    "# Imprimimos resultados\n",
    "print(f\"RMSE: {rmse_knn_hpo}\")\n",
    "print(f\"R2: {r2_knn_hpo}\")\n",
    "print(f\"Mejor parámetro: {regr_knn_hpo.best_params_}\")"
   ]
  },
  {
   "cell_type": "markdown",
   "metadata": {},
   "source": [
    "### Árbol de decisión.\n",
    "\n",
    "Este modelo es el árbol de decisión de regresión utilizando *RandomizedSearchCV* con el hiperparámetro *n_iter* ajustado a 100."
   ]
  },
  {
   "cell_type": "code",
   "execution_count": 60,
   "metadata": {},
   "outputs": [
    {
     "name": "stdout",
     "output_type": "stream",
     "text": [
      "Fitting 3 folds for each of 100 candidates, totalling 300 fits\n"
     ]
    }
   ],
   "source": [
    "# Search space with integer uniform distributions\n",
    "param_grid = {'max_depth': sp_randint(2,16),\n",
    "              'min_samples_split': sp_randint(2,16)}\n",
    "\n",
    "inner = KFold(n_splits=3, shuffle=True, random_state=49)\n",
    "\n",
    "budget = 100\n",
    "regr_tree_hpo = RandomizedSearchCV(tree.DecisionTreeRegressor(),\n",
    "                         param_grid,\n",
    "                         scoring='neg_mean_squared_error',\n",
    "                         cv=inner,\n",
    "                         n_jobs=-1, verbose=1,\n",
    "                         n_iter=budget\n",
    "                        )\n",
    "\n",
    "np.random.seed(49)\n",
    "inicio = time.time()\n",
    "regr_tree_hpo.fit(X=X_train, y=y_train)\n",
    "fin = time.time()\n",
    "t_tree_hpo = fin - inicio"
   ]
  },
  {
   "cell_type": "code",
   "execution_count": 61,
   "metadata": {},
   "outputs": [
    {
     "name": "stdout",
     "output_type": "stream",
     "text": [
      "RMSE of the tree: 423.62431593913664\n",
      "R2 of the tree: 0.5835092267162383\n",
      "Mejores parámetros: {'max_depth': 5, 'min_samples_split': 3}\n"
     ]
    }
   ],
   "source": [
    "y_test_pred = regr_tree_hpo.predict(X_test)\n",
    "# Métricas de evaluación\n",
    "rmse_tree_hpo = np.sqrt(metrics.mean_squared_error(y_test, y_test_pred))\n",
    "r2_tree_hpo = metrics.r2_score(y_test, y_test_pred)\n",
    "\n",
    "# Imprimimos resultados\n",
    "print(f\"RMSE of the tree: {rmse_tree_hpo}\")\n",
    "print(f\"R2 of the tree: {r2_tree_hpo}\")\n",
    "print(f\"Mejores parámetros: {regr_tree_hpo.best_params_}\")"
   ]
  },
  {
   "cell_type": "markdown",
   "metadata": {},
   "source": [
    "Haremos el modelo con el *BayesSearchCV* para ver si mejora el rendimiento en comparación con el anterior. A continuación, ajustando los hiperparámetros, obtenemos los siguientes resultados."
   ]
  },
  {
   "cell_type": "code",
   "execution_count": 62,
   "metadata": {},
   "outputs": [
    {
     "name": "stdout",
     "output_type": "stream",
     "text": [
      "Fitting 3 folds for each of 1 candidates, totalling 3 fits\n",
      "Fitting 3 folds for each of 1 candidates, totalling 3 fits\n",
      "Fitting 3 folds for each of 1 candidates, totalling 3 fits\n",
      "Fitting 3 folds for each of 1 candidates, totalling 3 fits\n",
      "Fitting 3 folds for each of 1 candidates, totalling 3 fits\n",
      "Fitting 3 folds for each of 1 candidates, totalling 3 fits\n",
      "Fitting 3 folds for each of 1 candidates, totalling 3 fits\n",
      "Fitting 3 folds for each of 1 candidates, totalling 3 fits\n",
      "Fitting 3 folds for each of 1 candidates, totalling 3 fits\n",
      "Fitting 3 folds for each of 1 candidates, totalling 3 fits\n",
      "Fitting 3 folds for each of 1 candidates, totalling 3 fits\n",
      "Fitting 3 folds for each of 1 candidates, totalling 3 fits\n",
      "Fitting 3 folds for each of 1 candidates, totalling 3 fits\n",
      "Fitting 3 folds for each of 1 candidates, totalling 3 fits\n",
      "Fitting 3 folds for each of 1 candidates, totalling 3 fits\n",
      "Fitting 3 folds for each of 1 candidates, totalling 3 fits\n",
      "Fitting 3 folds for each of 1 candidates, totalling 3 fits\n",
      "Fitting 3 folds for each of 1 candidates, totalling 3 fits\n",
      "Fitting 3 folds for each of 1 candidates, totalling 3 fits\n",
      "Fitting 3 folds for each of 1 candidates, totalling 3 fits\n",
      "Fitting 3 folds for each of 1 candidates, totalling 3 fits\n",
      "Fitting 3 folds for each of 1 candidates, totalling 3 fits\n",
      "Fitting 3 folds for each of 1 candidates, totalling 3 fits\n",
      "Fitting 3 folds for each of 1 candidates, totalling 3 fits\n",
      "Fitting 3 folds for each of 1 candidates, totalling 3 fits\n",
      "Fitting 3 folds for each of 1 candidates, totalling 3 fits\n",
      "Fitting 3 folds for each of 1 candidates, totalling 3 fits\n",
      "Fitting 3 folds for each of 1 candidates, totalling 3 fits\n",
      "Fitting 3 folds for each of 1 candidates, totalling 3 fits\n",
      "Fitting 3 folds for each of 1 candidates, totalling 3 fits\n"
     ]
    },
    {
     "name": "stderr",
     "output_type": "stream",
     "text": [
      "/Users/celia/miniconda3/lib/python3.8/site-packages/skopt/optimizer/optimizer.py:449: UserWarning: The objective has been evaluated at this point before.\n",
      "  warnings.warn(\"The objective has been evaluated \"\n"
     ]
    },
    {
     "name": "stdout",
     "output_type": "stream",
     "text": [
      "Fitting 3 folds for each of 1 candidates, totalling 3 fits\n",
      "Fitting 3 folds for each of 1 candidates, totalling 3 fits\n",
      "Fitting 3 folds for each of 1 candidates, totalling 3 fits\n"
     ]
    },
    {
     "name": "stderr",
     "output_type": "stream",
     "text": [
      "/Users/celia/miniconda3/lib/python3.8/site-packages/skopt/optimizer/optimizer.py:449: UserWarning: The objective has been evaluated at this point before.\n",
      "  warnings.warn(\"The objective has been evaluated \"\n"
     ]
    },
    {
     "name": "stdout",
     "output_type": "stream",
     "text": [
      "Fitting 3 folds for each of 1 candidates, totalling 3 fits\n",
      "Fitting 3 folds for each of 1 candidates, totalling 3 fits\n"
     ]
    },
    {
     "name": "stderr",
     "output_type": "stream",
     "text": [
      "/Users/celia/miniconda3/lib/python3.8/site-packages/skopt/optimizer/optimizer.py:449: UserWarning: The objective has been evaluated at this point before.\n",
      "  warnings.warn(\"The objective has been evaluated \"\n"
     ]
    },
    {
     "name": "stdout",
     "output_type": "stream",
     "text": [
      "Fitting 3 folds for each of 1 candidates, totalling 3 fits\n",
      "Fitting 3 folds for each of 1 candidates, totalling 3 fits\n"
     ]
    },
    {
     "name": "stderr",
     "output_type": "stream",
     "text": [
      "/Users/celia/miniconda3/lib/python3.8/site-packages/skopt/optimizer/optimizer.py:449: UserWarning: The objective has been evaluated at this point before.\n",
      "  warnings.warn(\"The objective has been evaluated \"\n"
     ]
    },
    {
     "name": "stdout",
     "output_type": "stream",
     "text": [
      "Fitting 3 folds for each of 1 candidates, totalling 3 fits\n"
     ]
    },
    {
     "name": "stderr",
     "output_type": "stream",
     "text": [
      "/Users/celia/miniconda3/lib/python3.8/site-packages/skopt/optimizer/optimizer.py:449: UserWarning: The objective has been evaluated at this point before.\n",
      "  warnings.warn(\"The objective has been evaluated \"\n"
     ]
    },
    {
     "name": "stdout",
     "output_type": "stream",
     "text": [
      "Fitting 3 folds for each of 1 candidates, totalling 3 fits\n",
      "Fitting 3 folds for each of 1 candidates, totalling 3 fits\n",
      "Fitting 3 folds for each of 1 candidates, totalling 3 fits\n",
      "Fitting 3 folds for each of 1 candidates, totalling 3 fits\n",
      "Fitting 3 folds for each of 1 candidates, totalling 3 fits\n",
      "Fitting 3 folds for each of 1 candidates, totalling 3 fits\n",
      "Fitting 3 folds for each of 1 candidates, totalling 3 fits\n",
      "Fitting 3 folds for each of 1 candidates, totalling 3 fits\n",
      "Fitting 3 folds for each of 1 candidates, totalling 3 fits\n",
      "Fitting 3 folds for each of 1 candidates, totalling 3 fits\n",
      "Fitting 3 folds for each of 1 candidates, totalling 3 fits\n",
      "Fitting 3 folds for each of 1 candidates, totalling 3 fits\n",
      "Fitting 3 folds for each of 1 candidates, totalling 3 fits\n",
      "Fitting 3 folds for each of 1 candidates, totalling 3 fits\n",
      "Fitting 3 folds for each of 1 candidates, totalling 3 fits\n",
      "Fitting 3 folds for each of 1 candidates, totalling 3 fits\n",
      "Fitting 3 folds for each of 1 candidates, totalling 3 fits\n",
      "Fitting 3 folds for each of 1 candidates, totalling 3 fits\n",
      "Fitting 3 folds for each of 1 candidates, totalling 3 fits\n",
      "Fitting 3 folds for each of 1 candidates, totalling 3 fits\n",
      "Fitting 3 folds for each of 1 candidates, totalling 3 fits\n",
      "Fitting 3 folds for each of 1 candidates, totalling 3 fits\n",
      "Fitting 3 folds for each of 1 candidates, totalling 3 fits\n",
      "Fitting 3 folds for each of 1 candidates, totalling 3 fits\n"
     ]
    },
    {
     "name": "stderr",
     "output_type": "stream",
     "text": [
      "/Users/celia/miniconda3/lib/python3.8/site-packages/skopt/optimizer/optimizer.py:449: UserWarning: The objective has been evaluated at this point before.\n",
      "  warnings.warn(\"The objective has been evaluated \"\n"
     ]
    },
    {
     "name": "stdout",
     "output_type": "stream",
     "text": [
      "Fitting 3 folds for each of 1 candidates, totalling 3 fits\n",
      "Fitting 3 folds for each of 1 candidates, totalling 3 fits\n"
     ]
    },
    {
     "name": "stderr",
     "output_type": "stream",
     "text": [
      "/Users/celia/miniconda3/lib/python3.8/site-packages/skopt/optimizer/optimizer.py:449: UserWarning: The objective has been evaluated at this point before.\n",
      "  warnings.warn(\"The objective has been evaluated \"\n"
     ]
    },
    {
     "name": "stdout",
     "output_type": "stream",
     "text": [
      "Fitting 3 folds for each of 1 candidates, totalling 3 fits\n",
      "Fitting 3 folds for each of 1 candidates, totalling 3 fits\n",
      "Fitting 3 folds for each of 1 candidates, totalling 3 fits\n"
     ]
    },
    {
     "name": "stderr",
     "output_type": "stream",
     "text": [
      "/Users/celia/miniconda3/lib/python3.8/site-packages/skopt/optimizer/optimizer.py:449: UserWarning: The objective has been evaluated at this point before.\n",
      "  warnings.warn(\"The objective has been evaluated \"\n"
     ]
    },
    {
     "name": "stdout",
     "output_type": "stream",
     "text": [
      "Fitting 3 folds for each of 1 candidates, totalling 3 fits\n"
     ]
    },
    {
     "name": "stderr",
     "output_type": "stream",
     "text": [
      "/Users/celia/miniconda3/lib/python3.8/site-packages/skopt/optimizer/optimizer.py:449: UserWarning: The objective has been evaluated at this point before.\n",
      "  warnings.warn(\"The objective has been evaluated \"\n"
     ]
    },
    {
     "name": "stdout",
     "output_type": "stream",
     "text": [
      "Fitting 3 folds for each of 1 candidates, totalling 3 fits\n"
     ]
    },
    {
     "name": "stderr",
     "output_type": "stream",
     "text": [
      "/Users/celia/miniconda3/lib/python3.8/site-packages/skopt/optimizer/optimizer.py:449: UserWarning: The objective has been evaluated at this point before.\n",
      "  warnings.warn(\"The objective has been evaluated \"\n"
     ]
    },
    {
     "name": "stdout",
     "output_type": "stream",
     "text": [
      "Fitting 3 folds for each of 1 candidates, totalling 3 fits\n"
     ]
    }
   ],
   "source": [
    "from skopt import BayesSearchCV\n",
    "from skopt.space import Integer\n",
    "from sklearn.model_selection import KFold\n",
    "np.int = int\n",
    "\n",
    "# Search space with integer uniform distributions\n",
    "param_grid = {'max_depth': Integer(2,20),\n",
    "              'min_samples_split': Integer(20,100)}\n",
    "\n",
    "inner = KFold(n_splits=3, shuffle=True, random_state=42)\n",
    "\n",
    "# Cambiamos otra vez el budget y el tipo de busqueda\n",
    "budget = 70\n",
    "regr_tree_hpo_bayes = BayesSearchCV(tree.DecisionTreeRegressor(),\n",
    "                    param_grid,\n",
    "                    scoring='neg_mean_squared_error',\n",
    "                    cv=inner,\n",
    "                    n_jobs=-1, verbose=1,\n",
    "                    n_iter=budget\n",
    "                    )\n",
    "np.random.seed(49)\n",
    "inicio = time.time()\n",
    "regr_tree_hpo_bayes.fit(X=X_train, y=y_train)\n",
    "fin = time.time()\n",
    "t_tree_hpo_bayes = fin - inicio"
   ]
  },
  {
   "cell_type": "code",
   "execution_count": 63,
   "metadata": {},
   "outputs": [
    {
     "data": {
      "image/png": "[encoded data removed]",
      "text/plain": [
       "<Figure size 640x480 with 1 Axes>"
      ]
     },
     "metadata": {},
     "output_type": "display_data"
    }
   ],
   "source": [
    "from skopt.plots import plot_objective, plot_histogram, plot_convergence\n",
    "# Podemos comprobar si la optimización ha convergido\n",
    "_ = plot_convergence(regr_tree_hpo_bayes.optimizer_results_[0])\n",
    "plt.show()"
   ]
  },
  {
   "cell_type": "code",
   "execution_count": 64,
   "metadata": {},
   "outputs": [
    {
     "data": {
      "image/png": "[encoded data removed]",
      "text/plain": [
       "<Figure size 400x400 with 4 Axes>"
      ]
     },
     "metadata": {},
     "output_type": "display_data"
    },
    {
     "data": {
      "text/plain": [
       "<Figure size 4000x1500 with 0 Axes>"
      ]
     },
     "metadata": {},
     "output_type": "display_data"
    }
   ],
   "source": [
    "_ = plot_objective(regr_tree_hpo_bayes.optimizer_results_[0],\n",
    "                   dimensions=['max_depth', 'min_samples_split'],\n",
    "                   n_minimum_search=int(1e8))\n",
    "plt.figure(figsize=(40, 15)) \n",
    "plt.show()"
   ]
  },
  {
   "cell_type": "code",
   "execution_count": 65,
   "metadata": {},
   "outputs": [
    {
     "name": "stdout",
     "output_type": "stream",
     "text": [
      "RMSE of the tree: 421.7351794651437\n",
      "R2 of the tree: 0.5872155934729344\n",
      "Mejores parámetros: OrderedDict([('max_depth', 13), ('min_samples_split', 69)])\n"
     ]
    }
   ],
   "source": [
    "y_test_pred = regr_tree_hpo_bayes.predict(X_test)\n",
    "# Métricas de evaluación\n",
    "rmse_tree_hpo_bayes = np.sqrt(metrics.mean_squared_error(y_test, y_test_pred))\n",
    "r2_tree_hpo_bayes = metrics.r2_score(y_test, y_test_pred)\n",
    "\n",
    "# Imprimimos resultados\n",
    "print(f\"RMSE of the tree: {rmse_tree_hpo_bayes}\")\n",
    "print(f\"R2 of the tree: {r2_tree_hpo_bayes}\")\n",
    "print(f\"Mejores parámetros: {regr_tree_hpo_bayes.best_params_}\")"
   ]
  },
  {
   "cell_type": "markdown",
   "metadata": {},
   "source": [
    "Como podemos ver, el rendimiento con este modelo tampoco mejora mucho. Podríamos aumentar el número de iteraciones que realizará la busqueda de hiperparámetros e intentar conseguir que mejore el rendimiento del modelo. Sin embargo, como podemos ver en la gráfica de convergencia,  el valor de la métrica tras cierto número de iteraciones muestra poco cambio. Por este motivo, esta idea se descarta, ya que no obtenedremos beneficios significatos. Además, otro motivo también es por el tiempo de ejecución, que aumentaría innecesariamente."
   ]
  },
  {
   "cell_type": "markdown",
   "metadata": {},
   "source": [
    "### Regularización Ridge.\n",
    "\n",
    "Ahora pasaremos a evaluar el rendimiento del modelo con regularización Ridge. Esta técnica utiliza el parametro *alpha* para imponer una penalización en los coeficientes del modelo. "
   ]
  },
  {
   "cell_type": "code",
   "execution_count": 66,
   "metadata": {},
   "outputs": [
    {
     "name": "stdout",
     "output_type": "stream",
     "text": [
      "Fitting 3 folds for each of 10 candidates, totalling 30 fits\n"
     ]
    }
   ],
   "source": [
    "param_grid = {'alpha': [0.1, 0.2, 0.3, 0.4, 0.5, 0.6, 0.7, 0.8, 0.9, 1.0]}\n",
    "\n",
    "inner = KFold(n_splits=3, shuffle=True, random_state=49)\n",
    "\n",
    "regr_ridge_hpo = GridSearchCV(Ridge(),\n",
    "                         param_grid,\n",
    "                         scoring='neg_mean_squared_error',\n",
    "                         cv=inner,\n",
    "                         n_jobs=-1, verbose=1\n",
    "                        )\n",
    "\n",
    "np.random.seed(49)\n",
    "inicio = time.time()\n",
    "regr_ridge_hpo.fit(X=X_train_scaled, y=y_train)\n",
    "fin = time.time()\n",
    "t_ridge_hpo = fin - inicio"
   ]
  },
  {
   "cell_type": "code",
   "execution_count": 67,
   "metadata": {},
   "outputs": [
    {
     "name": "stdout",
     "output_type": "stream",
     "text": [
      "RMSE: 539.8413921387786\n",
      "R2: 0.32364300592376694\n",
      "Mejor parámetro: {'alpha': 0.3}\n"
     ]
    }
   ],
   "source": [
    "y_test_pred = regr_ridge_hpo.predict(X_test_scaled)\n",
    "# Métricas de evaluación\n",
    "rmse_ridge_hpo = np.sqrt(metrics.mean_squared_error(y_test, y_test_pred))\n",
    "r2_ridge_hpo = metrics.r2_score(y_test, y_test_pred)\n",
    "\n",
    "# Imprimimos resultados\n",
    "print(f\"RMSE: {rmse_ridge_hpo}\")\n",
    "print(f\"R2: {r2_ridge_hpo}\")\n",
    "print(f\"Mejor parámetro: {regr_ridge_hpo.best_params_}\")"
   ]
  },
  {
   "cell_type": "markdown",
   "metadata": {},
   "source": [
    "### Regularización Lasso.\n",
    "\n",
    "Por otro lado, evaluaremos el modelo de regresión lineal con regularización Lasso. Al igual que Ridge, también se trata de una técnica que impone una penalización en los coeficientes del modelo, con una pequeña diferencia del anterior, que puede forza a que algunos coeficientes sean cero."
   ]
  },
  {
   "cell_type": "code",
   "execution_count": 68,
   "metadata": {},
   "outputs": [
    {
     "name": "stdout",
     "output_type": "stream",
     "text": [
      "Fitting 3 folds for each of 4 candidates, totalling 12 fits\n"
     ]
    },
    {
     "name": "stderr",
     "output_type": "stream",
     "text": [
      "/Users/celia/miniconda3/lib/python3.8/site-packages/sklearn/base.py:1152: UserWarning: With alpha=0, this algorithm does not converge well. You are advised to use the LinearRegression estimator\n",
      "  return fit_method(estimator, *args, **kwargs)\n",
      "/Users/celia/miniconda3/lib/python3.8/site-packages/sklearn/linear_model/_coordinate_descent.py:628: UserWarning: Coordinate descent with no regularization may lead to unexpected results and is discouraged.\n",
      "  model = cd_fast.enet_coordinate_descent(\n",
      "/Users/celia/miniconda3/lib/python3.8/site-packages/sklearn/base.py:1152: UserWarning: With alpha=0, this algorithm does not converge well. You are advised to use the LinearRegression estimator\n",
      "  return fit_method(estimator, *args, **kwargs)\n",
      "/Users/celia/miniconda3/lib/python3.8/site-packages/sklearn/linear_model/_coordinate_descent.py:628: UserWarning: Coordinate descent with no regularization may lead to unexpected results and is discouraged.\n",
      "  model = cd_fast.enet_coordinate_descent(\n",
      "/Users/celia/miniconda3/lib/python3.8/site-packages/sklearn/base.py:1152: UserWarning: With alpha=0, this algorithm does not converge well. You are advised to use the LinearRegression estimator\n",
      "  return fit_method(estimator, *args, **kwargs)\n",
      "/Users/celia/miniconda3/lib/python3.8/site-packages/sklearn/linear_model/_coordinate_descent.py:628: UserWarning: Coordinate descent with no regularization may lead to unexpected results and is discouraged.\n",
      "  model = cd_fast.enet_coordinate_descent(\n",
      "/Users/celia/miniconda3/lib/python3.8/site-packages/sklearn/linear_model/_coordinate_descent.py:628: ConvergenceWarning: Objective did not converge. You might want to increase the number of iterations, check the scale of the features or consider increasing regularisation. Duality gap: 3.138e+08, tolerance: 9.531e+04 Linear regression models with null weight for the l1 regularization term are more efficiently fitted using one of the solvers implemented in sklearn.linear_model.Ridge/RidgeCV instead.\n",
      "  model = cd_fast.enet_coordinate_descent(\n",
      "/Users/celia/miniconda3/lib/python3.8/site-packages/sklearn/linear_model/_coordinate_descent.py:628: ConvergenceWarning: Objective did not converge. You might want to increase the number of iterations, check the scale of the features or consider increasing regularisation. Duality gap: 2.882e+08, tolerance: 9.264e+04 Linear regression models with null weight for the l1 regularization term are more efficiently fitted using one of the solvers implemented in sklearn.linear_model.Ridge/RidgeCV instead.\n",
      "  model = cd_fast.enet_coordinate_descent(\n",
      "/Users/celia/miniconda3/lib/python3.8/site-packages/sklearn/linear_model/_coordinate_descent.py:628: ConvergenceWarning: Objective did not converge. You might want to increase the number of iterations, check the scale of the features or consider increasing regularisation. Duality gap: 3.257e+08, tolerance: 9.750e+04 Linear regression models with null weight for the l1 regularization term are more efficiently fitted using one of the solvers implemented in sklearn.linear_model.Ridge/RidgeCV instead.\n",
      "  model = cd_fast.enet_coordinate_descent(\n",
      "/Users/celia/miniconda3/lib/python3.8/site-packages/sklearn/linear_model/_coordinate_descent.py:628: ConvergenceWarning: Objective did not converge. You might want to increase the number of iterations, check the scale of the features or consider increasing regularisation. Duality gap: 2.839e+08, tolerance: 9.264e+04\n",
      "  model = cd_fast.enet_coordinate_descent(\n",
      "/Users/celia/miniconda3/lib/python3.8/site-packages/sklearn/linear_model/_coordinate_descent.py:628: ConvergenceWarning: Objective did not converge. You might want to increase the number of iterations, check the scale of the features or consider increasing regularisation. Duality gap: 3.101e+08, tolerance: 9.531e+04\n",
      "  model = cd_fast.enet_coordinate_descent(\n",
      "/Users/celia/miniconda3/lib/python3.8/site-packages/sklearn/linear_model/_coordinate_descent.py:628: ConvergenceWarning: Objective did not converge. You might want to increase the number of iterations, check the scale of the features or consider increasing regularisation. Duality gap: 3.228e+08, tolerance: 9.750e+04\n",
      "  model = cd_fast.enet_coordinate_descent(\n",
      "/Users/celia/miniconda3/lib/python3.8/site-packages/sklearn/linear_model/_coordinate_descent.py:628: ConvergenceWarning: Objective did not converge. You might want to increase the number of iterations, check the scale of the features or consider increasing regularisation. Duality gap: 2.956e+08, tolerance: 9.531e+04\n",
      "  model = cd_fast.enet_coordinate_descent(\n",
      "/Users/celia/miniconda3/lib/python3.8/site-packages/sklearn/linear_model/_coordinate_descent.py:628: ConvergenceWarning: Objective did not converge. You might want to increase the number of iterations, check the scale of the features or consider increasing regularisation. Duality gap: 3.113e+08, tolerance: 9.750e+04\n",
      "  model = cd_fast.enet_coordinate_descent(\n",
      "/Users/celia/miniconda3/lib/python3.8/site-packages/sklearn/linear_model/_coordinate_descent.py:628: ConvergenceWarning: Objective did not converge. You might want to increase the number of iterations, check the scale of the features or consider increasing regularisation. Duality gap: 2.663e+08, tolerance: 9.264e+04\n",
      "  model = cd_fast.enet_coordinate_descent(\n",
      "/Users/celia/miniconda3/lib/python3.8/site-packages/sklearn/linear_model/_coordinate_descent.py:628: ConvergenceWarning: Objective did not converge. You might want to increase the number of iterations, check the scale of the features or consider increasing regularisation. Duality gap: 2.784e+08, tolerance: 9.531e+04\n",
      "  model = cd_fast.enet_coordinate_descent(\n",
      "/Users/celia/miniconda3/lib/python3.8/site-packages/sklearn/linear_model/_coordinate_descent.py:628: ConvergenceWarning: Objective did not converge. You might want to increase the number of iterations, check the scale of the features or consider increasing regularisation. Duality gap: 2.438e+08, tolerance: 9.264e+04\n",
      "  model = cd_fast.enet_coordinate_descent(\n",
      "/Users/celia/miniconda3/lib/python3.8/site-packages/sklearn/linear_model/_coordinate_descent.py:628: ConvergenceWarning: Objective did not converge. You might want to increase the number of iterations, check the scale of the features or consider increasing regularisation. Duality gap: 2.974e+08, tolerance: 9.750e+04\n",
      "  model = cd_fast.enet_coordinate_descent(\n",
      "/Users/celia/miniconda3/lib/python3.8/site-packages/sklearn/base.py:1152: UserWarning: With alpha=0, this algorithm does not converge well. You are advised to use the LinearRegression estimator\n",
      "  return fit_method(estimator, *args, **kwargs)\n",
      "/Users/celia/miniconda3/lib/python3.8/site-packages/sklearn/linear_model/_coordinate_descent.py:628: UserWarning: Coordinate descent with no regularization may lead to unexpected results and is discouraged.\n",
      "  model = cd_fast.enet_coordinate_descent(\n",
      "/Users/celia/miniconda3/lib/python3.8/site-packages/sklearn/linear_model/_coordinate_descent.py:628: ConvergenceWarning: Objective did not converge. You might want to increase the number of iterations, check the scale of the features or consider increasing regularisation. Duality gap: 4.661e+08, tolerance: 1.427e+05 Linear regression models with null weight for the l1 regularization term are more efficiently fitted using one of the solvers implemented in sklearn.linear_model.Ridge/RidgeCV instead.\n",
      "  model = cd_fast.enet_coordinate_descent(\n"
     ]
    }
   ],
   "source": [
    "param_grid = {'alpha': [0, 0.001, 0.005, 0.01]}\n",
    "\n",
    "inner = KFold(n_splits=3, shuffle=True, random_state=49)\n",
    "\n",
    "regr_lasso_hpo = GridSearchCV(Lasso(),\n",
    "                         param_grid,\n",
    "                         scoring='neg_mean_squared_error',\n",
    "                         cv=inner,\n",
    "                         n_jobs=-1, verbose=1\n",
    "                        )\n",
    "\n",
    "np.random.seed(49)\n",
    "inicio = time.time()\n",
    "regr_lasso_hpo.fit(X=X_train_scaled, y=y_train)\n",
    "fin = time.time()\n",
    "t_lasso_hpo = fin - inicio"
   ]
  },
  {
   "cell_type": "code",
   "execution_count": 69,
   "metadata": {},
   "outputs": [
    {
     "name": "stdout",
     "output_type": "stream",
     "text": [
      "RMSE: 539.6890229836447\n",
      "R2: 0.3240247528649597\n",
      "Mejor parámetro: {'alpha': 0}\n"
     ]
    }
   ],
   "source": [
    "y_test_pred = regr_lasso_hpo.predict(X_test_scaled)\n",
    "# Métricas de evaluación\n",
    "rmse_lasso_hpo = np.sqrt(metrics.mean_squared_error(y_test, y_test_pred))\n",
    "r2_lasso_hpo = metrics.r2_score(y_test, y_test_pred)\n",
    "\n",
    "# Imprimimos resultados\n",
    "print(f\"RMSE: {rmse_lasso_hpo}\")\n",
    "print(f\"R2: {r2_lasso_hpo}\")\n",
    "print(f\"Mejor parámetro: {regr_lasso_hpo.best_params_}\")"
   ]
  },
  {
   "cell_type": "markdown",
   "metadata": {},
   "source": [
    "Al realizar la regularización Lasso, el mejor parámetro para alpha es 0. Esto significa que es mejor utilizar un modelo estándar de regresión lineal sin regularización Lasso."
   ]
  },
  {
   "cell_type": "markdown",
   "metadata": {},
   "source": [
    "### Regresión lineal\n",
    "\n",
    "Este modelo es interesante evaluarlo debido a que al realizar el ajuste por hiperparámetros del modelo de regularización Lasso, hemos obtenido que el mejor valor para *alpha* era 0. "
   ]
  },
  {
   "cell_type": "markdown",
   "metadata": {},
   "source": [
    "### SVM lineal\n",
    "\n",
    "Como siguiente modelo a evaluar se trata del SVM lineal. Es decir, con el kernel especificado a lineal. Tras el ajuste de su hiperparámetro, hemos obtenido lo siguiente."
   ]
  },
  {
   "cell_type": "code",
   "execution_count": 70,
   "metadata": {},
   "outputs": [
    {
     "name": "stdout",
     "output_type": "stream",
     "text": [
      "Fitting 3 folds for each of 6 candidates, totalling 18 fits\n"
     ]
    }
   ],
   "source": [
    "param_grid = {'C': [5000, 10000, 15000, 20000, 25000, 30000]}\n",
    "\n",
    "inner = KFold(n_splits=3, shuffle=True, random_state=49)\n",
    "\n",
    "regr_svm_lineal_hpo = GridSearchCV(SVR(kernel=\"linear\"),\n",
    "                         param_grid,\n",
    "                         scoring='neg_mean_squared_error',\n",
    "                         cv=inner,\n",
    "                         n_jobs=-1, verbose=1\n",
    "                        )\n",
    "\n",
    "np.random.seed(49)\n",
    "inicio = time.time()\n",
    "regr_svm_lineal_hpo.fit(X=X_train_scaled, y=y_train)\n",
    "fin = time.time()\n",
    "t_svm_lineal_hpo = fin - inicio"
   ]
  },
  {
   "cell_type": "code",
   "execution_count": 71,
   "metadata": {},
   "outputs": [
    {
     "name": "stdout",
     "output_type": "stream",
     "text": [
      "RMSE: 572.6160468720577\n",
      "R2: 0.2390245388708796\n",
      "Mejor parámetro: {'C': 10000}\n"
     ]
    }
   ],
   "source": [
    "y_test_pred = regr_svm_lineal_hpo.predict(X_test_scaled)\n",
    "# Métricas de evaluación\n",
    "rmse_svm_lineal_hpo = np.sqrt(metrics.mean_squared_error(y_test, y_test_pred))\n",
    "r2_svm_lineal_hpo = metrics.r2_score(y_test, y_test_pred)\n",
    "\n",
    "# Imprimimos resultados\n",
    "print(f\"RMSE: {rmse_svm_lineal_hpo}\")\n",
    "print(f\"R2: {r2_svm_lineal_hpo}\")\n",
    "print(f\"Mejor parámetro: {regr_svm_lineal_hpo.best_params_}\")"
   ]
  },
  {
   "cell_type": "markdown",
   "metadata": {},
   "source": [
    "### SVM Radial\n",
    "\n",
    "El siguiente modelo a evaluar, va a ser el mismo que el anterior, pero el radial. Es decir, el kernel dado por omisión, el radial. Tras el ajuste de hiperparámetros, obtenemos lo siguiente."
   ]
  },
  {
   "cell_type": "code",
   "execution_count": 72,
   "metadata": {},
   "outputs": [
    {
     "name": "stdout",
     "output_type": "stream",
     "text": [
      "Fitting 3 folds for each of 20 candidates, totalling 60 fits\n"
     ]
    }
   ],
   "source": [
    "param_grid = {'C': [10000, 20000, 30000, 40000, 50000],\n",
    "              'gamma': [0.001, 0.01, 0.05, 0.1]}\n",
    "\n",
    "inner = KFold(n_splits=3, shuffle=True, random_state=49)\n",
    "\n",
    "regr_svm_radial_hpo = GridSearchCV(SVR(),\n",
    "                         param_grid,\n",
    "                         scoring='neg_mean_squared_error',\n",
    "                         cv=inner,\n",
    "                         n_jobs=-1, verbose=1\n",
    "                        )\n",
    "\n",
    "np.random.seed(49)\n",
    "inicio = time.time()\n",
    "regr_svm_radial_hpo.fit(X=X_train_scaled, y=y_train)\n",
    "fin = time.time()\n",
    "t_svm_radial_hpo = fin - inicio"
   ]
  },
  {
   "cell_type": "code",
   "execution_count": 73,
   "metadata": {},
   "outputs": [
    {
     "name": "stdout",
     "output_type": "stream",
     "text": [
      "RMSE: 360.09464936043696\n",
      "R2: 0.6990620486945289\n",
      "Mejor parámetro: {'C': 30000, 'gamma': 0.01}\n"
     ]
    }
   ],
   "source": [
    "y_test_pred = regr_svm_radial_hpo.predict(X_test_scaled)\n",
    "# Métricas de evaluación\n",
    "rmse_svm_radial_hpo = np.sqrt(metrics.mean_squared_error(y_test, y_test_pred))\n",
    "r2_svm_radial_hpo = metrics.r2_score(y_test, y_test_pred)\n",
    "\n",
    "# Imprimimos resultados\n",
    "print(f\"RMSE: {rmse_svm_radial_hpo}\")\n",
    "print(f\"R2: {r2_svm_radial_hpo}\")\n",
    "print(f\"Mejor parámetro: {regr_svm_radial_hpo.best_params_}\")"
   ]
  },
  {
   "cell_type": "markdown",
   "metadata": {},
   "source": [
    "Con este modelo, tras el proceso de ajustar ambos parámetros, obtenemos que una notable mejora en la predicción. Tras la evaluación del modelo, podemos ver como se reduce bastante el valor del RMSE y como aumenta en gran medida el R2, respecto al modelo dummy, al SVM radial con los datos por omisión y al SVM lineal por ajuste de hiperparámetros."
   ]
  },
  {
   "cell_type": "markdown",
   "metadata": {},
   "source": [
    "---\n",
    "## Tiempos de entrenamiento\n",
    "---\n",
    "\n",
    "En esta sección expondremos y analizaremos los tiempos de ejecución junto a los resultados obtenidos de cada modelo para evaluar el rendimiento de cada uno de ellos. Con el fin principal de obtener conclusiones acerca de este problema de regresión."
   ]
  },
  {
   "cell_type": "code",
   "execution_count": 96,
   "metadata": {},
   "outputs": [
    {
     "data": {
      "text/html": [
       "<div>\n",
       "<style scoped>\n",
       "    .dataframe tbody tr th:only-of-type {\n",
       "        vertical-align: middle;\n",
       "    }\n",
       "\n",
       "    .dataframe tbody tr th {\n",
       "        vertical-align: top;\n",
       "    }\n",
       "\n",
       "    .dataframe thead th {\n",
       "        text-align: right;\n",
       "    }\n",
       "</style>\n",
       "<table border=\"1\" class=\"dataframe\">\n",
       "  <thead>\n",
       "    <tr style=\"text-align: right;\">\n",
       "      <th></th>\n",
       "      <th>Modelo</th>\n",
       "      <th>RMSE</th>\n",
       "      <th>R2</th>\n",
       "      <th>Tiempo</th>\n",
       "    </tr>\n",
       "  </thead>\n",
       "  <tbody>\n",
       "    <tr>\n",
       "      <th>0</th>\n",
       "      <td>Dummy</td>\n",
       "      <td>692.091301</td>\n",
       "      <td>-0.111656</td>\n",
       "      <td>0.000873</td>\n",
       "    </tr>\n",
       "  </tbody>\n",
       "</table>\n",
       "</div>"
      ],
      "text/plain": [
       "  Modelo        RMSE        R2    Tiempo\n",
       "0  Dummy  692.091301 -0.111656  0.000873"
      ]
     },
     "execution_count": 96,
     "metadata": {},
     "output_type": "execute_result"
    }
   ],
   "source": [
    "# Tomaremos como referencia el modelo Dummy.\n",
    "tabla_dummy = pd.DataFrame({\n",
    "    \"Modelo\": [\"Dummy\"],\n",
    "    \"RMSE\": [rmse_dummy],\n",
    "    \"R2\": [r2_dummy],\n",
    "    \"Tiempo\": [t_dummy]\n",
    "})\n",
    "\n",
    "tabla_dummy"
   ]
  },
  {
   "cell_type": "code",
   "execution_count": 118,
   "metadata": {},
   "outputs": [
    {
     "data": {
      "text/html": [
       "<div>\n",
       "<style scoped>\n",
       "    .dataframe tbody tr th:only-of-type {\n",
       "        vertical-align: middle;\n",
       "    }\n",
       "\n",
       "    .dataframe tbody tr th {\n",
       "        vertical-align: top;\n",
       "    }\n",
       "\n",
       "    .dataframe thead th {\n",
       "        text-align: right;\n",
       "    }\n",
       "</style>\n",
       "<table border=\"1\" class=\"dataframe\">\n",
       "  <thead>\n",
       "    <tr style=\"text-align: right;\">\n",
       "      <th></th>\n",
       "      <th>RMSE</th>\n",
       "      <th>R2</th>\n",
       "      <th>Tiempo</th>\n",
       "      <th>RMSE (HPO)</th>\n",
       "      <th>R2 (HPO)</th>\n",
       "      <th>Tiempo (HPO)</th>\n",
       "    </tr>\n",
       "  </thead>\n",
       "  <tbody>\n",
       "    <tr>\n",
       "      <th>KNN</th>\n",
       "      <td>402.269009</td>\n",
       "      <td>0.624442</td>\n",
       "      <td>0.000844</td>\n",
       "      <td>398.145327</td>\n",
       "      <td>0.632102</td>\n",
       "      <td>0.959705</td>\n",
       "    </tr>\n",
       "    <tr>\n",
       "      <th>Regresión Lineal</th>\n",
       "      <td>539.761203</td>\n",
       "      <td>0.323844</td>\n",
       "      <td>0.008529</td>\n",
       "      <td>0.000000</td>\n",
       "      <td>0.000000</td>\n",
       "      <td>0.000000</td>\n",
       "    </tr>\n",
       "    <tr>\n",
       "      <th>Árbol de decisión</th>\n",
       "      <td>509.815211</td>\n",
       "      <td>0.396789</td>\n",
       "      <td>0.086788</td>\n",
       "      <td>423.624316</td>\n",
       "      <td>0.583509</td>\n",
       "      <td>1.686757</td>\n",
       "    </tr>\n",
       "    <tr>\n",
       "      <th>Ridge</th>\n",
       "      <td>540.100085</td>\n",
       "      <td>0.322995</td>\n",
       "      <td>0.002085</td>\n",
       "      <td>539.841392</td>\n",
       "      <td>0.323643</td>\n",
       "      <td>0.052294</td>\n",
       "    </tr>\n",
       "    <tr>\n",
       "      <th>Lasso</th>\n",
       "      <td>540.100085</td>\n",
       "      <td>0.322995</td>\n",
       "      <td>0.002344</td>\n",
       "      <td>539.689023</td>\n",
       "      <td>0.324025</td>\n",
       "      <td>0.235337</td>\n",
       "    </tr>\n",
       "    <tr>\n",
       "      <th>SVM lineal</th>\n",
       "      <td>587.146049</td>\n",
       "      <td>0.199915</td>\n",
       "      <td>0.196943</td>\n",
       "      <td>572.616047</td>\n",
       "      <td>0.239025</td>\n",
       "      <td>67.102949</td>\n",
       "    </tr>\n",
       "    <tr>\n",
       "      <th>SVM radial</th>\n",
       "      <td>632.107878</td>\n",
       "      <td>0.072688</td>\n",
       "      <td>0.237860</td>\n",
       "      <td>360.094649</td>\n",
       "      <td>0.699062</td>\n",
       "      <td>27.161238</td>\n",
       "    </tr>\n",
       "  </tbody>\n",
       "</table>\n",
       "</div>"
      ],
      "text/plain": [
       "                         RMSE        R2    Tiempo  RMSE (HPO)  R2 (HPO)  \\\n",
       "KNN                402.269009  0.624442  0.000844  398.145327  0.632102   \n",
       "Regresión Lineal   539.761203  0.323844  0.008529    0.000000  0.000000   \n",
       "Árbol de decisión  509.815211  0.396789  0.086788  423.624316  0.583509   \n",
       "Ridge              540.100085  0.322995  0.002085  539.841392  0.323643   \n",
       "Lasso              540.100085  0.322995  0.002344  539.689023  0.324025   \n",
       "SVM lineal         587.146049  0.199915  0.196943  572.616047  0.239025   \n",
       "SVM radial         632.107878  0.072688  0.237860  360.094649  0.699062   \n",
       "\n",
       "                   Tiempo (HPO)  \n",
       "KNN                    0.959705  \n",
       "Regresión Lineal       0.000000  \n",
       "Árbol de decisión      1.686757  \n",
       "Ridge                  0.052294  \n",
       "Lasso                  0.235337  \n",
       "SVM lineal            67.102949  \n",
       "SVM radial            27.161238  "
      ]
     },
     "execution_count": 118,
     "metadata": {},
     "output_type": "execute_result"
    }
   ],
   "source": [
    "# Resultados por defecto\n",
    "resultados_default = pd.DataFrame({\n",
    "    \"RMSE\": [rmse_knn_scaled, rmse_lineal, rmse_tree, rmse_ridge, rmse_lasso, rmse_svm_lineal, rmse_svm_radial],\n",
    "    \"R2\": [r2_knn_scaled, r2_lineal, r2_tree, r2_ridge, r2_lasso, r2_svm_lineal, r2_svm_radial],\n",
    "    \"Tiempo\": [t_knn, t_lineal, t_tree, t_ridge, t_lasso, t_svm_lineal, t_svm_radial]\n",
    "})\n",
    "\n",
    "# Resultados con optimización de hiperparámetros\n",
    "resultados_hpo = pd.DataFrame({\n",
    "    \"RMSE (HPO)\": [rmse_knn_hpo, 0, rmse_tree_hpo, rmse_ridge_hpo, rmse_lasso_hpo, rmse_svm_lineal_hpo, rmse_svm_radial_hpo],\n",
    "    \"R2 (HPO)\": [r2_knn_hpo, 0, r2_tree_hpo, r2_ridge_hpo, r2_lasso_hpo, r2_svm_lineal_hpo, r2_svm_radial_hpo],\n",
    "    \"Tiempo (HPO)\": [t_knn_hpo, 0, t_tree_hpo, t_ridge_hpo, t_lasso_hpo, t_svm_lineal_hpo, t_svm_radial_hpo]\n",
    "})\n",
    "\n",
    "# Fusionamos los datos de las dos tablas\n",
    "resultados = pd.concat([resultados_default, resultados_hpo], axis=1)\n",
    "resultados.index = [\"KNN\", \"Regresión Lineal\", \"Árbol de decisión\", \"Ridge\", \"Lasso\", \"SVM lineal\", \"SVM radial\"]\n",
    "resultados"
   ]
  },
  {
   "cell_type": "code",
   "execution_count": 121,
   "metadata": {},
   "outputs": [
    {
     "data": {
      "text/html": [
       "<div>\n",
       "<style scoped>\n",
       "    .dataframe tbody tr th:only-of-type {\n",
       "        vertical-align: middle;\n",
       "    }\n",
       "\n",
       "    .dataframe tbody tr th {\n",
       "        vertical-align: top;\n",
       "    }\n",
       "\n",
       "    .dataframe thead th {\n",
       "        text-align: right;\n",
       "    }\n",
       "</style>\n",
       "<table border=\"1\" class=\"dataframe\">\n",
       "  <thead>\n",
       "    <tr style=\"text-align: right;\">\n",
       "      <th></th>\n",
       "      <th>RMSE</th>\n",
       "      <th>R2</th>\n",
       "      <th>Tiempo</th>\n",
       "    </tr>\n",
       "  </thead>\n",
       "  <tbody>\n",
       "    <tr>\n",
       "      <th>Árbol de decisión modelo</th>\n",
       "      <td>383.133115</td>\n",
       "      <td>0.659323</td>\n",
       "      <td>169.214923</td>\n",
       "    </tr>\n",
       "    <tr>\n",
       "      <th>Árbol de decisión HPO Bayes</th>\n",
       "      <td>421.735179</td>\n",
       "      <td>0.587216</td>\n",
       "      <td>117.975460</td>\n",
       "    </tr>\n",
       "  </tbody>\n",
       "</table>\n",
       "</div>"
      ],
      "text/plain": [
       "                                   RMSE        R2      Tiempo\n",
       "Árbol de decisión modelo     383.133115  0.659323  169.214923\n",
       "Árbol de decisión HPO Bayes  421.735179  0.587216  117.975460"
      ]
     },
     "execution_count": 121,
     "metadata": {},
     "output_type": "execute_result"
    }
   ],
   "source": [
    "# Añadimos los resultados del árbol de decisión modelo.\n",
    "tabla = pd.DataFrame({\n",
    "    \"RMSE\": [rmse_linear_tree, rmse_tree_hpo_bayes],\n",
    "    \"R2\": [r2_linear_tree, r2_tree_hpo_bayes],\n",
    "    \"Tiempo\": [t_linear_tree, t_tree_hpo_bayes]\n",
    "}, index=[\"Árbol de decisión modelo\", \"Árbol de decisión HPO Bayes\"])\n",
    "tabla\n"
   ]
  }
 ],
 "metadata": {
  "kernelspec": {
   "display_name": "Python 3",
   "language": "python",
   "name": "python3"
  },
  "language_info": {
   "codemirror_mode": {
    "name": "ipython",
    "version": 3
   },
   "file_extension": ".py",
   "mimetype": "text/x-python",
   "name": "python",
   "nbconvert_exporter": "python",
   "pygments_lexer": "ipython3",
   "version": "3.8.11"
  }
 },
 "nbformat": 4,
 "nbformat_minor": 2
}
