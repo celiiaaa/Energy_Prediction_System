{
 "cells": [
  {
   "cell_type": "markdown",
   "metadata": {},
   "source": [
    "# Predicción de la producción de energía éolica con SKlearn.\n",
    "\n",
    "Este código pertenece a la primera práctica de la asignutra de aprendizaje automático.\n",
    "\n",
    "100471948 - Celia Patricio Ferrer\n",
    "100472039 - Alberto García de la Torre"
   ]
  },
  {
   "cell_type": "code",
   "execution_count": null,
   "metadata": {},
   "outputs": [],
   "source": [
    "import pandas as pd\n",
    "\n",
    "# Lectura del archivo\n",
    "wind_ava = pd.read_csv('wind_available.csv.gzip', compression=\"gzip\")\n",
    "\n",
    "print(wind_ava.DESCR)"
   ]
  }
 ],
 "metadata": {
  "language_info": {
   "name": "python"
  }
 },
 "nbformat": 4,
 "nbformat_minor": 2
}
