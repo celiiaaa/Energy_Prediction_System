{
 "cells": [
  {
   "cell_type": "markdown",
   "metadata": {},
   "source": [
    "# Predicción de la producción de energía éolica con SKlearn.\n",
    "\n",
    "Este código pertenece a la primera práctica de la asignutra de aprendizaje automático.\n",
    "\n",
    "100471948 - Celia Patricio Ferrer\n",
    "\n",
    "100472039 - Alberto García de la Torre"
   ]
  },
  {
   "cell_type": "code",
   "execution_count": 53,
   "metadata": {},
   "outputs": [],
   "source": [
    "# Librerias necesarias\n",
    "import pandas as pd"
   ]
  },
  {
   "cell_type": "markdown",
   "metadata": {},
   "source": [
    "---\n",
    "## Lectura del archivo.\n",
    "---\n",
    "\n",
    "En primer lugar se lee el archivo que contiene los datos disponibles. Es decir, se realiza la lectura del archivo csv llamado *wind_ava.csv.gz*."
   ]
  },
  {
   "cell_type": "code",
   "execution_count": 73,
   "metadata": {},
   "outputs": [
    {
     "name": "stdout",
     "output_type": "stream",
     "text": [
      "                 datetime   energy     p54.162.1     p54.162.2     p54.162.3  \\\n",
      "0     2005-01-02 18:00:00   402.71  2.534970e+06  2.526864e+06  2.518754e+06   \n",
      "1     2005-01-03 00:00:00   696.80  2.537369e+06  2.529277e+06  2.521184e+06   \n",
      "2     2005-01-03 06:00:00  1591.15  2.533727e+06  2.525703e+06  2.517678e+06   \n",
      "3     2005-01-03 12:00:00  1338.62  2.534491e+06  2.526548e+06  2.518609e+06   \n",
      "4     2005-01-03 18:00:00   562.50  2.529543e+06  2.521623e+06  2.513702e+06   \n",
      "...                   ...      ...           ...           ...           ...   \n",
      "4743  2009-12-30 06:00:00  1280.13  2.407224e+06  2.400131e+06  2.393033e+06   \n",
      "4744  2009-12-30 12:00:00   855.00  2.407234e+06  2.400117e+06  2.393001e+06   \n",
      "4745  2009-12-30 18:00:00   117.06  2.401034e+06  2.393683e+06  2.386332e+06   \n",
      "4746  2009-12-31 12:00:00   516.96  2.393873e+06  2.386499e+06  2.379125e+06   \n",
      "4747  2009-12-31 18:00:00   867.07  2.392305e+06  2.384669e+06  2.377033e+06   \n",
      "\n",
      "         p54.162.4     p54.162.5     p54.162.6     p54.162.7     p54.162.8  \\\n",
      "0     2.510648e+06  2.502537e+06  2.531111e+06  2.522721e+06  2.514330e+06   \n",
      "1     2.513088e+06  2.504995e+06  2.533465e+06  2.525088e+06  2.516716e+06   \n",
      "2     2.509654e+06  2.501629e+06  2.529801e+06  2.521496e+06  2.513187e+06   \n",
      "3     2.510670e+06  2.502732e+06  2.530569e+06  2.522346e+06  2.514127e+06   \n",
      "4     2.505782e+06  2.497861e+06  2.525621e+06  2.517421e+06  2.509215e+06   \n",
      "...            ...           ...           ...           ...           ...   \n",
      "4743  2.385939e+06  2.378841e+06  2.403709e+06  2.396344e+06  2.388984e+06   \n",
      "4744  2.385885e+06  2.378768e+06  2.403700e+06  2.396317e+06  2.388935e+06   \n",
      "4745  2.378981e+06  2.371630e+06  2.397510e+06  2.389888e+06  2.382270e+06   \n",
      "4746  2.371752e+06  2.364378e+06  2.390276e+06  2.382632e+06  2.374982e+06   \n",
      "4747  2.369398e+06  2.361766e+06  2.388668e+06  2.380761e+06  2.372854e+06   \n",
      "\n",
      "      ...   v100.16   v100.17   v100.18   v100.19   v100.20   v100.21  \\\n",
      "0     ... -4.683596 -4.545396 -4.407196 -4.268996 -4.131295 -4.669626   \n",
      "1     ... -3.397886 -3.257192 -3.115998 -2.975304 -2.834609 -3.396390   \n",
      "2     ... -1.454105 -1.296447 -1.138290 -0.980134 -0.822476 -1.459094   \n",
      "3     ...  1.255015  1.370265  1.485515  1.600765  1.716015  1.210612   \n",
      "4     ...  1.939031  2.023847  2.108663  2.193977  2.278793  1.873673   \n",
      "...   ...       ...       ...       ...       ...       ...       ...   \n",
      "4743  ...  9.377886  9.271118  9.164849  9.058080  8.951312  9.402832   \n",
      "4744  ...  7.345796  7.500461  7.655624  7.810288  7.964953  7.457055   \n",
      "4745  ...  3.485674  3.535566  3.585458  3.635349  3.685241  3.505132   \n",
      "4746  ...  1.988424  2.123630  2.258837  2.394043  2.529749  1.960983   \n",
      "4747  ...  2.052784  2.017860  1.982437  1.947512  1.912089  2.064259   \n",
      "\n",
      "       v100.22   v100.23   v100.24   v100.25  \n",
      "0    -4.528932 -4.388736 -4.248540 -4.107846  \n",
      "1    -3.254198 -3.112506 -2.970314 -2.828622  \n",
      "2    -1.302933 -1.147271 -0.991110 -0.834949  \n",
      "3     1.319376  1.428140  1.536405  1.645169  \n",
      "4     1.953000  2.031829  2.111157  2.189986  \n",
      "...        ...       ...       ...       ...  \n",
      "4743  9.291075  9.179816  9.068059  8.956800  \n",
      "4744  7.604734  7.751915  7.899595  8.047274  \n",
      "4745  3.552030  3.598429  3.645328  3.691727  \n",
      "4746  2.094194  2.226906  2.360117  2.492829  \n",
      "4747  2.031829  1.998901  1.966471  1.934042  \n",
      "\n",
      "[4748 rows x 552 columns]\n"
     ]
    }
   ],
   "source": [
    "wind_ava = pd.read_csv('wind_ava.csv.gz', compression=\"gzip\")\n",
    "\n",
    "# Imprimir el dataframe.\n",
    "print(wind_ava)"
   ]
  },
  {
   "cell_type": "markdown",
   "metadata": {},
   "source": [
    "---\n",
    "## Filtrado de datos.\n",
    "---\n",
    "\n",
    "Se deben quitar las variables metereológicas que no correspondan a la localización de Sotavento, la localización 13."
   ]
  },
  {
   "cell_type": "code",
   "execution_count": 74,
   "metadata": {},
   "outputs": [
    {
     "name": "stdout",
     "output_type": "stream",
     "text": [
      "        p54.162.13  p55.162.13    cape.13    p59.162.13  lai_lv.13  lai_hv.13  \\\n",
      "0     2.510824e+06    9.186295  13.527577  1.386937e+06   2.344111   2.432983   \n",
      "1     2.513173e+06    8.849569   6.896412  1.153526e+06   2.343719   2.432838   \n",
      "2     2.509627e+06    7.924080   4.774439  1.098754e+06   2.343300   2.432704   \n",
      "3     2.510571e+06    6.922709   0.000000  1.076021e+06   2.342830   2.432514   \n",
      "4     2.505664e+06    6.646282   0.000000  1.070830e+06   2.342437   2.432369   \n",
      "...            ...         ...        ...           ...        ...        ...   \n",
      "4743  2.385772e+06   14.413342  24.971074  3.905586e+06   2.349839   2.434994   \n",
      "4744  2.385708e+06   12.802883  60.248874  2.745694e+06   2.349446   2.434849   \n",
      "4745  2.379049e+06   10.915997   3.145067  2.254171e+06   2.349054   2.434715   \n",
      "4746  2.371697e+06   13.048144  12.580268  1.376913e+06   2.347799   2.434291   \n",
      "4747  2.369547e+06    9.172745   8.487892  1.356687e+06   2.347406   2.434145   \n",
      "\n",
      "       u10n.13   v10n.13         sp.13     stl1.13  ...      t2m.13  \\\n",
      "0    -0.757587 -1.922799  99846.319914  280.960661  ...  280.473098   \n",
      "1    -1.412620 -1.403011  99917.733093  279.296651  ...  278.286616   \n",
      "2    -2.290185 -0.754580  99764.378681  278.233956  ...  277.206490   \n",
      "3    -3.497855  1.271028  99672.670459  280.787263  ...  280.926600   \n",
      "4    -0.971249  0.553060  99372.811211  279.583112  ...  277.363875   \n",
      "...        ...       ...           ...         ...  ...         ...   \n",
      "4743  4.595786  5.563189  95460.434452  281.680110  ...  280.731326   \n",
      "4744  4.894838  5.577096  95663.765406  282.842686  ...  283.310687   \n",
      "4745  0.958361  0.948029  95653.110509  282.027412  ...  281.060085   \n",
      "4746  5.278912  0.771754  95534.765044  280.814135  ...  279.662858   \n",
      "4747  4.578042  1.295018  95866.081608  279.805690  ...  277.552154   \n",
      "\n",
      "         stl2.13     stl3.13   iews.13   inss.13     stl4.13    fsr.13  \\\n",
      "0     281.042026  281.462478 -0.057958 -0.138650  284.684755  0.404731   \n",
      "1     280.747406  281.486541 -0.103576 -0.083050  284.667948  0.404920   \n",
      "2     280.114863  281.487095 -0.165721 -0.036241  284.651914  0.405704   \n",
      "3     279.991138  281.472435 -0.275550  0.098192  284.636266  0.403967   \n",
      "4     280.576898  281.473265 -0.056553  0.041844  284.620232  0.403808   \n",
      "...          ...         ...       ...       ...         ...       ...   \n",
      "4743  282.643490  281.676560  0.628948  0.879581  286.013271  0.424510   \n",
      "4744  282.370909  281.761750  0.740926  0.699769  285.988737  0.424762   \n",
      "4745  282.425812  281.841961  0.109802  0.125174  285.968452  0.415132   \n",
      "4746  281.153379  281.976385  0.705886  0.192834  285.904895  0.426707   \n",
      "4747  281.046666  281.997129  0.460114  0.160810  285.884804  0.426651   \n",
      "\n",
      "       flsr.13   u100.13   v100.13  \n",
      "0    -5.927092 -1.780562 -4.443617  \n",
      "1    -5.913881 -3.743344 -3.129469  \n",
      "2    -5.908272 -5.097203 -1.157748  \n",
      "3    -5.961995 -4.500835  1.502478  \n",
      "4    -5.987860 -3.392324  2.131114  \n",
      "...        ...       ...       ...  \n",
      "4743 -5.715421  6.922743  9.179816  \n",
      "4744 -5.732455  7.434887  7.537381  \n",
      "4745 -5.866856  3.033799  3.568993  \n",
      "4746 -5.693542  8.374951  2.219422  \n",
      "4747 -5.699429  7.103223  1.883651  \n",
      "\n",
      "[4748 rows x 22 columns]\n"
     ]
    }
   ],
   "source": [
    "sotavento_df = wind_ava.filter(regex='.13$')\n",
    "# Imprimir el dataframe.\n",
    "print(sotavento_df)"
   ]
  },
  {
   "cell_type": "code",
   "execution_count": 75,
   "metadata": {},
   "outputs": [
    {
     "name": "stdout",
     "output_type": "stream",
     "text": [
      "     p54.162.13  p55.162.13    cape.13    p59.162.13  lai_lv.13  lai_hv.13  \\\n",
      "0  2.510824e+06    9.186295  13.527577  1.386937e+06   2.344111   2.432983   \n",
      "1  2.513173e+06    8.849569   6.896412  1.153526e+06   2.343719   2.432838   \n",
      "2  2.509627e+06    7.924080   4.774439  1.098754e+06   2.343300   2.432704   \n",
      "3  2.510571e+06    6.922709   0.000000  1.076021e+06   2.342830   2.432514   \n",
      "4  2.505664e+06    6.646282   0.000000  1.070830e+06   2.342437   2.432369   \n",
      "\n",
      "    u10n.13   v10n.13         sp.13     stl1.13  ...      t2m.13     stl2.13  \\\n",
      "0 -0.757587 -1.922799  99846.319914  280.960661  ...  280.473098  281.042026   \n",
      "1 -1.412620 -1.403011  99917.733093  279.296651  ...  278.286616  280.747406   \n",
      "2 -2.290185 -0.754580  99764.378681  278.233956  ...  277.206490  280.114863   \n",
      "3 -3.497855  1.271028  99672.670459  280.787263  ...  280.926600  279.991138   \n",
      "4 -0.971249  0.553060  99372.811211  279.583112  ...  277.363875  280.576898   \n",
      "\n",
      "      stl3.13   iews.13   inss.13     stl4.13    fsr.13   flsr.13   u100.13  \\\n",
      "0  281.462478 -0.057958 -0.138650  284.684755  0.404731 -5.927092 -1.780562   \n",
      "1  281.486541 -0.103576 -0.083050  284.667948  0.404920 -5.913881 -3.743344   \n",
      "2  281.487095 -0.165721 -0.036241  284.651914  0.405704 -5.908272 -5.097203   \n",
      "3  281.472435 -0.275550  0.098192  284.636266  0.403967 -5.961995 -4.500835   \n",
      "4  281.473265 -0.056553  0.041844  284.620232  0.403808 -5.987860 -3.392324   \n",
      "\n",
      "    v100.13  \n",
      "0 -4.443617  \n",
      "1 -3.129469  \n",
      "2 -1.157748  \n",
      "3  1.502478  \n",
      "4  2.131114  \n",
      "\n",
      "[5 rows x 22 columns]\n"
     ]
    }
   ],
   "source": [
    "# Imprimir las primeras filas del dataframe.\n",
    "print(sotavento_df.head())"
   ]
  },
  {
   "cell_type": "code",
   "execution_count": 76,
   "metadata": {},
   "outputs": [
    {
     "name": "stdout",
     "output_type": "stream",
     "text": [
      "(4748, 22)\n"
     ]
    }
   ],
   "source": [
    "# Imprimir el tamaño del dataframe.\n",
    "print(sotavento_df.shape)"
   ]
  },
  {
   "cell_type": "code",
   "execution_count": 77,
   "metadata": {},
   "outputs": [
    {
     "name": "stdout",
     "output_type": "stream",
     "text": [
      "<class 'pandas.core.frame.DataFrame'>\n",
      "RangeIndex: 4748 entries, 0 to 4747\n",
      "Data columns (total 22 columns):\n",
      " #   Column      Non-Null Count  Dtype  \n",
      "---  ------      --------------  -----  \n",
      " 0   p54.162.13  4748 non-null   float64\n",
      " 1   p55.162.13  4748 non-null   float64\n",
      " 2   cape.13     4748 non-null   float64\n",
      " 3   p59.162.13  4748 non-null   float64\n",
      " 4   lai_lv.13   4748 non-null   float64\n",
      " 5   lai_hv.13   4748 non-null   float64\n",
      " 6   u10n.13     4748 non-null   float64\n",
      " 7   v10n.13     4748 non-null   float64\n",
      " 8   sp.13       4748 non-null   float64\n",
      " 9   stl1.13     4748 non-null   float64\n",
      " 10  u10.13      4748 non-null   float64\n",
      " 11  v10.13      4748 non-null   float64\n",
      " 12  t2m.13      4748 non-null   float64\n",
      " 13  stl2.13     4748 non-null   float64\n",
      " 14  stl3.13     4748 non-null   float64\n",
      " 15  iews.13     4748 non-null   float64\n",
      " 16  inss.13     4748 non-null   float64\n",
      " 17  stl4.13     4748 non-null   float64\n",
      " 18  fsr.13      4748 non-null   float64\n",
      " 19  flsr.13     4748 non-null   float64\n",
      " 20  u100.13     4748 non-null   float64\n",
      " 21  v100.13     4748 non-null   float64\n",
      "dtypes: float64(22)\n",
      "memory usage: 816.2 KB\n"
     ]
    }
   ],
   "source": [
    "# Imprimir el tipo de atributos.\n",
    "sotavento_df.info()"
   ]
  },
  {
   "cell_type": "markdown",
   "metadata": {},
   "source": [
    "---\n",
    "## Análisis Exploratorio de Datos Simplificado.\n",
    "---"
   ]
  },
  {
   "cell_type": "markdown",
   "metadata": {},
   "source": [
    "### Variables.\n",
    "\n",
    "Identificar qué varibles son categóricas y qué variables son numéricas.\n",
    "\n",
    "Esto se hace para comprobar si hay categóricas que deban ser codificadas (como dummies / one-hot-encoding)"
   ]
  },
  {
   "cell_type": "code",
   "execution_count": 78,
   "metadata": {},
   "outputs": [
    {
     "name": "stdout",
     "output_type": "stream",
     "text": [
      "Variables categóricas: Index([], dtype='object')\n",
      "Variables numéricas: Index(['p54.162.13', 'p55.162.13', 'cape.13', 'p59.162.13', 'lai_lv.13',\n",
      "       'lai_hv.13', 'u10n.13', 'v10n.13', 'sp.13', 'stl1.13', 'u10.13',\n",
      "       'v10.13', 't2m.13', 'stl2.13', 'stl3.13', 'iews.13', 'inss.13',\n",
      "       'stl4.13', 'fsr.13', 'flsr.13', 'u100.13', 'v100.13'],\n",
      "      dtype='object')\n"
     ]
    }
   ],
   "source": [
    "categoricas = sotavento_df.select_dtypes(include=['object']).columns\n",
    "numericas = sotavento_df.select_dtypes(exclude=['object']).columns\n",
    "\n",
    "# Imprimir por pantalla dicho resultado.\n",
    "print(\"Variables categóricas:\", categoricas)\n",
    "print(\"Variables numéricas:\", numericas)"
   ]
  },
  {
   "cell_type": "markdown",
   "metadata": {},
   "source": [
    "### Número de características e instancias."
   ]
  },
  {
   "cell_type": "code",
   "execution_count": 79,
   "metadata": {},
   "outputs": [
    {
     "name": "stdout",
     "output_type": "stream",
     "text": [
      "Nº de características:  22\n",
      "Nº de instancias:  4748\n"
     ]
    }
   ],
   "source": [
    "# Imprimir la cantidad de característica e instancias del dataframe.\n",
    "print(\"Nº de características: \", sotavento_df.shape[1])\n",
    "print(\"Nº de instancias: \", sotavento_df.shape[0])"
   ]
  },
  {
   "cell_type": "markdown",
   "metadata": {},
   "source": [
    "### Valores faltantes.\n",
    "\n",
    "En esta sección se especifica si hay valores faltantes (*missing values*) y qué variables los tienen."
   ]
  },
  {
   "cell_type": "code",
   "execution_count": 81,
   "metadata": {},
   "outputs": [
    {
     "name": "stdout",
     "output_type": "stream",
     "text": [
      "p54.162.13    0\n",
      "p55.162.13    0\n",
      "cape.13       0\n",
      "p59.162.13    0\n",
      "lai_lv.13     0\n",
      "lai_hv.13     0\n",
      "u10n.13       0\n",
      "v10n.13       0\n",
      "sp.13         0\n",
      "stl1.13       0\n",
      "u10.13        0\n",
      "v10.13        0\n",
      "t2m.13        0\n",
      "stl2.13       0\n",
      "stl3.13       0\n",
      "iews.13       0\n",
      "inss.13       0\n",
      "stl4.13       0\n",
      "fsr.13        0\n",
      "flsr.13       0\n",
      "u100.13       0\n",
      "v100.13       0\n",
      "dtype: int64\n"
     ]
    }
   ],
   "source": [
    "# Imprimir la cantidad de valores faltantes por variable.\n",
    "print(sotavento_df.isnull().sum())"
   ]
  },
  {
   "cell_type": "markdown",
   "metadata": {},
   "source": [
    "### Columnas constantes.\n",
    "\n",
    "Evualuación de columnas constantes y en caso de haberlas, eliminarlas."
   ]
  },
  {
   "cell_type": "code",
   "execution_count": 82,
   "metadata": {},
   "outputs": [
    {
     "name": "stdout",
     "output_type": "stream",
     "text": [
      "Columnas constantes eliminadas: Index([], dtype='object')\n"
     ]
    }
   ],
   "source": [
    "columnas_constantes = sotavento_df.columns[sotavento_df.nunique() == 1]\n",
    "sotavento_df = sotavento_df.drop(columnas_constantes, axis=1)\n",
    "print(\"Columnas constantes eliminadas:\", columnas_constantes)"
   ]
  },
  {
   "cell_type": "markdown",
   "metadata": {},
   "source": [
    "### Regresión o clasificación.\n",
    "\n",
    "Determinar si el problema es de regresión o de clasificación. \n",
    "\n",
    "- Si se trata de un problema de clasificación o de regresión (variable de salida es una clase o un valor continuo), y en caso de clasificación, si la clase está desequilibrada.\n",
    "\n",
    "En nuestro caso, la varible de salida es *energy*."
   ]
  },
  {
   "cell_type": "code",
   "execution_count": 83,
   "metadata": {},
   "outputs": [
    {
     "name": "stdout",
     "output_type": "stream",
     "text": [
      "Se trata de un problema de regresión.\n"
     ]
    }
   ],
   "source": [
    "if 'energy' in wind_ava.columns:\n",
    "    if wind_ava['energy'].dtype == 'object':\n",
    "        # La variable de salida es una clase.\n",
    "        print(\"Se trata de un problema de clasificación.\")\n",
    "        # Si se trata de un problema de clasificación.\n",
    "        # Se debe comprobar si la clase está balanceada.\n",
    "    else:\n",
    "        # La variable de salida es un valor continuo.\n",
    "        print(\"Se trata de un problema de regresión.\")\n",
    "else:\n",
    "    print(\"No se ha encontrado la variable de salida.\")"
   ]
  },
  {
   "cell_type": "markdown",
   "metadata": {},
   "source": [
    "### Resumen de lo obtenido.\n",
    "\n",
    "- Se trata de un problema de regresión.\n",
    "- Las variables "
   ]
  },
  {
   "cell_type": "markdown",
   "metadata": {},
   "source": [
    "### Separación de atributos"
   ]
  },
  {
   "cell_type": "code",
   "execution_count": null,
   "metadata": {},
   "outputs": [],
   "source": [
    "# variables de entrada (X).\n"
   ]
  },
  {
   "cell_type": "code",
   "execution_count": null,
   "metadata": {},
   "outputs": [],
   "source": [
    "# variables de salida (y).\n"
   ]
  },
  {
   "cell_type": "code",
   "execution_count": null,
   "metadata": {},
   "outputs": [],
   "source": [
    "# Habrá que escalar\n",
    "\n",
    "X = sotavento.data[sotavento.feature_names]"
   ]
  }
 ],
 "metadata": {
  "kernelspec": {
   "display_name": "Python 3",
   "language": "python",
   "name": "python3"
  },
  "language_info": {
   "codemirror_mode": {
    "name": "ipython",
    "version": 3
   },
   "file_extension": ".py",
   "mimetype": "text/x-python",
   "name": "python",
   "nbconvert_exporter": "python",
   "pygments_lexer": "ipython3",
   "version": "3.8.11"
  }
 },
 "nbformat": 4,
 "nbformat_minor": 2
}
